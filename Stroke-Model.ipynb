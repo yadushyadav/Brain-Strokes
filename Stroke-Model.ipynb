{
 "cells": [
  {
   "cell_type": "markdown",
   "metadata": {},
   "source": [
    "### Importing the libraries that will be used in the model"
   ]
  },
  {
   "cell_type": "code",
   "execution_count": 1,
   "metadata": {},
   "outputs": [],
   "source": [
    "# Data manipulation\n",
    "import pandas as pd\n",
    "import numpy as np\n",
    "\n",
    "# Synthetic over sampling of minority\n",
    "from imblearn.over_sampling import SMOTE\n",
    "\n",
    "# Complexity\n",
    "from datetime import datetime\n",
    "\n",
    "# Visualization\n",
    "import matplotlib.pyplot as plt\n",
    "import seaborn as sbn\n",
    "%matplotlib inline\n",
    "\n",
    "# Algorithms\n",
    "from sklearn.neural_network import MLPClassifier\n",
    "from sklearn.neighbors import KNeighborsClassifier\n",
    "from sklearn.svm import SVC\n",
    "from sklearn.gaussian_process import GaussianProcessClassifier\n",
    "from sklearn.gaussian_process.kernels import RBF\n",
    "from sklearn.tree import DecisionTreeClassifier\n",
    "from sklearn.ensemble import RandomForestClassifier, AdaBoostClassifier, GradientBoostingClassifier, ExtraTreesClassifier \n",
    "from sklearn.naive_bayes import GaussianNB\n",
    "from sklearn.discriminant_analysis import QuadraticDiscriminantAnalysis\n",
    "from sklearn.linear_model import LogisticRegression\n",
    "from sklearn.linear_model import SGDClassifier\n",
    "import xgboost as xgb\n",
    "from sklearn.ensemble import BaggingClassifier\n",
    "from catboost import CatBoostClassifier\n",
    "\n",
    "# Training\n",
    "from sklearn.model_selection import train_test_split\n",
    "from sklearn.model_selection import KFold, StratifiedKFold\n",
    "\n",
    "# Evaluating\n",
    "from sklearn.metrics import roc_auc_score\n",
    "from sklearn.metrics import f1_score, precision_score, recall_score"
   ]
  },
  {
   "cell_type": "markdown",
   "metadata": {},
   "source": [
    "### Loading the dataset into a pandas dataframe"
   ]
  },
  {
   "cell_type": "code",
   "execution_count": 2,
   "metadata": {},
   "outputs": [
    {
     "name": "stdout",
     "output_type": "stream",
     "text": [
      "<class 'pandas.core.frame.DataFrame'>\n",
      "RangeIndex: 43400 entries, 0 to 43399\n",
      "Data columns (total 12 columns):\n",
      "id                   43400 non-null int64\n",
      "gender               43400 non-null object\n",
      "age                  43400 non-null float64\n",
      "hypertension         43400 non-null int64\n",
      "heart_disease        43400 non-null int64\n",
      "ever_married         43400 non-null object\n",
      "work_type            43400 non-null object\n",
      "Residence_type       43400 non-null object\n",
      "avg_glucose_level    43400 non-null float64\n",
      "bmi                  41938 non-null float64\n",
      "smoking_status       30108 non-null object\n",
      "stroke               43400 non-null int64\n",
      "dtypes: float64(3), int64(4), object(5)\n",
      "memory usage: 4.0+ MB\n"
     ]
    }
   ],
   "source": [
    "df = pd.read_csv(\"/Users/yadushyadav/downloads/healthcare-stroke/train.csv\")\n",
    "df.info()"
   ]
  },
  {
   "cell_type": "markdown",
   "metadata": {},
   "source": [
    "### Viewing the dataset and fixing irregularities"
   ]
  },
  {
   "cell_type": "code",
   "execution_count": 3,
   "metadata": {},
   "outputs": [
    {
     "data": {
      "text/html": [
       "<div>\n",
       "<style scoped>\n",
       "    .dataframe tbody tr th:only-of-type {\n",
       "        vertical-align: middle;\n",
       "    }\n",
       "\n",
       "    .dataframe tbody tr th {\n",
       "        vertical-align: top;\n",
       "    }\n",
       "\n",
       "    .dataframe thead th {\n",
       "        text-align: right;\n",
       "    }\n",
       "</style>\n",
       "<table border=\"1\" class=\"dataframe\">\n",
       "  <thead>\n",
       "    <tr style=\"text-align: right;\">\n",
       "      <th></th>\n",
       "      <th>id</th>\n",
       "      <th>gender</th>\n",
       "      <th>age</th>\n",
       "      <th>hypertension</th>\n",
       "      <th>heart_disease</th>\n",
       "      <th>ever_married</th>\n",
       "      <th>work_type</th>\n",
       "      <th>Residence_type</th>\n",
       "      <th>avg_glucose_level</th>\n",
       "      <th>bmi</th>\n",
       "      <th>smoking_status</th>\n",
       "      <th>stroke</th>\n",
       "    </tr>\n",
       "  </thead>\n",
       "  <tbody>\n",
       "    <tr>\n",
       "      <th>0</th>\n",
       "      <td>30669</td>\n",
       "      <td>Male</td>\n",
       "      <td>3.0</td>\n",
       "      <td>0</td>\n",
       "      <td>0</td>\n",
       "      <td>No</td>\n",
       "      <td>children</td>\n",
       "      <td>Rural</td>\n",
       "      <td>95.12</td>\n",
       "      <td>18.0</td>\n",
       "      <td>NaN</td>\n",
       "      <td>0</td>\n",
       "    </tr>\n",
       "    <tr>\n",
       "      <th>1</th>\n",
       "      <td>30468</td>\n",
       "      <td>Male</td>\n",
       "      <td>58.0</td>\n",
       "      <td>1</td>\n",
       "      <td>0</td>\n",
       "      <td>Yes</td>\n",
       "      <td>Private</td>\n",
       "      <td>Urban</td>\n",
       "      <td>87.96</td>\n",
       "      <td>39.2</td>\n",
       "      <td>never smoked</td>\n",
       "      <td>0</td>\n",
       "    </tr>\n",
       "    <tr>\n",
       "      <th>2</th>\n",
       "      <td>16523</td>\n",
       "      <td>Female</td>\n",
       "      <td>8.0</td>\n",
       "      <td>0</td>\n",
       "      <td>0</td>\n",
       "      <td>No</td>\n",
       "      <td>Private</td>\n",
       "      <td>Urban</td>\n",
       "      <td>110.89</td>\n",
       "      <td>17.6</td>\n",
       "      <td>NaN</td>\n",
       "      <td>0</td>\n",
       "    </tr>\n",
       "    <tr>\n",
       "      <th>3</th>\n",
       "      <td>56543</td>\n",
       "      <td>Female</td>\n",
       "      <td>70.0</td>\n",
       "      <td>0</td>\n",
       "      <td>0</td>\n",
       "      <td>Yes</td>\n",
       "      <td>Private</td>\n",
       "      <td>Rural</td>\n",
       "      <td>69.04</td>\n",
       "      <td>35.9</td>\n",
       "      <td>formerly smoked</td>\n",
       "      <td>0</td>\n",
       "    </tr>\n",
       "    <tr>\n",
       "      <th>4</th>\n",
       "      <td>46136</td>\n",
       "      <td>Male</td>\n",
       "      <td>14.0</td>\n",
       "      <td>0</td>\n",
       "      <td>0</td>\n",
       "      <td>No</td>\n",
       "      <td>Never_worked</td>\n",
       "      <td>Rural</td>\n",
       "      <td>161.28</td>\n",
       "      <td>19.1</td>\n",
       "      <td>NaN</td>\n",
       "      <td>0</td>\n",
       "    </tr>\n",
       "  </tbody>\n",
       "</table>\n",
       "</div>"
      ],
      "text/plain": [
       "      id  gender   age  hypertension  heart_disease ever_married  \\\n",
       "0  30669    Male   3.0             0              0           No   \n",
       "1  30468    Male  58.0             1              0          Yes   \n",
       "2  16523  Female   8.0             0              0           No   \n",
       "3  56543  Female  70.0             0              0          Yes   \n",
       "4  46136    Male  14.0             0              0           No   \n",
       "\n",
       "      work_type Residence_type  avg_glucose_level   bmi   smoking_status  \\\n",
       "0      children          Rural              95.12  18.0              NaN   \n",
       "1       Private          Urban              87.96  39.2     never smoked   \n",
       "2       Private          Urban             110.89  17.6              NaN   \n",
       "3       Private          Rural              69.04  35.9  formerly smoked   \n",
       "4  Never_worked          Rural             161.28  19.1              NaN   \n",
       "\n",
       "   stroke  \n",
       "0       0  \n",
       "1       0  \n",
       "2       0  \n",
       "3       0  \n",
       "4       0  "
      ]
     },
     "execution_count": 3,
     "metadata": {},
     "output_type": "execute_result"
    }
   ],
   "source": [
    "df.head()"
   ]
  },
  {
   "cell_type": "code",
   "execution_count": 4,
   "metadata": {},
   "outputs": [
    {
     "data": {
      "text/plain": [
       "never smoked       16053\n",
       "formerly smoked     7493\n",
       "smokes              6562\n",
       "Name: smoking_status, dtype: int64"
      ]
     },
     "execution_count": 4,
     "metadata": {},
     "output_type": "execute_result"
    }
   ],
   "source": [
    "df['smoking_status'].value_counts()"
   ]
  },
  {
   "cell_type": "code",
   "execution_count": 5,
   "metadata": {},
   "outputs": [
    {
     "data": {
      "text/plain": [
       "0    42617\n",
       "1      783\n",
       "Name: stroke, dtype: int64"
      ]
     },
     "execution_count": 5,
     "metadata": {},
     "output_type": "execute_result"
    }
   ],
   "source": [
    "df['stroke'].value_counts()"
   ]
  },
  {
   "cell_type": "code",
   "execution_count": 6,
   "metadata": {},
   "outputs": [
    {
     "data": {
      "text/plain": [
       "Female    25665\n",
       "Male      17724\n",
       "Other        11\n",
       "Name: gender, dtype: int64"
      ]
     },
     "execution_count": 6,
     "metadata": {},
     "output_type": "execute_result"
    }
   ],
   "source": [
    "df['gender'].value_counts()"
   ]
  },
  {
   "cell_type": "code",
   "execution_count": 7,
   "metadata": {},
   "outputs": [
    {
     "name": "stdout",
     "output_type": "stream",
     "text": [
      "   gender    stroke\n",
      "0  Female  0.016793\n",
      "1    Male  0.019860\n",
      "2   Other  0.000000\n"
     ]
    }
   ],
   "source": [
    "print(df[[\"gender\", \"stroke\"]].groupby(['gender'], as_index=False).mean())"
   ]
  },
  {
   "cell_type": "code",
   "execution_count": 8,
   "metadata": {},
   "outputs": [],
   "source": [
    "df['gender'] = df['gender'].map({'Female': 0, 'Male': 1, 'Other': 2} ).astype(int)"
   ]
  },
  {
   "cell_type": "code",
   "execution_count": 9,
   "metadata": {},
   "outputs": [
    {
     "data": {
      "text/plain": [
       "Urban    21756\n",
       "Rural    21644\n",
       "Name: Residence_type, dtype: int64"
      ]
     },
     "execution_count": 9,
     "metadata": {},
     "output_type": "execute_result"
    }
   ],
   "source": [
    "df['Residence_type'].value_counts()"
   ]
  },
  {
   "cell_type": "code",
   "execution_count": 10,
   "metadata": {},
   "outputs": [],
   "source": [
    "df['Residence_type'] = df['Residence_type'].map({'Urban': 0, 'Rural': 1} ).astype(int)"
   ]
  },
  {
   "cell_type": "code",
   "execution_count": 11,
   "metadata": {},
   "outputs": [
    {
     "data": {
      "text/plain": [
       "Yes    27938\n",
       "No     15462\n",
       "Name: ever_married, dtype: int64"
      ]
     },
     "execution_count": 11,
     "metadata": {},
     "output_type": "execute_result"
    }
   ],
   "source": [
    "df['ever_married'].value_counts()"
   ]
  },
  {
   "cell_type": "code",
   "execution_count": 12,
   "metadata": {},
   "outputs": [],
   "source": [
    "df['ever_married'] = df['ever_married'].map({'Yes': 0, 'No': 1} ).astype(int)"
   ]
  },
  {
   "cell_type": "code",
   "execution_count": 13,
   "metadata": {},
   "outputs": [
    {
     "data": {
      "text/plain": [
       "Private          24834\n",
       "Self-employed     6793\n",
       "children          6156\n",
       "Govt_job          5440\n",
       "Never_worked       177\n",
       "Name: work_type, dtype: int64"
      ]
     },
     "execution_count": 13,
     "metadata": {},
     "output_type": "execute_result"
    }
   ],
   "source": [
    "df['work_type'].value_counts()"
   ]
  },
  {
   "cell_type": "code",
   "execution_count": 14,
   "metadata": {},
   "outputs": [],
   "source": [
    "df['work_type'] = df['work_type'].map({'Private': 0, 'Self-employed': 1, 'children': 2, 'Govt_job': 3, 'Never_worked': 4} ).astype(int)"
   ]
  },
  {
   "cell_type": "code",
   "execution_count": 15,
   "metadata": {},
   "outputs": [
    {
     "data": {
      "text/html": [
       "<div>\n",
       "<style scoped>\n",
       "    .dataframe tbody tr th:only-of-type {\n",
       "        vertical-align: middle;\n",
       "    }\n",
       "\n",
       "    .dataframe tbody tr th {\n",
       "        vertical-align: top;\n",
       "    }\n",
       "\n",
       "    .dataframe thead th {\n",
       "        text-align: right;\n",
       "    }\n",
       "</style>\n",
       "<table border=\"1\" class=\"dataframe\">\n",
       "  <thead>\n",
       "    <tr style=\"text-align: right;\">\n",
       "      <th></th>\n",
       "      <th>id</th>\n",
       "      <th>gender</th>\n",
       "      <th>age</th>\n",
       "      <th>hypertension</th>\n",
       "      <th>heart_disease</th>\n",
       "      <th>ever_married</th>\n",
       "      <th>work_type</th>\n",
       "      <th>Residence_type</th>\n",
       "      <th>avg_glucose_level</th>\n",
       "      <th>bmi</th>\n",
       "      <th>smoking_status</th>\n",
       "      <th>stroke</th>\n",
       "    </tr>\n",
       "  </thead>\n",
       "  <tbody>\n",
       "    <tr>\n",
       "      <th>0</th>\n",
       "      <td>30669</td>\n",
       "      <td>1</td>\n",
       "      <td>3.0</td>\n",
       "      <td>0</td>\n",
       "      <td>0</td>\n",
       "      <td>1</td>\n",
       "      <td>2</td>\n",
       "      <td>1</td>\n",
       "      <td>95.12</td>\n",
       "      <td>18.0</td>\n",
       "      <td>NaN</td>\n",
       "      <td>0</td>\n",
       "    </tr>\n",
       "    <tr>\n",
       "      <th>1</th>\n",
       "      <td>30468</td>\n",
       "      <td>1</td>\n",
       "      <td>58.0</td>\n",
       "      <td>1</td>\n",
       "      <td>0</td>\n",
       "      <td>0</td>\n",
       "      <td>0</td>\n",
       "      <td>0</td>\n",
       "      <td>87.96</td>\n",
       "      <td>39.2</td>\n",
       "      <td>never smoked</td>\n",
       "      <td>0</td>\n",
       "    </tr>\n",
       "    <tr>\n",
       "      <th>2</th>\n",
       "      <td>16523</td>\n",
       "      <td>0</td>\n",
       "      <td>8.0</td>\n",
       "      <td>0</td>\n",
       "      <td>0</td>\n",
       "      <td>1</td>\n",
       "      <td>0</td>\n",
       "      <td>0</td>\n",
       "      <td>110.89</td>\n",
       "      <td>17.6</td>\n",
       "      <td>NaN</td>\n",
       "      <td>0</td>\n",
       "    </tr>\n",
       "    <tr>\n",
       "      <th>3</th>\n",
       "      <td>56543</td>\n",
       "      <td>0</td>\n",
       "      <td>70.0</td>\n",
       "      <td>0</td>\n",
       "      <td>0</td>\n",
       "      <td>0</td>\n",
       "      <td>0</td>\n",
       "      <td>1</td>\n",
       "      <td>69.04</td>\n",
       "      <td>35.9</td>\n",
       "      <td>formerly smoked</td>\n",
       "      <td>0</td>\n",
       "    </tr>\n",
       "    <tr>\n",
       "      <th>4</th>\n",
       "      <td>46136</td>\n",
       "      <td>1</td>\n",
       "      <td>14.0</td>\n",
       "      <td>0</td>\n",
       "      <td>0</td>\n",
       "      <td>1</td>\n",
       "      <td>4</td>\n",
       "      <td>1</td>\n",
       "      <td>161.28</td>\n",
       "      <td>19.1</td>\n",
       "      <td>NaN</td>\n",
       "      <td>0</td>\n",
       "    </tr>\n",
       "  </tbody>\n",
       "</table>\n",
       "</div>"
      ],
      "text/plain": [
       "      id  gender   age  hypertension  heart_disease  ever_married  work_type  \\\n",
       "0  30669       1   3.0             0              0             1          2   \n",
       "1  30468       1  58.0             1              0             0          0   \n",
       "2  16523       0   8.0             0              0             1          0   \n",
       "3  56543       0  70.0             0              0             0          0   \n",
       "4  46136       1  14.0             0              0             1          4   \n",
       "\n",
       "   Residence_type  avg_glucose_level   bmi   smoking_status  stroke  \n",
       "0               1              95.12  18.0              NaN       0  \n",
       "1               0              87.96  39.2     never smoked       0  \n",
       "2               0             110.89  17.6              NaN       0  \n",
       "3               1              69.04  35.9  formerly smoked       0  \n",
       "4               1             161.28  19.1              NaN       0  "
      ]
     },
     "execution_count": 15,
     "metadata": {},
     "output_type": "execute_result"
    }
   ],
   "source": [
    "df.head()"
   ]
  },
  {
   "cell_type": "code",
   "execution_count": 16,
   "metadata": {},
   "outputs": [
    {
     "name": "stdout",
     "output_type": "stream",
     "text": [
      "0.3062672811059908\n"
     ]
    }
   ],
   "source": [
    "print(sum(pd.isnull(df['smoking_status']))/df.shape[0])"
   ]
  },
  {
   "cell_type": "markdown",
   "metadata": {},
   "source": [
    "30% of smoking_status values are NaN\n",
    "\n",
    "Finding correlation between smoking_status and other parameters"
   ]
  },
  {
   "cell_type": "code",
   "execution_count": 17,
   "metadata": {},
   "outputs": [],
   "source": [
    "temp = df[df['smoking_status'].isnull()==False]"
   ]
  },
  {
   "cell_type": "code",
   "execution_count": 18,
   "metadata": {},
   "outputs": [
    {
     "data": {
      "text/html": [
       "<div>\n",
       "<style scoped>\n",
       "    .dataframe tbody tr th:only-of-type {\n",
       "        vertical-align: middle;\n",
       "    }\n",
       "\n",
       "    .dataframe tbody tr th {\n",
       "        vertical-align: top;\n",
       "    }\n",
       "\n",
       "    .dataframe thead th {\n",
       "        text-align: right;\n",
       "    }\n",
       "</style>\n",
       "<table border=\"1\" class=\"dataframe\">\n",
       "  <thead>\n",
       "    <tr style=\"text-align: right;\">\n",
       "      <th></th>\n",
       "      <th>id</th>\n",
       "      <th>gender</th>\n",
       "      <th>age</th>\n",
       "      <th>hypertension</th>\n",
       "      <th>heart_disease</th>\n",
       "      <th>ever_married</th>\n",
       "      <th>work_type</th>\n",
       "      <th>Residence_type</th>\n",
       "      <th>avg_glucose_level</th>\n",
       "      <th>bmi</th>\n",
       "      <th>smoking_status</th>\n",
       "      <th>stroke</th>\n",
       "    </tr>\n",
       "  </thead>\n",
       "  <tbody>\n",
       "    <tr>\n",
       "      <th>1</th>\n",
       "      <td>30468</td>\n",
       "      <td>1</td>\n",
       "      <td>58.0</td>\n",
       "      <td>1</td>\n",
       "      <td>0</td>\n",
       "      <td>0</td>\n",
       "      <td>0</td>\n",
       "      <td>0</td>\n",
       "      <td>87.96</td>\n",
       "      <td>39.2</td>\n",
       "      <td>never smoked</td>\n",
       "      <td>0</td>\n",
       "    </tr>\n",
       "    <tr>\n",
       "      <th>3</th>\n",
       "      <td>56543</td>\n",
       "      <td>0</td>\n",
       "      <td>70.0</td>\n",
       "      <td>0</td>\n",
       "      <td>0</td>\n",
       "      <td>0</td>\n",
       "      <td>0</td>\n",
       "      <td>1</td>\n",
       "      <td>69.04</td>\n",
       "      <td>35.9</td>\n",
       "      <td>formerly smoked</td>\n",
       "      <td>0</td>\n",
       "    </tr>\n",
       "    <tr>\n",
       "      <th>6</th>\n",
       "      <td>52800</td>\n",
       "      <td>0</td>\n",
       "      <td>52.0</td>\n",
       "      <td>0</td>\n",
       "      <td>0</td>\n",
       "      <td>0</td>\n",
       "      <td>0</td>\n",
       "      <td>0</td>\n",
       "      <td>77.59</td>\n",
       "      <td>17.7</td>\n",
       "      <td>formerly smoked</td>\n",
       "      <td>0</td>\n",
       "    </tr>\n",
       "    <tr>\n",
       "      <th>7</th>\n",
       "      <td>41413</td>\n",
       "      <td>0</td>\n",
       "      <td>75.0</td>\n",
       "      <td>0</td>\n",
       "      <td>1</td>\n",
       "      <td>0</td>\n",
       "      <td>1</td>\n",
       "      <td>1</td>\n",
       "      <td>243.53</td>\n",
       "      <td>27.0</td>\n",
       "      <td>never smoked</td>\n",
       "      <td>0</td>\n",
       "    </tr>\n",
       "    <tr>\n",
       "      <th>8</th>\n",
       "      <td>15266</td>\n",
       "      <td>0</td>\n",
       "      <td>32.0</td>\n",
       "      <td>0</td>\n",
       "      <td>0</td>\n",
       "      <td>0</td>\n",
       "      <td>0</td>\n",
       "      <td>1</td>\n",
       "      <td>77.67</td>\n",
       "      <td>32.3</td>\n",
       "      <td>smokes</td>\n",
       "      <td>0</td>\n",
       "    </tr>\n",
       "  </tbody>\n",
       "</table>\n",
       "</div>"
      ],
      "text/plain": [
       "      id  gender   age  hypertension  heart_disease  ever_married  work_type  \\\n",
       "1  30468       1  58.0             1              0             0          0   \n",
       "3  56543       0  70.0             0              0             0          0   \n",
       "6  52800       0  52.0             0              0             0          0   \n",
       "7  41413       0  75.0             0              1             0          1   \n",
       "8  15266       0  32.0             0              0             0          0   \n",
       "\n",
       "   Residence_type  avg_glucose_level   bmi   smoking_status  stroke  \n",
       "1               0              87.96  39.2     never smoked       0  \n",
       "3               1              69.04  35.9  formerly smoked       0  \n",
       "6               0              77.59  17.7  formerly smoked       0  \n",
       "7               1             243.53  27.0     never smoked       0  \n",
       "8               1              77.67  32.3           smokes       0  "
      ]
     },
     "execution_count": 18,
     "metadata": {},
     "output_type": "execute_result"
    }
   ],
   "source": [
    "temp.head()"
   ]
  },
  {
   "cell_type": "code",
   "execution_count": 19,
   "metadata": {},
   "outputs": [
    {
     "data": {
      "text/plain": [
       "never smoked       16053\n",
       "formerly smoked     7493\n",
       "smokes              6562\n",
       "Name: smoking_status, dtype: int64"
      ]
     },
     "execution_count": 19,
     "metadata": {},
     "output_type": "execute_result"
    }
   ],
   "source": [
    "temp['smoking_status'].value_counts()"
   ]
  },
  {
   "cell_type": "code",
   "execution_count": 20,
   "metadata": {},
   "outputs": [
    {
     "name": "stderr",
     "output_type": "stream",
     "text": [
      "/Users/yadushyadav/anaconda3/lib/python3.6/site-packages/ipykernel_launcher.py:1: SettingWithCopyWarning: \n",
      "A value is trying to be set on a copy of a slice from a DataFrame.\n",
      "Try using .loc[row_indexer,col_indexer] = value instead\n",
      "\n",
      "See the caveats in the documentation: http://pandas.pydata.org/pandas-docs/stable/indexing.html#indexing-view-versus-copy\n",
      "  \"\"\"Entry point for launching an IPython kernel.\n"
     ]
    }
   ],
   "source": [
    "temp['smoking_status'] = temp['smoking_status'].map({'never smoked': 0, 'formerly smoked': 1, 'smokes': 2} ).astype(int)"
   ]
  },
  {
   "cell_type": "markdown",
   "metadata": {},
   "source": [
    "### Correlation between all the parameters"
   ]
  },
  {
   "cell_type": "code",
   "execution_count": 21,
   "metadata": {},
   "outputs": [
    {
     "data": {
      "image/png": "[encoded data removed]",
      "text/plain": [
       "<Figure size 864x864 with 2 Axes>"
      ]
     },
     "metadata": {},
     "output_type": "display_data"
    }
   ],
   "source": [
    "def corrmap(df):\n",
    "    fig , ax = plt.subplots(figsize =(12, 12))\n",
    "    fig = sbn.heatmap(df.corr(), cmap = sbn.diverging_palette(100, 200, as_cmap = True), cbar_kws={'shrink':.9 }, ax=ax,annot=True, linewidths=0.05, vmin=-1.0, vmax=1.0, linecolor='white')\n",
    "\n",
    "corrmap(temp)"
   ]
  },
  {
   "cell_type": "code",
   "execution_count": 22,
   "metadata": {},
   "outputs": [],
   "source": [
    "temp = df"
   ]
  },
  {
   "cell_type": "markdown",
   "metadata": {},
   "source": [
    "The age of the oldest person"
   ]
  },
  {
   "cell_type": "code",
   "execution_count": 23,
   "metadata": {},
   "outputs": [
    {
     "data": {
      "text/plain": [
       "82.0"
      ]
     },
     "execution_count": 23,
     "metadata": {},
     "output_type": "execute_result"
    }
   ],
   "source": [
    "temp['age'].max()"
   ]
  },
  {
   "cell_type": "markdown",
   "metadata": {},
   "source": [
    "Dividing the age into categories with an interval of 10 years"
   ]
  },
  {
   "cell_type": "code",
   "execution_count": 24,
   "metadata": {},
   "outputs": [],
   "source": [
    "def ageconv(x):\n",
    "    if x<=10:\n",
    "        return 0\n",
    "    if x<=20:\n",
    "        return 1\n",
    "    if x<=30:\n",
    "        return 2  \n",
    "    if x<=40:\n",
    "        return 3\n",
    "    if x<=50:\n",
    "        return 4\n",
    "    if x<=60:\n",
    "        return 5\n",
    "    if x<=70:\n",
    "        return 6\n",
    "    if x<=80:\n",
    "        return 7\n",
    "    if x<=90:\n",
    "        return 8\n",
    "    \n",
    "temp['agecat'] = df['age'].apply(lambda x: ageconv(x))"
   ]
  },
  {
   "cell_type": "code",
   "execution_count": 25,
   "metadata": {},
   "outputs": [
    {
     "data": {
      "text/plain": [
       "5    6691\n",
       "4    6441\n",
       "3    5521\n",
       "6    5229\n",
       "2    5221\n",
       "0    4598\n",
       "1    4417\n",
       "7    4393\n",
       "8     889\n",
       "Name: agecat, dtype: int64"
      ]
     },
     "execution_count": 25,
     "metadata": {},
     "output_type": "execute_result"
    }
   ],
   "source": [
    "temp['agecat'].value_counts()"
   ]
  },
  {
   "cell_type": "code",
   "execution_count": 26,
   "metadata": {},
   "outputs": [
    {
     "data": {
      "text/plain": [
       "<matplotlib.axes._subplots.AxesSubplot at 0x1a0fa65940>"
      ]
     },
     "execution_count": 26,
     "metadata": {},
     "output_type": "execute_result"
    },
    {
     "data": {
      "image/png": "[encoded data removed]",
      "text/plain": [
       "<Figure size 432x288 with 1 Axes>"
      ]
     },
     "metadata": {},
     "output_type": "display_data"
    }
   ],
   "source": [
    "sbn.boxplot(temp['smoking_status'],temp['age'])"
   ]
  },
  {
   "cell_type": "markdown",
   "metadata": {},
   "source": [
    "Using the boxplot, it can be seen that people less than 20 years old are unlikely to be smokers"
   ]
  },
  {
   "cell_type": "markdown",
   "metadata": {},
   "source": [
    "The NaN and value counts for ages less than multiple of 10s"
   ]
  },
  {
   "cell_type": "code",
   "execution_count": 27,
   "metadata": {},
   "outputs": [
    {
     "name": "stdout",
     "output_type": "stream",
     "text": [
      "Age less than 10\n",
      "NaN values: 4285\n",
      "Series([], Name: smoking_status, dtype: int64) \n",
      "\n",
      "Age less than 20\n",
      "NaN values: 6444\n",
      "never smoked       1621\n",
      "formerly smoked     269\n",
      "smokes              177\n",
      "Name: smoking_status, dtype: int64 \n",
      "\n",
      "Age less than 30\n",
      "NaN values: 7529\n",
      "never smoked       4017\n",
      "smokes             1247\n",
      "formerly smoked     918\n",
      "Name: smoking_status, dtype: int64 \n",
      "\n",
      "Age less than 40\n",
      "NaN values: 8668\n",
      "never smoked       6441\n",
      "smokes             2366\n",
      "formerly smoked    1708\n",
      "Name: smoking_status, dtype: int64 \n",
      "\n",
      "Age less than 50\n",
      "NaN values: 9894\n",
      "never smoked       9156\n",
      "smokes             3702\n",
      "formerly smoked    2752\n",
      "Name: smoking_status, dtype: int64 \n",
      "\n",
      "Age less than 60\n",
      "NaN values: 11153\n",
      "never smoked       11857\n",
      "smokes              5057\n",
      "formerly smoked     4206\n",
      "Name: smoking_status, dtype: int64 \n",
      "\n",
      "Age less than 70\n",
      "NaN values: 12158\n",
      "never smoked       13865\n",
      "smokes              5936\n",
      "formerly smoked     5713\n",
      "Name: smoking_status, dtype: int64 \n",
      "\n",
      "Age less than 80\n",
      "NaN values: 13002\n",
      "never smoked       15467\n",
      "formerly smoked     7057\n",
      "smokes              6442\n",
      "Name: smoking_status, dtype: int64 \n",
      "\n",
      "Age less than 90\n",
      "NaN values: 13292\n",
      "never smoked       16053\n",
      "formerly smoked     7493\n",
      "smokes              6562\n",
      "Name: smoking_status, dtype: int64 \n",
      "\n"
     ]
    }
   ],
   "source": [
    "for x in range(10,100,10):\n",
    "    print(\"Age less than\",x)\n",
    "    temp = df[df['age']<x]\n",
    "    print(\"NaN values:\",temp['smoking_status'].isnull().sum(axis=0))\n",
    "    print(temp['smoking_status'].value_counts(),\"\\n\")"
   ]
  },
  {
   "cell_type": "markdown",
   "metadata": {},
   "source": [
    "From the boxplot, all the people less than 20 years old whose smoking_status is NaN, can be filled as 'never smoked'"
   ]
  },
  {
   "cell_type": "code",
   "execution_count": 28,
   "metadata": {},
   "outputs": [
    {
     "data": {
      "text/html": [
       "<div>\n",
       "<style scoped>\n",
       "    .dataframe tbody tr th:only-of-type {\n",
       "        vertical-align: middle;\n",
       "    }\n",
       "\n",
       "    .dataframe tbody tr th {\n",
       "        vertical-align: top;\n",
       "    }\n",
       "\n",
       "    .dataframe thead th {\n",
       "        text-align: right;\n",
       "    }\n",
       "</style>\n",
       "<table border=\"1\" class=\"dataframe\">\n",
       "  <thead>\n",
       "    <tr style=\"text-align: right;\">\n",
       "      <th></th>\n",
       "      <th>id</th>\n",
       "      <th>gender</th>\n",
       "      <th>age</th>\n",
       "      <th>hypertension</th>\n",
       "      <th>heart_disease</th>\n",
       "      <th>ever_married</th>\n",
       "      <th>work_type</th>\n",
       "      <th>Residence_type</th>\n",
       "      <th>avg_glucose_level</th>\n",
       "      <th>bmi</th>\n",
       "      <th>smoking_status</th>\n",
       "      <th>stroke</th>\n",
       "      <th>agecat</th>\n",
       "    </tr>\n",
       "  </thead>\n",
       "  <tbody>\n",
       "    <tr>\n",
       "      <th>0</th>\n",
       "      <td>30669</td>\n",
       "      <td>1</td>\n",
       "      <td>3.0</td>\n",
       "      <td>0</td>\n",
       "      <td>0</td>\n",
       "      <td>1</td>\n",
       "      <td>2</td>\n",
       "      <td>1</td>\n",
       "      <td>95.12</td>\n",
       "      <td>18.0</td>\n",
       "      <td>never smoked</td>\n",
       "      <td>0</td>\n",
       "      <td>0</td>\n",
       "    </tr>\n",
       "    <tr>\n",
       "      <th>1</th>\n",
       "      <td>30468</td>\n",
       "      <td>1</td>\n",
       "      <td>58.0</td>\n",
       "      <td>1</td>\n",
       "      <td>0</td>\n",
       "      <td>0</td>\n",
       "      <td>0</td>\n",
       "      <td>0</td>\n",
       "      <td>87.96</td>\n",
       "      <td>39.2</td>\n",
       "      <td>never smoked</td>\n",
       "      <td>0</td>\n",
       "      <td>5</td>\n",
       "    </tr>\n",
       "    <tr>\n",
       "      <th>2</th>\n",
       "      <td>16523</td>\n",
       "      <td>0</td>\n",
       "      <td>8.0</td>\n",
       "      <td>0</td>\n",
       "      <td>0</td>\n",
       "      <td>1</td>\n",
       "      <td>0</td>\n",
       "      <td>0</td>\n",
       "      <td>110.89</td>\n",
       "      <td>17.6</td>\n",
       "      <td>never smoked</td>\n",
       "      <td>0</td>\n",
       "      <td>0</td>\n",
       "    </tr>\n",
       "    <tr>\n",
       "      <th>3</th>\n",
       "      <td>56543</td>\n",
       "      <td>0</td>\n",
       "      <td>70.0</td>\n",
       "      <td>0</td>\n",
       "      <td>0</td>\n",
       "      <td>0</td>\n",
       "      <td>0</td>\n",
       "      <td>1</td>\n",
       "      <td>69.04</td>\n",
       "      <td>35.9</td>\n",
       "      <td>formerly smoked</td>\n",
       "      <td>0</td>\n",
       "      <td>6</td>\n",
       "    </tr>\n",
       "    <tr>\n",
       "      <th>4</th>\n",
       "      <td>46136</td>\n",
       "      <td>1</td>\n",
       "      <td>14.0</td>\n",
       "      <td>0</td>\n",
       "      <td>0</td>\n",
       "      <td>1</td>\n",
       "      <td>4</td>\n",
       "      <td>1</td>\n",
       "      <td>161.28</td>\n",
       "      <td>19.1</td>\n",
       "      <td>never smoked</td>\n",
       "      <td>0</td>\n",
       "      <td>1</td>\n",
       "    </tr>\n",
       "  </tbody>\n",
       "</table>\n",
       "</div>"
      ],
      "text/plain": [
       "      id  gender   age  hypertension  heart_disease  ever_married  work_type  \\\n",
       "0  30669       1   3.0             0              0             1          2   \n",
       "1  30468       1  58.0             1              0             0          0   \n",
       "2  16523       0   8.0             0              0             1          0   \n",
       "3  56543       0  70.0             0              0             0          0   \n",
       "4  46136       1  14.0             0              0             1          4   \n",
       "\n",
       "   Residence_type  avg_glucose_level   bmi   smoking_status  stroke  agecat  \n",
       "0               1              95.12  18.0     never smoked       0       0  \n",
       "1               0              87.96  39.2     never smoked       0       5  \n",
       "2               0             110.89  17.6     never smoked       0       0  \n",
       "3               1              69.04  35.9  formerly smoked       0       6  \n",
       "4               1             161.28  19.1     never smoked       0       1  "
      ]
     },
     "execution_count": 28,
     "metadata": {},
     "output_type": "execute_result"
    }
   ],
   "source": [
    "def fillsmoking(x):\n",
    "    if pd.isnull(x['smoking_status']):\n",
    "        if x['age']<20:\n",
    "            x['smoking_status'] = \"never smoked\"\n",
    "    return x\n",
    "\n",
    "df = df.apply(lambda x : fillsmoking(x),axis=1)\n",
    "df.head()    "
   ]
  },
  {
   "cell_type": "code",
   "execution_count": 29,
   "metadata": {},
   "outputs": [
    {
     "data": {
      "text/plain": [
       "never smoked       22497\n",
       "formerly smoked     7493\n",
       "unknown             6848\n",
       "smokes              6562\n",
       "Name: smoking_status, dtype: int64"
      ]
     },
     "execution_count": 29,
     "metadata": {},
     "output_type": "execute_result"
    }
   ],
   "source": [
    "df['smoking_status'] = df['smoking_status'].fillna('unknown')\n",
    "df['smoking_status'].value_counts()"
   ]
  },
  {
   "cell_type": "code",
   "execution_count": 30,
   "metadata": {},
   "outputs": [],
   "source": [
    "df['smoking_status'] = df['smoking_status'].map({'never smoked': 0, 'formerly smoked': 1, 'smokes': 2, 'unknown': 3} ).astype(int)"
   ]
  },
  {
   "cell_type": "markdown",
   "metadata": {},
   "source": [
    "Unknown can be dropped later on if found to be of low importance"
   ]
  },
  {
   "cell_type": "code",
   "execution_count": 31,
   "metadata": {},
   "outputs": [
    {
     "data": {
      "text/plain": [
       "0    22497\n",
       "1     7493\n",
       "3     6848\n",
       "2     6562\n",
       "Name: smoking_status, dtype: int64"
      ]
     },
     "execution_count": 31,
     "metadata": {},
     "output_type": "execute_result"
    }
   ],
   "source": [
    "df['smoking_status'].value_counts()"
   ]
  },
  {
   "cell_type": "code",
   "execution_count": 32,
   "metadata": {},
   "outputs": [
    {
     "data": {
      "text/html": [
       "<div>\n",
       "<style scoped>\n",
       "    .dataframe tbody tr th:only-of-type {\n",
       "        vertical-align: middle;\n",
       "    }\n",
       "\n",
       "    .dataframe tbody tr th {\n",
       "        vertical-align: top;\n",
       "    }\n",
       "\n",
       "    .dataframe thead th {\n",
       "        text-align: right;\n",
       "    }\n",
       "</style>\n",
       "<table border=\"1\" class=\"dataframe\">\n",
       "  <thead>\n",
       "    <tr style=\"text-align: right;\">\n",
       "      <th></th>\n",
       "      <th>id</th>\n",
       "      <th>gender</th>\n",
       "      <th>age</th>\n",
       "      <th>hypertension</th>\n",
       "      <th>heart_disease</th>\n",
       "      <th>ever_married</th>\n",
       "      <th>work_type</th>\n",
       "      <th>Residence_type</th>\n",
       "      <th>avg_glucose_level</th>\n",
       "      <th>bmi</th>\n",
       "      <th>smoking_status</th>\n",
       "      <th>stroke</th>\n",
       "      <th>agecat</th>\n",
       "    </tr>\n",
       "  </thead>\n",
       "  <tbody>\n",
       "    <tr>\n",
       "      <th>0</th>\n",
       "      <td>30669</td>\n",
       "      <td>1</td>\n",
       "      <td>3.0</td>\n",
       "      <td>0</td>\n",
       "      <td>0</td>\n",
       "      <td>1</td>\n",
       "      <td>2</td>\n",
       "      <td>1</td>\n",
       "      <td>95.12</td>\n",
       "      <td>18.0</td>\n",
       "      <td>0</td>\n",
       "      <td>0</td>\n",
       "      <td>0</td>\n",
       "    </tr>\n",
       "    <tr>\n",
       "      <th>1</th>\n",
       "      <td>30468</td>\n",
       "      <td>1</td>\n",
       "      <td>58.0</td>\n",
       "      <td>1</td>\n",
       "      <td>0</td>\n",
       "      <td>0</td>\n",
       "      <td>0</td>\n",
       "      <td>0</td>\n",
       "      <td>87.96</td>\n",
       "      <td>39.2</td>\n",
       "      <td>0</td>\n",
       "      <td>0</td>\n",
       "      <td>5</td>\n",
       "    </tr>\n",
       "    <tr>\n",
       "      <th>2</th>\n",
       "      <td>16523</td>\n",
       "      <td>0</td>\n",
       "      <td>8.0</td>\n",
       "      <td>0</td>\n",
       "      <td>0</td>\n",
       "      <td>1</td>\n",
       "      <td>0</td>\n",
       "      <td>0</td>\n",
       "      <td>110.89</td>\n",
       "      <td>17.6</td>\n",
       "      <td>0</td>\n",
       "      <td>0</td>\n",
       "      <td>0</td>\n",
       "    </tr>\n",
       "    <tr>\n",
       "      <th>3</th>\n",
       "      <td>56543</td>\n",
       "      <td>0</td>\n",
       "      <td>70.0</td>\n",
       "      <td>0</td>\n",
       "      <td>0</td>\n",
       "      <td>0</td>\n",
       "      <td>0</td>\n",
       "      <td>1</td>\n",
       "      <td>69.04</td>\n",
       "      <td>35.9</td>\n",
       "      <td>1</td>\n",
       "      <td>0</td>\n",
       "      <td>6</td>\n",
       "    </tr>\n",
       "    <tr>\n",
       "      <th>4</th>\n",
       "      <td>46136</td>\n",
       "      <td>1</td>\n",
       "      <td>14.0</td>\n",
       "      <td>0</td>\n",
       "      <td>0</td>\n",
       "      <td>1</td>\n",
       "      <td>4</td>\n",
       "      <td>1</td>\n",
       "      <td>161.28</td>\n",
       "      <td>19.1</td>\n",
       "      <td>0</td>\n",
       "      <td>0</td>\n",
       "      <td>1</td>\n",
       "    </tr>\n",
       "  </tbody>\n",
       "</table>\n",
       "</div>"
      ],
      "text/plain": [
       "      id  gender   age  hypertension  heart_disease  ever_married  work_type  \\\n",
       "0  30669       1   3.0             0              0             1          2   \n",
       "1  30468       1  58.0             1              0             0          0   \n",
       "2  16523       0   8.0             0              0             1          0   \n",
       "3  56543       0  70.0             0              0             0          0   \n",
       "4  46136       1  14.0             0              0             1          4   \n",
       "\n",
       "   Residence_type  avg_glucose_level   bmi  smoking_status  stroke  agecat  \n",
       "0               1              95.12  18.0               0       0       0  \n",
       "1               0              87.96  39.2               0       0       5  \n",
       "2               0             110.89  17.6               0       0       0  \n",
       "3               1              69.04  35.9               1       0       6  \n",
       "4               1             161.28  19.1               0       0       1  "
      ]
     },
     "execution_count": 32,
     "metadata": {},
     "output_type": "execute_result"
    }
   ],
   "source": [
    "df.head()"
   ]
  },
  {
   "cell_type": "code",
   "execution_count": 33,
   "metadata": {},
   "outputs": [
    {
     "name": "stdout",
     "output_type": "stream",
     "text": [
      "Unique ID's :  43400\n"
     ]
    }
   ],
   "source": [
    "print(\"Unique ID's : \", len(df['id'].unique()))"
   ]
  },
  {
   "cell_type": "markdown",
   "metadata": {},
   "source": [
    "Since, 'id' is unique for everyone, it won't be useful in classification and can be dropped"
   ]
  },
  {
   "cell_type": "code",
   "execution_count": 34,
   "metadata": {},
   "outputs": [],
   "source": [
    "df.drop('id',axis=1,inplace=True)"
   ]
  },
  {
   "cell_type": "code",
   "execution_count": 35,
   "metadata": {},
   "outputs": [
    {
     "data": {
      "text/html": [
       "<div>\n",
       "<style scoped>\n",
       "    .dataframe tbody tr th:only-of-type {\n",
       "        vertical-align: middle;\n",
       "    }\n",
       "\n",
       "    .dataframe tbody tr th {\n",
       "        vertical-align: top;\n",
       "    }\n",
       "\n",
       "    .dataframe thead th {\n",
       "        text-align: right;\n",
       "    }\n",
       "</style>\n",
       "<table border=\"1\" class=\"dataframe\">\n",
       "  <thead>\n",
       "    <tr style=\"text-align: right;\">\n",
       "      <th></th>\n",
       "      <th>gender</th>\n",
       "      <th>age</th>\n",
       "      <th>hypertension</th>\n",
       "      <th>heart_disease</th>\n",
       "      <th>ever_married</th>\n",
       "      <th>work_type</th>\n",
       "      <th>Residence_type</th>\n",
       "      <th>avg_glucose_level</th>\n",
       "      <th>bmi</th>\n",
       "      <th>smoking_status</th>\n",
       "      <th>stroke</th>\n",
       "      <th>agecat</th>\n",
       "    </tr>\n",
       "  </thead>\n",
       "  <tbody>\n",
       "    <tr>\n",
       "      <th>count</th>\n",
       "      <td>43400.000000</td>\n",
       "      <td>43400.000000</td>\n",
       "      <td>43400.000000</td>\n",
       "      <td>43400.000000</td>\n",
       "      <td>43400.000000</td>\n",
       "      <td>43400.000000</td>\n",
       "      <td>43400.000000</td>\n",
       "      <td>43400.000000</td>\n",
       "      <td>41938.000000</td>\n",
       "      <td>43400.000000</td>\n",
       "      <td>43400.000000</td>\n",
       "      <td>43400.000000</td>\n",
       "    </tr>\n",
       "    <tr>\n",
       "      <th>mean</th>\n",
       "      <td>0.408894</td>\n",
       "      <td>42.217894</td>\n",
       "      <td>0.093571</td>\n",
       "      <td>0.047512</td>\n",
       "      <td>0.356267</td>\n",
       "      <td>0.832558</td>\n",
       "      <td>0.498710</td>\n",
       "      <td>104.482750</td>\n",
       "      <td>28.605038</td>\n",
       "      <td>0.948410</td>\n",
       "      <td>0.018041</td>\n",
       "      <td>3.683825</td>\n",
       "    </tr>\n",
       "    <tr>\n",
       "      <th>std</th>\n",
       "      <td>0.492151</td>\n",
       "      <td>22.519649</td>\n",
       "      <td>0.291235</td>\n",
       "      <td>0.212733</td>\n",
       "      <td>0.478901</td>\n",
       "      <td>1.106406</td>\n",
       "      <td>0.500004</td>\n",
       "      <td>43.111751</td>\n",
       "      <td>7.770020</td>\n",
       "      <td>1.139334</td>\n",
       "      <td>0.133103</td>\n",
       "      <td>2.234833</td>\n",
       "    </tr>\n",
       "    <tr>\n",
       "      <th>min</th>\n",
       "      <td>0.000000</td>\n",
       "      <td>0.080000</td>\n",
       "      <td>0.000000</td>\n",
       "      <td>0.000000</td>\n",
       "      <td>0.000000</td>\n",
       "      <td>0.000000</td>\n",
       "      <td>0.000000</td>\n",
       "      <td>55.000000</td>\n",
       "      <td>10.100000</td>\n",
       "      <td>0.000000</td>\n",
       "      <td>0.000000</td>\n",
       "      <td>0.000000</td>\n",
       "    </tr>\n",
       "    <tr>\n",
       "      <th>25%</th>\n",
       "      <td>0.000000</td>\n",
       "      <td>24.000000</td>\n",
       "      <td>0.000000</td>\n",
       "      <td>0.000000</td>\n",
       "      <td>0.000000</td>\n",
       "      <td>0.000000</td>\n",
       "      <td>0.000000</td>\n",
       "      <td>77.540000</td>\n",
       "      <td>23.200000</td>\n",
       "      <td>0.000000</td>\n",
       "      <td>0.000000</td>\n",
       "      <td>2.000000</td>\n",
       "    </tr>\n",
       "    <tr>\n",
       "      <th>50%</th>\n",
       "      <td>0.000000</td>\n",
       "      <td>44.000000</td>\n",
       "      <td>0.000000</td>\n",
       "      <td>0.000000</td>\n",
       "      <td>0.000000</td>\n",
       "      <td>0.000000</td>\n",
       "      <td>0.000000</td>\n",
       "      <td>91.580000</td>\n",
       "      <td>27.700000</td>\n",
       "      <td>0.000000</td>\n",
       "      <td>0.000000</td>\n",
       "      <td>4.000000</td>\n",
       "    </tr>\n",
       "    <tr>\n",
       "      <th>75%</th>\n",
       "      <td>1.000000</td>\n",
       "      <td>60.000000</td>\n",
       "      <td>0.000000</td>\n",
       "      <td>0.000000</td>\n",
       "      <td>1.000000</td>\n",
       "      <td>2.000000</td>\n",
       "      <td>1.000000</td>\n",
       "      <td>112.070000</td>\n",
       "      <td>32.900000</td>\n",
       "      <td>2.000000</td>\n",
       "      <td>0.000000</td>\n",
       "      <td>5.000000</td>\n",
       "    </tr>\n",
       "    <tr>\n",
       "      <th>max</th>\n",
       "      <td>2.000000</td>\n",
       "      <td>82.000000</td>\n",
       "      <td>1.000000</td>\n",
       "      <td>1.000000</td>\n",
       "      <td>1.000000</td>\n",
       "      <td>4.000000</td>\n",
       "      <td>1.000000</td>\n",
       "      <td>291.050000</td>\n",
       "      <td>97.600000</td>\n",
       "      <td>3.000000</td>\n",
       "      <td>1.000000</td>\n",
       "      <td>8.000000</td>\n",
       "    </tr>\n",
       "  </tbody>\n",
       "</table>\n",
       "</div>"
      ],
      "text/plain": [
       "             gender           age  hypertension  heart_disease  ever_married  \\\n",
       "count  43400.000000  43400.000000  43400.000000   43400.000000  43400.000000   \n",
       "mean       0.408894     42.217894      0.093571       0.047512      0.356267   \n",
       "std        0.492151     22.519649      0.291235       0.212733      0.478901   \n",
       "min        0.000000      0.080000      0.000000       0.000000      0.000000   \n",
       "25%        0.000000     24.000000      0.000000       0.000000      0.000000   \n",
       "50%        0.000000     44.000000      0.000000       0.000000      0.000000   \n",
       "75%        1.000000     60.000000      0.000000       0.000000      1.000000   \n",
       "max        2.000000     82.000000      1.000000       1.000000      1.000000   \n",
       "\n",
       "          work_type  Residence_type  avg_glucose_level           bmi  \\\n",
       "count  43400.000000    43400.000000       43400.000000  41938.000000   \n",
       "mean       0.832558        0.498710         104.482750     28.605038   \n",
       "std        1.106406        0.500004          43.111751      7.770020   \n",
       "min        0.000000        0.000000          55.000000     10.100000   \n",
       "25%        0.000000        0.000000          77.540000     23.200000   \n",
       "50%        0.000000        0.000000          91.580000     27.700000   \n",
       "75%        2.000000        1.000000         112.070000     32.900000   \n",
       "max        4.000000        1.000000         291.050000     97.600000   \n",
       "\n",
       "       smoking_status        stroke        agecat  \n",
       "count    43400.000000  43400.000000  43400.000000  \n",
       "mean         0.948410      0.018041      3.683825  \n",
       "std          1.139334      0.133103      2.234833  \n",
       "min          0.000000      0.000000      0.000000  \n",
       "25%          0.000000      0.000000      2.000000  \n",
       "50%          0.000000      0.000000      4.000000  \n",
       "75%          2.000000      0.000000      5.000000  \n",
       "max          3.000000      1.000000      8.000000  "
      ]
     },
     "execution_count": 35,
     "metadata": {},
     "output_type": "execute_result"
    }
   ],
   "source": [
    "df.describe()"
   ]
  },
  {
   "cell_type": "code",
   "execution_count": 36,
   "metadata": {},
   "outputs": [
    {
     "data": {
      "text/plain": [
       "<matplotlib.axes._subplots.AxesSubplot at 0x1098c7550>"
      ]
     },
     "execution_count": 36,
     "metadata": {},
     "output_type": "execute_result"
    },
    {
     "data": {
      "image/png": "[encoded data removed]",
      "text/plain": [
       "<Figure size 432x288 with 1 Axes>"
      ]
     },
     "metadata": {},
     "output_type": "display_data"
    }
   ],
   "source": [
    "x = df.columns\n",
    "x = x.drop('stroke')\n",
    "arr = []\n",
    "for c in x:\n",
    "    arr.append(df['stroke'].corr(df[c]))\n",
    "    \n",
    "sbn.barplot(arr,x)"
   ]
  },
  {
   "cell_type": "code",
   "execution_count": 37,
   "metadata": {},
   "outputs": [
    {
     "name": "stdout",
     "output_type": "stream",
     "text": [
      "stroke              0    1\n",
      "smoking_status            \n",
      "0               22211  286\n",
      "1                7272  221\n",
      "2                6429  133\n",
      "3                6705  143\n"
     ]
    }
   ],
   "source": [
    "print(pd.crosstab(df['smoking_status'],df['stroke']))"
   ]
  },
  {
   "cell_type": "code",
   "execution_count": 38,
   "metadata": {},
   "outputs": [
    {
     "name": "stdout",
     "output_type": "stream",
     "text": [
      "0.01804147465437788\n"
     ]
    }
   ],
   "source": [
    "print(len(df[df['stroke']==1])/df.shape[0])"
   ]
  },
  {
   "cell_type": "code",
   "execution_count": 39,
   "metadata": {},
   "outputs": [
    {
     "data": {
      "image/png": "[encoded data removed]",
      "text/plain": [
       "<Figure size 432x288 with 1 Axes>"
      ]
     },
     "metadata": {},
     "output_type": "display_data"
    }
   ],
   "source": [
    "temp = df.pivot_table(index=df['age'],values='stroke',aggfunc=('mean','count'))\n",
    "plt.scatter(temp.index,temp['mean'])\n",
    "plt.xlabel(\"Age\")\n",
    "plt.ylabel(\"Probability of suffering a stroke\")\n",
    "plt.show()"
   ]
  },
  {
   "cell_type": "markdown",
   "metadata": {},
   "source": [
    "The probability of suffering a stroke increases with age"
   ]
  },
  {
   "cell_type": "code",
   "execution_count": 40,
   "metadata": {},
   "outputs": [
    {
     "data": {
      "text/plain": [
       "<matplotlib.axes._subplots.AxesSubplot at 0x1a20b74cf8>"
      ]
     },
     "execution_count": 40,
     "metadata": {},
     "output_type": "execute_result"
    },
    {
     "data": {
      "image/png": "[encoded data removed]",
      "text/plain": [
       "<Figure size 432x288 with 1 Axes>"
      ]
     },
     "metadata": {},
     "output_type": "display_data"
    }
   ],
   "source": [
    "sbn.boxplot(df['stroke'],df['bmi'])"
   ]
  },
  {
   "cell_type": "markdown",
   "metadata": {},
   "source": [
    "The probability of suffering a stroke increases with BMI (Body Mass Index)"
   ]
  },
  {
   "cell_type": "code",
   "execution_count": 41,
   "metadata": {},
   "outputs": [
    {
     "data": {
      "text/plain": [
       "<matplotlib.axes._subplots.AxesSubplot at 0x1076f40f0>"
      ]
     },
     "execution_count": 41,
     "metadata": {},
     "output_type": "execute_result"
    },
    {
     "data": {
      "image/png": "[encoded data removed]",
      "text/plain": [
       "<Figure size 432x288 with 1 Axes>"
      ]
     },
     "metadata": {},
     "output_type": "display_data"
    }
   ],
   "source": [
    "z = df.columns\n",
    "z = z.drop('bmi')\n",
    "arr = []\n",
    "for c in z:\n",
    "    arr.append(df['bmi'].corr(df[c]))\n",
    "sbn.barplot(arr,z)"
   ]
  },
  {
   "cell_type": "markdown",
   "metadata": {},
   "source": [
    "This barplot shows the correlation of BMI with other parameters"
   ]
  },
  {
   "cell_type": "code",
   "execution_count": 42,
   "metadata": {},
   "outputs": [
    {
     "name": "stdout",
     "output_type": "stream",
     "text": [
      "Median:  27.7\n",
      "Mean:  28.605038390004545\n"
     ]
    }
   ],
   "source": [
    "print(\"Median: \",df['bmi'].median())\n",
    "print(\"Mean: \",df['bmi'].mean())"
   ]
  },
  {
   "cell_type": "code",
   "execution_count": 43,
   "metadata": {},
   "outputs": [],
   "source": [
    "df['bmi'].fillna(27.7,inplace=True)"
   ]
  },
  {
   "cell_type": "code",
   "execution_count": 44,
   "metadata": {},
   "outputs": [
    {
     "data": {
      "text/plain": [
       "<matplotlib.axes._subplots.AxesSubplot at 0x1a0fe41a20>"
      ]
     },
     "execution_count": 44,
     "metadata": {},
     "output_type": "execute_result"
    },
    {
     "data": {
      "image/png": "[encoded data removed]",
      "text/plain": [
       "<Figure size 432x288 with 1 Axes>"
      ]
     },
     "metadata": {},
     "output_type": "display_data"
    }
   ],
   "source": [
    "sbn.violinplot(df['stroke'],df['age'],hue=df['hypertension'],split=True)"
   ]
  },
  {
   "cell_type": "code",
   "execution_count": 45,
   "metadata": {},
   "outputs": [
    {
     "data": {
      "text/plain": [
       "<matplotlib.axes._subplots.AxesSubplot at 0x1a2055d668>"
      ]
     },
     "execution_count": 45,
     "metadata": {},
     "output_type": "execute_result"
    },
    {
     "data": {
      "image/png": "[encoded data removed]",
      "text/plain": [
       "<Figure size 432x288 with 1 Axes>"
      ]
     },
     "metadata": {},
     "output_type": "display_data"
    }
   ],
   "source": [
    "sbn.violinplot(df['stroke'],df['age'],hue=df['ever_married'],split=True)"
   ]
  },
  {
   "cell_type": "code",
   "execution_count": 46,
   "metadata": {},
   "outputs": [],
   "source": [
    "temp = df\n",
    "x = temp.columns\n",
    "x = x.drop('stroke')"
   ]
  },
  {
   "cell_type": "markdown",
   "metadata": {},
   "source": [
    "### Synthetic Minority Oversampling is done to increase the number of minority class data rows by adding artificial samples"
   ]
  },
  {
   "cell_type": "code",
   "execution_count": 47,
   "metadata": {},
   "outputs": [
    {
     "name": "stderr",
     "output_type": "stream",
     "text": [
      "/Users/yadushyadav/anaconda3/lib/python3.6/site-packages/sklearn/utils/deprecation.py:77: DeprecationWarning: Function _ratio_float is deprecated; Use a float for 'ratio' is deprecated from version 0.2. The support will be removed in 0.4. Use a dict, str, or a callable instead.\n",
      "  warnings.warn(msg, category=DeprecationWarning)\n"
     ]
    },
    {
     "data": {
      "text/plain": [
       "(68187, 12)"
      ]
     },
     "execution_count": 47,
     "metadata": {},
     "output_type": "execute_result"
    }
   ],
   "source": [
    "sm = SMOTE(random_state=12, ratio = 0.6)\n",
    "x_train_res, y_train_res = sm.fit_sample(temp[x], temp['stroke'])\n",
    "temp = x_train_res\n",
    "#temp.head()\n",
    "result = pd.DataFrame(columns=x,data=temp)\n",
    "result['stroke']=y_train_res\n",
    "result.shape"
   ]
  },
  {
   "cell_type": "code",
   "execution_count": 48,
   "metadata": {},
   "outputs": [
    {
     "data": {
      "text/plain": [
       "0.3749981668059894"
      ]
     },
     "execution_count": 48,
     "metadata": {},
     "output_type": "execute_result"
    }
   ],
   "source": [
    "len(result[result['stroke']==1])/result.shape[0]"
   ]
  },
  {
   "cell_type": "markdown",
   "metadata": {},
   "source": [
    "The minority class is present in 37.4% of all data rows now"
   ]
  },
  {
   "cell_type": "code",
   "execution_count": 49,
   "metadata": {},
   "outputs": [],
   "source": [
    "# Resampling\n",
    "\n",
    "result = result.sample(frac=1).reset_index(drop=True)"
   ]
  },
  {
   "cell_type": "code",
   "execution_count": 50,
   "metadata": {},
   "outputs": [],
   "source": [
    "result.to_csv('/Users/yadushyadav/Downloads/SMOTEdataset.csv',index=False)"
   ]
  },
  {
   "cell_type": "code",
   "execution_count": 51,
   "metadata": {},
   "outputs": [],
   "source": [
    "df = pd.read_csv('/Users/yadushyadav/Downloads/SMOTEdataset.csv')"
   ]
  },
  {
   "cell_type": "code",
   "execution_count": 52,
   "metadata": {},
   "outputs": [],
   "source": [
    "reserved_df = df"
   ]
  },
  {
   "cell_type": "markdown",
   "metadata": {},
   "source": [
    "Saved the dataframe in reserved_df incase of any changes "
   ]
  },
  {
   "cell_type": "code",
   "execution_count": 53,
   "metadata": {},
   "outputs": [
    {
     "data": {
      "text/plain": [
       "<matplotlib.axes._subplots.AxesSubplot at 0x1a1d9f1f28>"
      ]
     },
     "execution_count": 53,
     "metadata": {},
     "output_type": "execute_result"
    },
    {
     "data": {
      "image/png": "[encoded data removed]",
      "text/plain": [
       "<Figure size 432x288 with 1 Axes>"
      ]
     },
     "metadata": {},
     "output_type": "display_data"
    }
   ],
   "source": [
    "# Correlation between 'stroke' and the other parameters\n",
    "\n",
    "df = result\n",
    "x = df.columns\n",
    "x = x.drop('stroke')\n",
    "arr = []\n",
    "for c in x:\n",
    "    arr.append(df['stroke'].corr(df[c]))\n",
    "sbn.barplot(arr,x)"
   ]
  },
  {
   "cell_type": "code",
   "execution_count": 54,
   "metadata": {},
   "outputs": [
    {
     "data": {
      "text/html": [
       "<div>\n",
       "<style scoped>\n",
       "    .dataframe tbody tr th:only-of-type {\n",
       "        vertical-align: middle;\n",
       "    }\n",
       "\n",
       "    .dataframe tbody tr th {\n",
       "        vertical-align: top;\n",
       "    }\n",
       "\n",
       "    .dataframe thead th {\n",
       "        text-align: right;\n",
       "    }\n",
       "</style>\n",
       "<table border=\"1\" class=\"dataframe\">\n",
       "  <thead>\n",
       "    <tr style=\"text-align: right;\">\n",
       "      <th></th>\n",
       "      <th>gender</th>\n",
       "      <th>age</th>\n",
       "      <th>hypertension</th>\n",
       "      <th>heart_disease</th>\n",
       "      <th>ever_married</th>\n",
       "      <th>work_type</th>\n",
       "      <th>Residence_type</th>\n",
       "      <th>avg_glucose_level</th>\n",
       "      <th>bmi</th>\n",
       "      <th>smoking_status</th>\n",
       "      <th>agecat</th>\n",
       "      <th>stroke</th>\n",
       "    </tr>\n",
       "  </thead>\n",
       "  <tbody>\n",
       "    <tr>\n",
       "      <th>0</th>\n",
       "      <td>0.552685</td>\n",
       "      <td>56.210741</td>\n",
       "      <td>0.447315</td>\n",
       "      <td>0.000000</td>\n",
       "      <td>0.0</td>\n",
       "      <td>0.552685</td>\n",
       "      <td>0.000000</td>\n",
       "      <td>75.00257</td>\n",
       "      <td>35.147315</td>\n",
       "      <td>0.552685</td>\n",
       "      <td>5.000000</td>\n",
       "      <td>1</td>\n",
       "    </tr>\n",
       "    <tr>\n",
       "      <th>1</th>\n",
       "      <td>1.000000</td>\n",
       "      <td>80.000000</td>\n",
       "      <td>1.000000</td>\n",
       "      <td>1.000000</td>\n",
       "      <td>0.0</td>\n",
       "      <td>0.000000</td>\n",
       "      <td>1.000000</td>\n",
       "      <td>102.51000</td>\n",
       "      <td>25.300000</td>\n",
       "      <td>0.000000</td>\n",
       "      <td>7.000000</td>\n",
       "      <td>0</td>\n",
       "    </tr>\n",
       "    <tr>\n",
       "      <th>2</th>\n",
       "      <td>1.000000</td>\n",
       "      <td>74.000000</td>\n",
       "      <td>0.000000</td>\n",
       "      <td>0.000000</td>\n",
       "      <td>0.0</td>\n",
       "      <td>0.000000</td>\n",
       "      <td>0.000000</td>\n",
       "      <td>69.02000</td>\n",
       "      <td>28.000000</td>\n",
       "      <td>0.000000</td>\n",
       "      <td>7.000000</td>\n",
       "      <td>0</td>\n",
       "    </tr>\n",
       "    <tr>\n",
       "      <th>3</th>\n",
       "      <td>1.000000</td>\n",
       "      <td>58.000000</td>\n",
       "      <td>0.000000</td>\n",
       "      <td>0.000000</td>\n",
       "      <td>0.0</td>\n",
       "      <td>0.000000</td>\n",
       "      <td>1.000000</td>\n",
       "      <td>75.20000</td>\n",
       "      <td>26.700000</td>\n",
       "      <td>0.000000</td>\n",
       "      <td>5.000000</td>\n",
       "      <td>0</td>\n",
       "    </tr>\n",
       "    <tr>\n",
       "      <th>4</th>\n",
       "      <td>0.000000</td>\n",
       "      <td>79.351130</td>\n",
       "      <td>0.000000</td>\n",
       "      <td>0.824435</td>\n",
       "      <td>0.0</td>\n",
       "      <td>0.824435</td>\n",
       "      <td>0.175565</td>\n",
       "      <td>187.82965</td>\n",
       "      <td>25.933574</td>\n",
       "      <td>0.000000</td>\n",
       "      <td>7.175565</td>\n",
       "      <td>1</td>\n",
       "    </tr>\n",
       "  </tbody>\n",
       "</table>\n",
       "</div>"
      ],
      "text/plain": [
       "     gender        age  hypertension  heart_disease  ever_married  work_type  \\\n",
       "0  0.552685  56.210741      0.447315       0.000000           0.0   0.552685   \n",
       "1  1.000000  80.000000      1.000000       1.000000           0.0   0.000000   \n",
       "2  1.000000  74.000000      0.000000       0.000000           0.0   0.000000   \n",
       "3  1.000000  58.000000      0.000000       0.000000           0.0   0.000000   \n",
       "4  0.000000  79.351130      0.000000       0.824435           0.0   0.824435   \n",
       "\n",
       "   Residence_type  avg_glucose_level        bmi  smoking_status    agecat  \\\n",
       "0        0.000000           75.00257  35.147315        0.552685  5.000000   \n",
       "1        1.000000          102.51000  25.300000        0.000000  7.000000   \n",
       "2        0.000000           69.02000  28.000000        0.000000  7.000000   \n",
       "3        1.000000           75.20000  26.700000        0.000000  5.000000   \n",
       "4        0.175565          187.82965  25.933574        0.000000  7.175565   \n",
       "\n",
       "   stroke  \n",
       "0       1  \n",
       "1       0  \n",
       "2       0  \n",
       "3       0  \n",
       "4       1  "
      ]
     },
     "execution_count": 54,
     "metadata": {},
     "output_type": "execute_result"
    }
   ],
   "source": [
    "df.head()"
   ]
  },
  {
   "cell_type": "code",
   "execution_count": 55,
   "metadata": {},
   "outputs": [],
   "source": [
    "cols = df.columns\n",
    "cols = cols.drop('stroke')\n",
    "x = df[cols]\n",
    "y = df['stroke']"
   ]
  },
  {
   "cell_type": "code",
   "execution_count": 56,
   "metadata": {},
   "outputs": [],
   "source": [
    "kf = KFold(n_splits=5)"
   ]
  },
  {
   "cell_type": "code",
   "execution_count": 57,
   "metadata": {},
   "outputs": [
    {
     "name": "stdout",
     "output_type": "stream",
     "text": [
      "0.37500916623890884\n",
      "0.9827482616002248\n"
     ]
    }
   ],
   "source": [
    "# KFold cross validation to optimize the parameters\n",
    "# Stratified KFold cross validation can also be used\n",
    "\n",
    "r = []\n",
    "\n",
    "for train_index, test_index in kf.split(df):\n",
    "    xtrain, xtest = x.iloc[train_index], x.iloc[test_index]\n",
    "    ytrain, ytest = y[train_index], y[test_index]\n",
    "    model = RandomForestClassifier()\n",
    "    model.fit(xtrain,ytrain)\n",
    "    pred = model.predict(xtest)\n",
    "    r.append(f1_score(pred,ytest))\n",
    "\n",
    "c=0   \n",
    "for i in ytest:\n",
    "    if i==1:\n",
    "        c+=1\n",
    "        \n",
    "print(c/len(ytest))\n",
    "print(np.mean(r))"
   ]
  },
  {
   "cell_type": "code",
   "execution_count": 58,
   "metadata": {},
   "outputs": [],
   "source": [
    "cols = cols.drop('agecat')"
   ]
  },
  {
   "cell_type": "code",
   "execution_count": 59,
   "metadata": {},
   "outputs": [],
   "source": [
    "xtrain,xtest,ytrain,ytest = train_test_split(df[cols],df['stroke'],test_size=0.2,random_state=0)"
   ]
  },
  {
   "cell_type": "code",
   "execution_count": 60,
   "metadata": {},
   "outputs": [],
   "source": [
    "d = []\n",
    "f = []\n",
    "r = []\n",
    "p = []\n",
    "n = []\n",
    "t = []"
   ]
  },
  {
   "cell_type": "code",
   "execution_count": 61,
   "metadata": {},
   "outputs": [
    {
     "name": "stdout",
     "output_type": "stream",
     "text": [
      "0:00:00.276099\n"
     ]
    }
   ],
   "source": [
    "time1 = datetime.now()\n",
    "\n",
    "model = LogisticRegression()\n",
    "model.fit(xtrain,ytrain)\n",
    "pred1 = model.predict(xtest)\n",
    "\n",
    "time2 = datetime.now()\n",
    "\n",
    "t.append((time2-time1).total_seconds())\n",
    "\n",
    "d.append(roc_auc_score(pred1,ytest))\n",
    "f.append(f1_score(pred1,ytest))\n",
    "p.append(precision_score(pred1,ytest))\n",
    "r.append(recall_score(pred1,ytest))\n",
    "\n",
    "n.append('LogisticRegression')\n",
    "\n",
    "print(time2-time1)"
   ]
  },
  {
   "cell_type": "code",
   "execution_count": 62,
   "metadata": {},
   "outputs": [
    {
     "name": "stdout",
     "output_type": "stream",
     "text": [
      "0:00:00.050080\n"
     ]
    },
    {
     "name": "stderr",
     "output_type": "stream",
     "text": [
      "/Users/yadushyadav/anaconda3/lib/python3.6/site-packages/sklearn/linear_model/stochastic_gradient.py:128: FutureWarning: max_iter and tol parameters have been added in <class 'sklearn.linear_model.stochastic_gradient.SGDClassifier'> in 0.19. If both are left unset, they default to max_iter=5 and tol=None. If tol is not None, max_iter defaults to max_iter=1000. From 0.21, default max_iter will be 1000, and default tol will be 1e-3.\n",
      "  \"and default tol will be 1e-3.\" % type(self), FutureWarning)\n"
     ]
    }
   ],
   "source": [
    "time1 = datetime.now()\n",
    "\n",
    "model = SGDClassifier()\n",
    "model.fit(xtrain,ytrain)\n",
    "pred2 = model.predict(xtest)\n",
    "\n",
    "time2 = datetime.now()\n",
    "\n",
    "t.append((time2-time1).total_seconds())\n",
    "\n",
    "d.append(roc_auc_score(pred2,ytest))\n",
    "f.append(f1_score(pred2,ytest))\n",
    "p.append(precision_score(pred2,ytest))\n",
    "r.append(recall_score(pred2,ytest))\n",
    "\n",
    "n.append('SGDClassifier')\n",
    "\n",
    "print(time2-time1)"
   ]
  },
  {
   "cell_type": "code",
   "execution_count": 63,
   "metadata": {},
   "outputs": [
    {
     "name": "stdout",
     "output_type": "stream",
     "text": [
      "0:00:21.808457\n"
     ]
    }
   ],
   "source": [
    "time1 = datetime.now()\n",
    "\n",
    "model = RandomForestClassifier(min_samples_leaf = 1, n_estimators = 400)\n",
    "model.fit(xtrain,ytrain)\n",
    "pred3 = model.predict(xtest)\n",
    "\n",
    "time2 = datetime.now()\n",
    "\n",
    "t.append((time2-time1).total_seconds())\n",
    "\n",
    "d.append(roc_auc_score(pred3,ytest))\n",
    "f.append(f1_score(pred3,ytest))\n",
    "p.append(precision_score(pred3,ytest))\n",
    "r.append(recall_score(pred3,ytest))\n",
    "\n",
    "n.append('RandomForestClassifier')\n",
    "\n",
    "print(time2-time1)"
   ]
  },
  {
   "cell_type": "code",
   "execution_count": 64,
   "metadata": {},
   "outputs": [],
   "source": [
    "#time1 = datetime.now()\n",
    "#model = GaussianProcessClassifier()\n",
    "#model.fit(xtrain,ytrain)\n",
    "#pred5 = model.predict(xtest)\n",
    "#time2 = datetime.now()\n",
    "#t.append(time2-time1)\n",
    "#d.append(roc_auc_score(pred5,ytest))\n",
    "#n.append('GaussianProcessClassifier')\n",
    "#print(time2-time1)"
   ]
  },
  {
   "cell_type": "code",
   "execution_count": 65,
   "metadata": {},
   "outputs": [
    {
     "name": "stdout",
     "output_type": "stream",
     "text": [
      "0:00:00.192664\n"
     ]
    }
   ],
   "source": [
    "time1 = datetime.now()\n",
    "\n",
    "model = DecisionTreeClassifier()\n",
    "model.fit(xtrain,ytrain)\n",
    "pred6 = model.predict(xtest)\n",
    "\n",
    "time2 = datetime.now()\n",
    "\n",
    "t.append((time2-time1).total_seconds())\n",
    "\n",
    "d.append(roc_auc_score(pred6,ytest))\n",
    "f.append(f1_score(pred6,ytest))\n",
    "p.append(precision_score(pred6,ytest))\n",
    "r.append(recall_score(pred6,ytest))\n",
    "\n",
    "n.append('DecisionTreeClassifier')\n",
    "\n",
    "print(time2-time1)"
   ]
  },
  {
   "cell_type": "code",
   "execution_count": 66,
   "metadata": {},
   "outputs": [
    {
     "name": "stdout",
     "output_type": "stream",
     "text": [
      "0:00:01.741179\n"
     ]
    }
   ],
   "source": [
    "time1 = datetime.now()\n",
    "\n",
    "model = AdaBoostClassifier()\n",
    "model.fit(xtrain,ytrain)\n",
    "pred7 = model.predict(xtest)\n",
    "\n",
    "time2 = datetime.now()\n",
    "\n",
    "t.append((time2-time1).total_seconds())\n",
    "\n",
    "f.append(f1_score(pred7,ytest))\n",
    "p.append(precision_score(pred7,ytest))\n",
    "r.append(recall_score(pred7,ytest))\n",
    "d.append(roc_auc_score(pred7,ytest))\n",
    "\n",
    "n.append('AdaBoostClassifier')\n",
    "\n",
    "print(time2-time1)"
   ]
  },
  {
   "cell_type": "code",
   "execution_count": 67,
   "metadata": {},
   "outputs": [
    {
     "name": "stdout",
     "output_type": "stream",
     "text": [
      "0:00:00.026971\n"
     ]
    }
   ],
   "source": [
    "time1 = datetime.now()\n",
    "\n",
    "model = GaussianNB()\n",
    "model.fit(xtrain,ytrain)\n",
    "pred8 = model.predict(xtest)\n",
    "\n",
    "time2 = datetime.now()\n",
    "\n",
    "t.append((time2-time1).total_seconds())\n",
    "\n",
    "f.append(f1_score(pred8,ytest))\n",
    "p.append(precision_score(pred8,ytest))\n",
    "r.append(recall_score(pred8,ytest))\n",
    "d.append(roc_auc_score(pred8,ytest))\n",
    "\n",
    "n.append('GaussianN')\n",
    "\n",
    "print(time2-time1)"
   ]
  },
  {
   "cell_type": "code",
   "execution_count": 68,
   "metadata": {},
   "outputs": [
    {
     "name": "stdout",
     "output_type": "stream",
     "text": [
      "0:00:00.040369\n"
     ]
    }
   ],
   "source": [
    "time1 = datetime.now()\n",
    "\n",
    "model = QuadraticDiscriminantAnalysis()\n",
    "model.fit(xtrain,ytrain)\n",
    "pred9 = model.predict(xtest)\n",
    "\n",
    "time2 = datetime.now()\n",
    "\n",
    "t.append((time2-time1).total_seconds())\n",
    "\n",
    "d.append(roc_auc_score(pred9,ytest))\n",
    "f.append(f1_score(pred9,ytest))\n",
    "p.append(precision_score(pred9,ytest))\n",
    "r.append(recall_score(pred9,ytest))\n",
    "\n",
    "n.append('QuadraticDiscriminantAnalysis')\n",
    "\n",
    "print(time2-time1)"
   ]
  },
  {
   "cell_type": "code",
   "execution_count": 69,
   "metadata": {},
   "outputs": [
    {
     "name": "stdout",
     "output_type": "stream",
     "text": [
      "0:00:13.352489\n"
     ]
    }
   ],
   "source": [
    "time1 = datetime.now()\n",
    "\n",
    "model = MLPClassifier()\n",
    "model.fit(xtrain,ytrain)\n",
    "pred10 = model.predict(xtest)\n",
    "\n",
    "time2 = datetime.now()\n",
    "\n",
    "t.append((time2-time1).total_seconds())\n",
    "\n",
    "d.append(roc_auc_score(pred10,ytest))\n",
    "f.append(f1_score(pred10,ytest))\n",
    "p.append(precision_score(pred10,ytest))\n",
    "r.append(recall_score(pred10,ytest))\n",
    "\n",
    "n.append('MLPClassifier')\n",
    "\n",
    "print(time2-time1)"
   ]
  },
  {
   "cell_type": "code",
   "execution_count": 70,
   "metadata": {},
   "outputs": [
    {
     "name": "stdout",
     "output_type": "stream",
     "text": [
      "0:00:00.280577\n"
     ]
    }
   ],
   "source": [
    "time1 = datetime.now()\n",
    "\n",
    "model = KNeighborsClassifier()\n",
    "model.fit(xtrain,ytrain)\n",
    "pred11 = model.predict(xtest)\n",
    "\n",
    "time2 = datetime.now()\n",
    "\n",
    "t.append((time2-time1).total_seconds())\n",
    "\n",
    "d.append(roc_auc_score(pred11,ytest))\n",
    "f.append(f1_score(pred11,ytest))\n",
    "p.append(precision_score(pred11,ytest))\n",
    "r.append(recall_score(pred11,ytest))\n",
    "\n",
    "n.append('KNeighborsClassifier')\n",
    "\n",
    "print(time2-time1)"
   ]
  },
  {
   "cell_type": "code",
   "execution_count": 71,
   "metadata": {},
   "outputs": [
    {
     "name": "stdout",
     "output_type": "stream",
     "text": [
      "0:00:03.890293\n"
     ]
    }
   ],
   "source": [
    "time1 = datetime.now()\n",
    "\n",
    "model = GradientBoostingClassifier()\n",
    "model.fit(xtrain,ytrain)\n",
    "pred12 = model.predict(xtest)\n",
    "\n",
    "time2 = datetime.now()\n",
    "\n",
    "t.append((time2-time1).total_seconds())\n",
    "\n",
    "d.append(roc_auc_score(pred12,ytest))\n",
    "f.append(f1_score(pred12,ytest))\n",
    "p.append(precision_score(pred12,ytest))\n",
    "r.append(recall_score(pred12,ytest))\n",
    "\n",
    "n.append('GradientBoostingClassifier')\n",
    "\n",
    "print(time2-time1)"
   ]
  },
  {
   "cell_type": "code",
   "execution_count": 72,
   "metadata": {},
   "outputs": [
    {
     "name": "stdout",
     "output_type": "stream",
     "text": [
      "0:00:00.326096\n"
     ]
    }
   ],
   "source": [
    "time1 = datetime.now()\n",
    "\n",
    "model = ExtraTreesClassifier()\n",
    "model.fit(xtrain,ytrain)\n",
    "pred13 = model.predict(xtest)\n",
    "\n",
    "time2 = datetime.now()\n",
    "\n",
    "t.append((time2-time1).total_seconds())\n",
    "\n",
    "d.append(roc_auc_score(pred13,ytest))\n",
    "f.append(f1_score(pred13,ytest))\n",
    "p.append(precision_score(pred13,ytest))\n",
    "r.append(recall_score(pred13,ytest))\n",
    "\n",
    "n.append('ExtraTreesClassifier')\n",
    "\n",
    "print(time2-time1)"
   ]
  },
  {
   "cell_type": "code",
   "execution_count": 73,
   "metadata": {},
   "outputs": [
    {
     "name": "stdout",
     "output_type": "stream",
     "text": [
      "0:00:20.084427\n"
     ]
    }
   ],
   "source": [
    "time1 = datetime.now()\n",
    "\n",
    "model = BaggingClassifier(n_estimators = 500, max_samples = 0.5, max_features = 0.5)\n",
    "model.fit(xtrain,ytrain)\n",
    "pred15 = model.predict(xtest)\n",
    "\n",
    "time2 = datetime.now()\n",
    "\n",
    "t.append((time2-time1).total_seconds())\n",
    "\n",
    "d.append(roc_auc_score(pred15,ytest))\n",
    "f.append(f1_score(pred15,ytest))\n",
    "p.append(precision_score(pred15,ytest))\n",
    "r.append(recall_score(pred15,ytest))\n",
    "\n",
    "n.append('BaggingClassifier')\n",
    "\n",
    "print(time2-time1)"
   ]
  },
  {
   "cell_type": "code",
   "execution_count": 74,
   "metadata": {},
   "outputs": [
    {
     "name": "stdout",
     "output_type": "stream",
     "text": [
      "0:00:03.255619\n"
     ]
    },
    {
     "name": "stderr",
     "output_type": "stream",
     "text": [
      "/Users/yadushyadav/anaconda3/lib/python3.6/site-packages/sklearn/preprocessing/label.py:151: DeprecationWarning: The truth value of an empty array is ambiguous. Returning False, but in future this will result in an error. Use `array.size > 0` to check that an array is not empty.\n",
      "  if diff:\n"
     ]
    }
   ],
   "source": [
    "time1 = datetime.now()\n",
    "\n",
    "model = xgb.XGBClassifier()\n",
    "model.fit(xtrain,ytrain)\n",
    "pred16 = model.predict(xtest)\n",
    "\n",
    "time2 = datetime.now()\n",
    "\n",
    "t.append((time2-time1).total_seconds())\n",
    "\n",
    "d.append(roc_auc_score(pred16,ytest))\n",
    "f.append(f1_score(pred16,ytest))\n",
    "p.append(precision_score(pred16,ytest))\n",
    "r.append(recall_score(pred16,ytest))\n",
    "\n",
    "n.append('XGBClassifier')\n",
    "\n",
    "print(time2-time1)"
   ]
  },
  {
   "cell_type": "code",
   "execution_count": 75,
   "metadata": {},
   "outputs": [
    {
     "name": "stdout",
     "output_type": "stream",
     "text": [
      "0:\tlearn: 0.5738694\ttotal: 89ms\tremaining: 1m 28s\n",
      "1:\tlearn: 0.4652878\ttotal: 125ms\tremaining: 1m 2s\n",
      "2:\tlearn: 0.3880493\ttotal: 159ms\tremaining: 52.7s\n",
      "3:\tlearn: 0.3375072\ttotal: 193ms\tremaining: 48.1s\n",
      "4:\tlearn: 0.2923049\ttotal: 229ms\tremaining: 45.6s\n",
      "5:\tlearn: 0.2635813\ttotal: 265ms\tremaining: 43.9s\n",
      "6:\tlearn: 0.2281542\ttotal: 302ms\tremaining: 42.9s\n",
      "7:\tlearn: 0.2111531\ttotal: 332ms\tremaining: 41.2s\n",
      "8:\tlearn: 0.1903390\ttotal: 367ms\tremaining: 40.4s\n",
      "9:\tlearn: 0.1736683\ttotal: 401ms\tremaining: 39.7s\n",
      "10:\tlearn: 0.1588258\ttotal: 432ms\tremaining: 38.8s\n",
      "11:\tlearn: 0.1455894\ttotal: 465ms\tremaining: 38.3s\n",
      "12:\tlearn: 0.1392998\ttotal: 499ms\tremaining: 37.9s\n",
      "13:\tlearn: 0.1303672\ttotal: 538ms\tremaining: 37.9s\n",
      "14:\tlearn: 0.1226343\ttotal: 571ms\tremaining: 37.5s\n",
      "15:\tlearn: 0.1171690\ttotal: 598ms\tremaining: 36.8s\n",
      "16:\tlearn: 0.1114174\ttotal: 632ms\tremaining: 36.6s\n",
      "17:\tlearn: 0.1060647\ttotal: 663ms\tremaining: 36.2s\n",
      "18:\tlearn: 0.1018006\ttotal: 698ms\tremaining: 36.1s\n",
      "19:\tlearn: 0.0991415\ttotal: 733ms\tremaining: 35.9s\n",
      "20:\tlearn: 0.0962065\ttotal: 767ms\tremaining: 35.7s\n",
      "21:\tlearn: 0.0931949\ttotal: 788ms\tremaining: 35s\n",
      "22:\tlearn: 0.0913667\ttotal: 802ms\tremaining: 34.1s\n",
      "23:\tlearn: 0.0884027\ttotal: 816ms\tremaining: 33.2s\n",
      "24:\tlearn: 0.0871502\ttotal: 829ms\tremaining: 32.3s\n",
      "25:\tlearn: 0.0862578\ttotal: 844ms\tremaining: 31.6s\n",
      "26:\tlearn: 0.0838502\ttotal: 858ms\tremaining: 30.9s\n",
      "27:\tlearn: 0.0829946\ttotal: 871ms\tremaining: 30.2s\n",
      "28:\tlearn: 0.0825220\ttotal: 885ms\tremaining: 29.6s\n",
      "29:\tlearn: 0.0819605\ttotal: 898ms\tremaining: 29s\n",
      "30:\tlearn: 0.0815634\ttotal: 923ms\tremaining: 28.8s\n",
      "31:\tlearn: 0.0805318\ttotal: 941ms\tremaining: 28.5s\n",
      "32:\tlearn: 0.0794100\ttotal: 954ms\tremaining: 28s\n",
      "33:\tlearn: 0.0782981\ttotal: 969ms\tremaining: 27.5s\n",
      "34:\tlearn: 0.0777150\ttotal: 984ms\tremaining: 27.1s\n",
      "35:\tlearn: 0.0773514\ttotal: 997ms\tremaining: 26.7s\n",
      "36:\tlearn: 0.0769049\ttotal: 1.01s\tremaining: 26.3s\n",
      "37:\tlearn: 0.0760273\ttotal: 1.02s\tremaining: 26s\n",
      "38:\tlearn: 0.0756392\ttotal: 1.04s\tremaining: 25.6s\n",
      "39:\tlearn: 0.0753414\ttotal: 1.05s\tremaining: 25.3s\n",
      "40:\tlearn: 0.0751079\ttotal: 1.07s\tremaining: 25s\n",
      "41:\tlearn: 0.0748978\ttotal: 1.08s\tremaining: 24.6s\n",
      "42:\tlearn: 0.0734787\ttotal: 1.09s\tremaining: 24.3s\n",
      "43:\tlearn: 0.0731281\ttotal: 1.11s\tremaining: 24.1s\n",
      "44:\tlearn: 0.0729103\ttotal: 1.12s\tremaining: 23.8s\n",
      "45:\tlearn: 0.0724808\ttotal: 1.15s\tremaining: 23.7s\n",
      "46:\tlearn: 0.0723241\ttotal: 1.16s\tremaining: 23.5s\n",
      "47:\tlearn: 0.0720139\ttotal: 1.17s\tremaining: 23.3s\n",
      "48:\tlearn: 0.0717132\ttotal: 1.19s\tremaining: 23s\n",
      "49:\tlearn: 0.0714831\ttotal: 1.21s\tremaining: 23s\n",
      "50:\tlearn: 0.0709273\ttotal: 1.24s\tremaining: 23s\n",
      "51:\tlearn: 0.0707785\ttotal: 1.26s\tremaining: 23s\n",
      "52:\tlearn: 0.0703593\ttotal: 1.29s\tremaining: 23s\n",
      "53:\tlearn: 0.0701945\ttotal: 1.31s\tremaining: 23s\n",
      "54:\tlearn: 0.0699434\ttotal: 1.35s\tremaining: 23.2s\n",
      "55:\tlearn: 0.0697443\ttotal: 1.38s\tremaining: 23.3s\n",
      "56:\tlearn: 0.0695781\ttotal: 1.41s\tremaining: 23.3s\n",
      "57:\tlearn: 0.0693681\ttotal: 1.42s\tremaining: 23.1s\n",
      "58:\tlearn: 0.0691458\ttotal: 1.44s\tremaining: 23s\n",
      "59:\tlearn: 0.0689217\ttotal: 1.46s\tremaining: 22.9s\n",
      "60:\tlearn: 0.0686624\ttotal: 1.48s\tremaining: 22.7s\n",
      "61:\tlearn: 0.0685027\ttotal: 1.5s\tremaining: 22.6s\n",
      "62:\tlearn: 0.0683558\ttotal: 1.51s\tremaining: 22.5s\n",
      "63:\tlearn: 0.0681325\ttotal: 1.53s\tremaining: 22.3s\n",
      "64:\tlearn: 0.0680074\ttotal: 1.54s\tremaining: 22.1s\n",
      "65:\tlearn: 0.0678188\ttotal: 1.55s\tremaining: 22s\n",
      "66:\tlearn: 0.0677283\ttotal: 1.58s\tremaining: 22s\n",
      "67:\tlearn: 0.0675801\ttotal: 1.59s\tremaining: 21.8s\n",
      "68:\tlearn: 0.0674088\ttotal: 1.61s\tremaining: 21.7s\n",
      "69:\tlearn: 0.0667577\ttotal: 1.62s\tremaining: 21.5s\n",
      "70:\tlearn: 0.0665431\ttotal: 1.64s\tremaining: 21.4s\n",
      "71:\tlearn: 0.0663316\ttotal: 1.65s\tremaining: 21.3s\n",
      "72:\tlearn: 0.0662371\ttotal: 1.66s\tremaining: 21.1s\n",
      "73:\tlearn: 0.0661388\ttotal: 1.68s\tremaining: 21s\n",
      "74:\tlearn: 0.0654831\ttotal: 1.69s\tremaining: 20.9s\n",
      "75:\tlearn: 0.0653882\ttotal: 1.71s\tremaining: 20.7s\n",
      "76:\tlearn: 0.0652740\ttotal: 1.72s\tremaining: 20.6s\n",
      "77:\tlearn: 0.0651339\ttotal: 1.73s\tremaining: 20.5s\n",
      "78:\tlearn: 0.0648858\ttotal: 1.75s\tremaining: 20.4s\n",
      "79:\tlearn: 0.0647586\ttotal: 1.77s\tremaining: 20.4s\n",
      "80:\tlearn: 0.0646135\ttotal: 1.79s\tremaining: 20.3s\n",
      "81:\tlearn: 0.0645079\ttotal: 1.81s\tremaining: 20.2s\n",
      "82:\tlearn: 0.0643261\ttotal: 1.84s\tremaining: 20.3s\n",
      "83:\tlearn: 0.0641853\ttotal: 1.88s\tremaining: 20.5s\n",
      "84:\tlearn: 0.0641117\ttotal: 1.92s\tremaining: 20.6s\n",
      "85:\tlearn: 0.0640131\ttotal: 1.95s\tremaining: 20.7s\n",
      "86:\tlearn: 0.0638321\ttotal: 1.98s\tremaining: 20.8s\n",
      "87:\tlearn: 0.0637094\ttotal: 2.02s\tremaining: 20.9s\n",
      "88:\tlearn: 0.0635085\ttotal: 2.05s\tremaining: 21s\n",
      "89:\tlearn: 0.0633521\ttotal: 2.08s\tremaining: 21.1s\n",
      "90:\tlearn: 0.0630416\ttotal: 2.12s\tremaining: 21.2s\n",
      "91:\tlearn: 0.0628372\ttotal: 2.15s\tremaining: 21.2s\n",
      "92:\tlearn: 0.0626349\ttotal: 2.19s\tremaining: 21.3s\n",
      "93:\tlearn: 0.0623415\ttotal: 2.22s\tremaining: 21.4s\n",
      "94:\tlearn: 0.0621620\ttotal: 2.26s\tremaining: 21.5s\n",
      "95:\tlearn: 0.0620362\ttotal: 2.29s\tremaining: 21.6s\n",
      "96:\tlearn: 0.0619526\ttotal: 2.32s\tremaining: 21.6s\n",
      "97:\tlearn: 0.0618173\ttotal: 2.35s\tremaining: 21.7s\n",
      "98:\tlearn: 0.0616903\ttotal: 2.37s\tremaining: 21.6s\n",
      "99:\tlearn: 0.0615449\ttotal: 2.38s\tremaining: 21.5s\n",
      "100:\tlearn: 0.0615039\ttotal: 2.41s\tremaining: 21.5s\n",
      "101:\tlearn: 0.0612461\ttotal: 2.43s\tremaining: 21.4s\n",
      "102:\tlearn: 0.0611308\ttotal: 2.45s\tremaining: 21.3s\n",
      "103:\tlearn: 0.0609691\ttotal: 2.48s\tremaining: 21.4s\n",
      "104:\tlearn: 0.0608444\ttotal: 2.52s\tremaining: 21.5s\n",
      "105:\tlearn: 0.0607084\ttotal: 2.55s\tremaining: 21.5s\n",
      "106:\tlearn: 0.0605976\ttotal: 2.58s\tremaining: 21.6s\n",
      "107:\tlearn: 0.0604742\ttotal: 2.62s\tremaining: 21.6s\n",
      "108:\tlearn: 0.0603950\ttotal: 2.65s\tremaining: 21.6s\n",
      "109:\tlearn: 0.0602096\ttotal: 2.68s\tremaining: 21.7s\n",
      "110:\tlearn: 0.0601247\ttotal: 2.7s\tremaining: 21.6s\n",
      "111:\tlearn: 0.0600421\ttotal: 2.71s\tremaining: 21.5s\n",
      "112:\tlearn: 0.0598529\ttotal: 2.73s\tremaining: 21.4s\n",
      "113:\tlearn: 0.0597223\ttotal: 2.75s\tremaining: 21.3s\n",
      "114:\tlearn: 0.0596332\ttotal: 2.76s\tremaining: 21.3s\n",
      "115:\tlearn: 0.0594996\ttotal: 2.78s\tremaining: 21.2s\n",
      "116:\tlearn: 0.0593821\ttotal: 2.79s\tremaining: 21.1s\n",
      "117:\tlearn: 0.0592776\ttotal: 2.81s\tremaining: 21s\n",
      "118:\tlearn: 0.0591086\ttotal: 2.83s\tremaining: 21s\n",
      "119:\tlearn: 0.0590077\ttotal: 2.85s\tremaining: 20.9s\n",
      "120:\tlearn: 0.0588861\ttotal: 2.86s\tremaining: 20.8s\n",
      "121:\tlearn: 0.0588405\ttotal: 2.88s\tremaining: 20.7s\n",
      "122:\tlearn: 0.0587078\ttotal: 2.89s\tremaining: 20.6s\n",
      "123:\tlearn: 0.0585714\ttotal: 2.91s\tremaining: 20.6s\n",
      "124:\tlearn: 0.0585015\ttotal: 2.92s\tremaining: 20.5s\n",
      "125:\tlearn: 0.0583341\ttotal: 2.94s\tremaining: 20.4s\n",
      "126:\tlearn: 0.0582611\ttotal: 2.96s\tremaining: 20.3s\n",
      "127:\tlearn: 0.0581801\ttotal: 2.97s\tremaining: 20.2s\n",
      "128:\tlearn: 0.0580640\ttotal: 2.98s\tremaining: 20.2s\n",
      "129:\tlearn: 0.0579398\ttotal: 3s\tremaining: 20.1s\n",
      "130:\tlearn: 0.0577580\ttotal: 3.02s\tremaining: 20s\n",
      "131:\tlearn: 0.0577033\ttotal: 3.03s\tremaining: 19.9s\n",
      "132:\tlearn: 0.0575591\ttotal: 3.05s\tremaining: 19.9s\n",
      "133:\tlearn: 0.0572924\ttotal: 3.07s\tremaining: 19.9s\n",
      "134:\tlearn: 0.0571761\ttotal: 3.09s\tremaining: 19.8s\n",
      "135:\tlearn: 0.0570383\ttotal: 3.1s\tremaining: 19.7s\n",
      "136:\tlearn: 0.0569408\ttotal: 3.12s\tremaining: 19.7s\n",
      "137:\tlearn: 0.0568612\ttotal: 3.14s\tremaining: 19.6s\n",
      "138:\tlearn: 0.0567856\ttotal: 3.15s\tremaining: 19.5s\n",
      "139:\tlearn: 0.0567399\ttotal: 3.17s\tremaining: 19.4s\n",
      "140:\tlearn: 0.0566274\ttotal: 3.18s\tremaining: 19.4s\n",
      "141:\tlearn: 0.0565367\ttotal: 3.21s\tremaining: 19.4s\n",
      "142:\tlearn: 0.0563405\ttotal: 3.23s\tremaining: 19.3s\n",
      "143:\tlearn: 0.0562484\ttotal: 3.25s\tremaining: 19.3s\n",
      "144:\tlearn: 0.0561602\ttotal: 3.27s\tremaining: 19.3s\n",
      "145:\tlearn: 0.0560856\ttotal: 3.29s\tremaining: 19.3s\n",
      "146:\tlearn: 0.0560184\ttotal: 3.31s\tremaining: 19.2s\n",
      "147:\tlearn: 0.0558780\ttotal: 3.34s\tremaining: 19.2s\n",
      "148:\tlearn: 0.0558253\ttotal: 3.36s\tremaining: 19.2s\n",
      "149:\tlearn: 0.0556244\ttotal: 3.38s\tremaining: 19.1s\n",
      "150:\tlearn: 0.0555824\ttotal: 3.4s\tremaining: 19.1s\n",
      "151:\tlearn: 0.0554771\ttotal: 3.41s\tremaining: 19s\n",
      "152:\tlearn: 0.0554353\ttotal: 3.42s\tremaining: 19s\n",
      "153:\tlearn: 0.0553319\ttotal: 3.44s\tremaining: 18.9s\n",
      "154:\tlearn: 0.0552578\ttotal: 3.46s\tremaining: 18.9s\n",
      "155:\tlearn: 0.0551923\ttotal: 3.49s\tremaining: 18.9s\n",
      "156:\tlearn: 0.0551315\ttotal: 3.51s\tremaining: 18.8s\n",
      "157:\tlearn: 0.0550364\ttotal: 3.54s\tremaining: 18.8s\n",
      "158:\tlearn: 0.0549478\ttotal: 3.57s\tremaining: 18.9s\n",
      "159:\tlearn: 0.0548545\ttotal: 3.6s\tremaining: 18.9s\n",
      "160:\tlearn: 0.0547387\ttotal: 3.64s\tremaining: 19s\n"
     ]
    },
    {
     "name": "stdout",
     "output_type": "stream",
     "text": [
      "161:\tlearn: 0.0546382\ttotal: 3.67s\tremaining: 19s\n",
      "162:\tlearn: 0.0544781\ttotal: 3.7s\tremaining: 19s\n",
      "163:\tlearn: 0.0544326\ttotal: 3.74s\tremaining: 19.1s\n",
      "164:\tlearn: 0.0542889\ttotal: 3.77s\tremaining: 19.1s\n",
      "165:\tlearn: 0.0541650\ttotal: 3.8s\tremaining: 19.1s\n",
      "166:\tlearn: 0.0541171\ttotal: 3.84s\tremaining: 19.1s\n",
      "167:\tlearn: 0.0539686\ttotal: 3.88s\tremaining: 19.2s\n",
      "168:\tlearn: 0.0538857\ttotal: 3.91s\tremaining: 19.2s\n",
      "169:\tlearn: 0.0537830\ttotal: 3.94s\tremaining: 19.3s\n",
      "170:\tlearn: 0.0536571\ttotal: 3.98s\tremaining: 19.3s\n",
      "171:\tlearn: 0.0536145\ttotal: 4.01s\tremaining: 19.3s\n",
      "172:\tlearn: 0.0535622\ttotal: 4.04s\tremaining: 19.3s\n",
      "173:\tlearn: 0.0535079\ttotal: 4.08s\tremaining: 19.4s\n",
      "174:\tlearn: 0.0534665\ttotal: 4.12s\tremaining: 19.4s\n",
      "175:\tlearn: 0.0533919\ttotal: 4.15s\tremaining: 19.4s\n",
      "176:\tlearn: 0.0533349\ttotal: 4.19s\tremaining: 19.5s\n",
      "177:\tlearn: 0.0532952\ttotal: 4.22s\tremaining: 19.5s\n",
      "178:\tlearn: 0.0531712\ttotal: 4.26s\tremaining: 19.5s\n",
      "179:\tlearn: 0.0531016\ttotal: 4.3s\tremaining: 19.6s\n",
      "180:\tlearn: 0.0529960\ttotal: 4.33s\tremaining: 19.6s\n",
      "181:\tlearn: 0.0528694\ttotal: 4.4s\tremaining: 19.8s\n",
      "182:\tlearn: 0.0527783\ttotal: 4.43s\tremaining: 19.8s\n",
      "183:\tlearn: 0.0527365\ttotal: 4.45s\tremaining: 19.7s\n",
      "184:\tlearn: 0.0526017\ttotal: 4.48s\tremaining: 19.7s\n",
      "185:\tlearn: 0.0524664\ttotal: 4.5s\tremaining: 19.7s\n",
      "186:\tlearn: 0.0523513\ttotal: 4.52s\tremaining: 19.7s\n",
      "187:\tlearn: 0.0523092\ttotal: 4.55s\tremaining: 19.6s\n",
      "188:\tlearn: 0.0521784\ttotal: 4.58s\tremaining: 19.7s\n",
      "189:\tlearn: 0.0521369\ttotal: 4.6s\tremaining: 19.6s\n",
      "190:\tlearn: 0.0520523\ttotal: 4.62s\tremaining: 19.6s\n",
      "191:\tlearn: 0.0520019\ttotal: 4.64s\tremaining: 19.5s\n",
      "192:\tlearn: 0.0519564\ttotal: 4.66s\tremaining: 19.5s\n",
      "193:\tlearn: 0.0519144\ttotal: 4.68s\tremaining: 19.4s\n",
      "194:\tlearn: 0.0519013\ttotal: 4.69s\tremaining: 19.4s\n",
      "195:\tlearn: 0.0518192\ttotal: 4.71s\tremaining: 19.3s\n",
      "196:\tlearn: 0.0517772\ttotal: 4.73s\tremaining: 19.3s\n",
      "197:\tlearn: 0.0517183\ttotal: 4.74s\tremaining: 19.2s\n",
      "198:\tlearn: 0.0516250\ttotal: 4.75s\tremaining: 19.1s\n",
      "199:\tlearn: 0.0515807\ttotal: 4.77s\tremaining: 19.1s\n",
      "200:\tlearn: 0.0514628\ttotal: 4.78s\tremaining: 19s\n",
      "201:\tlearn: 0.0514302\ttotal: 4.79s\tremaining: 18.9s\n",
      "202:\tlearn: 0.0513064\ttotal: 4.81s\tremaining: 18.9s\n",
      "203:\tlearn: 0.0512555\ttotal: 4.82s\tremaining: 18.8s\n",
      "204:\tlearn: 0.0511874\ttotal: 4.83s\tremaining: 18.7s\n",
      "205:\tlearn: 0.0511574\ttotal: 4.85s\tremaining: 18.7s\n",
      "206:\tlearn: 0.0510389\ttotal: 4.86s\tremaining: 18.6s\n",
      "207:\tlearn: 0.0510042\ttotal: 4.87s\tremaining: 18.6s\n",
      "208:\tlearn: 0.0509479\ttotal: 4.89s\tremaining: 18.5s\n",
      "209:\tlearn: 0.0509112\ttotal: 4.91s\tremaining: 18.5s\n",
      "210:\tlearn: 0.0508603\ttotal: 4.94s\tremaining: 18.5s\n",
      "211:\tlearn: 0.0508082\ttotal: 4.96s\tremaining: 18.4s\n",
      "212:\tlearn: 0.0507402\ttotal: 4.97s\tremaining: 18.4s\n",
      "213:\tlearn: 0.0507152\ttotal: 4.99s\tremaining: 18.3s\n",
      "214:\tlearn: 0.0506319\ttotal: 5.01s\tremaining: 18.3s\n",
      "215:\tlearn: 0.0505923\ttotal: 5.03s\tremaining: 18.3s\n",
      "216:\tlearn: 0.0505251\ttotal: 5.05s\tremaining: 18.2s\n",
      "217:\tlearn: 0.0504852\ttotal: 5.06s\tremaining: 18.2s\n",
      "218:\tlearn: 0.0504422\ttotal: 5.08s\tremaining: 18.1s\n",
      "219:\tlearn: 0.0504067\ttotal: 5.11s\tremaining: 18.1s\n",
      "220:\tlearn: 0.0503532\ttotal: 5.14s\tremaining: 18.1s\n",
      "221:\tlearn: 0.0502355\ttotal: 5.17s\tremaining: 18.1s\n",
      "222:\tlearn: 0.0501869\ttotal: 5.19s\tremaining: 18.1s\n",
      "223:\tlearn: 0.0501617\ttotal: 5.21s\tremaining: 18.1s\n",
      "224:\tlearn: 0.0500981\ttotal: 5.23s\tremaining: 18s\n",
      "225:\tlearn: 0.0500363\ttotal: 5.25s\tremaining: 18s\n",
      "226:\tlearn: 0.0500074\ttotal: 5.27s\tremaining: 17.9s\n",
      "227:\tlearn: 0.0499745\ttotal: 5.29s\tremaining: 17.9s\n",
      "228:\tlearn: 0.0499351\ttotal: 5.31s\tremaining: 17.9s\n",
      "229:\tlearn: 0.0498827\ttotal: 5.32s\tremaining: 17.8s\n",
      "230:\tlearn: 0.0498450\ttotal: 5.34s\tremaining: 17.8s\n",
      "231:\tlearn: 0.0496588\ttotal: 5.36s\tremaining: 17.7s\n",
      "232:\tlearn: 0.0495938\ttotal: 5.38s\tremaining: 17.7s\n",
      "233:\tlearn: 0.0494935\ttotal: 5.39s\tremaining: 17.6s\n",
      "234:\tlearn: 0.0493897\ttotal: 5.4s\tremaining: 17.6s\n",
      "235:\tlearn: 0.0493663\ttotal: 5.42s\tremaining: 17.5s\n",
      "236:\tlearn: 0.0492926\ttotal: 5.43s\tremaining: 17.5s\n",
      "237:\tlearn: 0.0491382\ttotal: 5.45s\tremaining: 17.4s\n",
      "238:\tlearn: 0.0490445\ttotal: 5.46s\tremaining: 17.4s\n",
      "239:\tlearn: 0.0490038\ttotal: 5.47s\tremaining: 17.3s\n",
      "240:\tlearn: 0.0489596\ttotal: 5.49s\tremaining: 17.3s\n",
      "241:\tlearn: 0.0489252\ttotal: 5.5s\tremaining: 17.2s\n",
      "242:\tlearn: 0.0488341\ttotal: 5.51s\tremaining: 17.2s\n",
      "243:\tlearn: 0.0487199\ttotal: 5.53s\tremaining: 17.1s\n",
      "244:\tlearn: 0.0487018\ttotal: 5.54s\tremaining: 17.1s\n",
      "245:\tlearn: 0.0486437\ttotal: 5.55s\tremaining: 17s\n",
      "246:\tlearn: 0.0485485\ttotal: 5.57s\tremaining: 17s\n",
      "247:\tlearn: 0.0484824\ttotal: 5.59s\tremaining: 16.9s\n",
      "248:\tlearn: 0.0484572\ttotal: 5.6s\tremaining: 16.9s\n",
      "249:\tlearn: 0.0484255\ttotal: 5.62s\tremaining: 16.8s\n",
      "250:\tlearn: 0.0483838\ttotal: 5.63s\tremaining: 16.8s\n",
      "251:\tlearn: 0.0483384\ttotal: 5.65s\tremaining: 16.8s\n",
      "252:\tlearn: 0.0482768\ttotal: 5.66s\tremaining: 16.7s\n",
      "253:\tlearn: 0.0481677\ttotal: 5.68s\tremaining: 16.7s\n",
      "254:\tlearn: 0.0481118\ttotal: 5.7s\tremaining: 16.7s\n",
      "255:\tlearn: 0.0480363\ttotal: 5.72s\tremaining: 16.6s\n",
      "256:\tlearn: 0.0479606\ttotal: 5.75s\tremaining: 16.6s\n",
      "257:\tlearn: 0.0479139\ttotal: 5.76s\tremaining: 16.6s\n",
      "258:\tlearn: 0.0478792\ttotal: 5.79s\tremaining: 16.6s\n",
      "259:\tlearn: 0.0478532\ttotal: 5.8s\tremaining: 16.5s\n",
      "260:\tlearn: 0.0477997\ttotal: 5.82s\tremaining: 16.5s\n",
      "261:\tlearn: 0.0477220\ttotal: 5.83s\tremaining: 16.4s\n",
      "262:\tlearn: 0.0476665\ttotal: 5.85s\tremaining: 16.4s\n",
      "263:\tlearn: 0.0476444\ttotal: 5.87s\tremaining: 16.4s\n",
      "264:\tlearn: 0.0474559\ttotal: 5.89s\tremaining: 16.3s\n",
      "265:\tlearn: 0.0474069\ttotal: 5.91s\tremaining: 16.3s\n",
      "266:\tlearn: 0.0473740\ttotal: 5.93s\tremaining: 16.3s\n",
      "267:\tlearn: 0.0473365\ttotal: 5.95s\tremaining: 16.3s\n",
      "268:\tlearn: 0.0472368\ttotal: 5.97s\tremaining: 16.2s\n",
      "269:\tlearn: 0.0471437\ttotal: 5.99s\tremaining: 16.2s\n",
      "270:\tlearn: 0.0470792\ttotal: 6.01s\tremaining: 16.2s\n",
      "271:\tlearn: 0.0470101\ttotal: 6.03s\tremaining: 16.1s\n",
      "272:\tlearn: 0.0469508\ttotal: 6.04s\tremaining: 16.1s\n",
      "273:\tlearn: 0.0469224\ttotal: 6.05s\tremaining: 16s\n",
      "274:\tlearn: 0.0468394\ttotal: 6.07s\tremaining: 16s\n",
      "275:\tlearn: 0.0467985\ttotal: 6.08s\tremaining: 16s\n",
      "276:\tlearn: 0.0467302\ttotal: 6.09s\tremaining: 15.9s\n",
      "277:\tlearn: 0.0466939\ttotal: 6.11s\tremaining: 15.9s\n",
      "278:\tlearn: 0.0466588\ttotal: 6.12s\tremaining: 15.8s\n",
      "279:\tlearn: 0.0465535\ttotal: 6.13s\tremaining: 15.8s\n",
      "280:\tlearn: 0.0464564\ttotal: 6.15s\tremaining: 15.7s\n",
      "281:\tlearn: 0.0463671\ttotal: 6.16s\tremaining: 15.7s\n",
      "282:\tlearn: 0.0463065\ttotal: 6.18s\tremaining: 15.6s\n",
      "283:\tlearn: 0.0462744\ttotal: 6.19s\tremaining: 15.6s\n",
      "284:\tlearn: 0.0461870\ttotal: 6.21s\tremaining: 15.6s\n",
      "285:\tlearn: 0.0461499\ttotal: 6.23s\tremaining: 15.5s\n",
      "286:\tlearn: 0.0461139\ttotal: 6.24s\tremaining: 15.5s\n",
      "287:\tlearn: 0.0460597\ttotal: 6.25s\tremaining: 15.5s\n",
      "288:\tlearn: 0.0460123\ttotal: 6.27s\tremaining: 15.4s\n",
      "289:\tlearn: 0.0459826\ttotal: 6.28s\tremaining: 15.4s\n",
      "290:\tlearn: 0.0459483\ttotal: 6.29s\tremaining: 15.3s\n",
      "291:\tlearn: 0.0458898\ttotal: 6.31s\tremaining: 15.3s\n",
      "292:\tlearn: 0.0458050\ttotal: 6.32s\tremaining: 15.2s\n",
      "293:\tlearn: 0.0456729\ttotal: 6.33s\tremaining: 15.2s\n",
      "294:\tlearn: 0.0456015\ttotal: 6.35s\tremaining: 15.2s\n",
      "295:\tlearn: 0.0455369\ttotal: 6.36s\tremaining: 15.1s\n",
      "296:\tlearn: 0.0455004\ttotal: 6.37s\tremaining: 15.1s\n",
      "297:\tlearn: 0.0454400\ttotal: 6.39s\tremaining: 15s\n",
      "298:\tlearn: 0.0453501\ttotal: 6.41s\tremaining: 15s\n",
      "299:\tlearn: 0.0453185\ttotal: 6.42s\tremaining: 15s\n",
      "300:\tlearn: 0.0452867\ttotal: 6.44s\tremaining: 14.9s\n",
      "301:\tlearn: 0.0452545\ttotal: 6.45s\tremaining: 14.9s\n",
      "302:\tlearn: 0.0452024\ttotal: 6.46s\tremaining: 14.9s\n",
      "303:\tlearn: 0.0451324\ttotal: 6.48s\tremaining: 14.8s\n",
      "304:\tlearn: 0.0450832\ttotal: 6.49s\tremaining: 14.8s\n",
      "305:\tlearn: 0.0450036\ttotal: 6.5s\tremaining: 14.8s\n",
      "306:\tlearn: 0.0449725\ttotal: 6.52s\tremaining: 14.7s\n",
      "307:\tlearn: 0.0449559\ttotal: 6.54s\tremaining: 14.7s\n",
      "308:\tlearn: 0.0449101\ttotal: 6.56s\tremaining: 14.7s\n",
      "309:\tlearn: 0.0448442\ttotal: 6.58s\tremaining: 14.6s\n",
      "310:\tlearn: 0.0447780\ttotal: 6.6s\tremaining: 14.6s\n",
      "311:\tlearn: 0.0447354\ttotal: 6.63s\tremaining: 14.6s\n",
      "312:\tlearn: 0.0446538\ttotal: 6.65s\tremaining: 14.6s\n",
      "313:\tlearn: 0.0445926\ttotal: 6.66s\tremaining: 14.6s\n",
      "314:\tlearn: 0.0445447\ttotal: 6.67s\tremaining: 14.5s\n",
      "315:\tlearn: 0.0444590\ttotal: 6.69s\tremaining: 14.5s\n",
      "316:\tlearn: 0.0444338\ttotal: 6.7s\tremaining: 14.4s\n",
      "317:\tlearn: 0.0443875\ttotal: 6.72s\tremaining: 14.4s\n",
      "318:\tlearn: 0.0443317\ttotal: 6.73s\tremaining: 14.4s\n",
      "319:\tlearn: 0.0442712\ttotal: 6.74s\tremaining: 14.3s\n",
      "320:\tlearn: 0.0442167\ttotal: 6.76s\tremaining: 14.3s\n",
      "321:\tlearn: 0.0441523\ttotal: 6.77s\tremaining: 14.3s\n",
      "322:\tlearn: 0.0441258\ttotal: 6.78s\tremaining: 14.2s\n",
      "323:\tlearn: 0.0440933\ttotal: 6.8s\tremaining: 14.2s\n",
      "324:\tlearn: 0.0440310\ttotal: 6.81s\tremaining: 14.1s\n",
      "325:\tlearn: 0.0440077\ttotal: 6.82s\tremaining: 14.1s\n"
     ]
    },
    {
     "name": "stdout",
     "output_type": "stream",
     "text": [
      "326:\tlearn: 0.0439587\ttotal: 6.84s\tremaining: 14.1s\n",
      "327:\tlearn: 0.0439076\ttotal: 6.86s\tremaining: 14.1s\n",
      "328:\tlearn: 0.0438529\ttotal: 6.88s\tremaining: 14s\n",
      "329:\tlearn: 0.0438203\ttotal: 6.89s\tremaining: 14s\n",
      "330:\tlearn: 0.0437513\ttotal: 6.9s\tremaining: 13.9s\n",
      "331:\tlearn: 0.0435923\ttotal: 6.92s\tremaining: 13.9s\n",
      "332:\tlearn: 0.0435366\ttotal: 6.93s\tremaining: 13.9s\n",
      "333:\tlearn: 0.0435117\ttotal: 6.94s\tremaining: 13.8s\n",
      "334:\tlearn: 0.0434839\ttotal: 6.96s\tremaining: 13.8s\n",
      "335:\tlearn: 0.0434356\ttotal: 6.97s\tremaining: 13.8s\n",
      "336:\tlearn: 0.0434004\ttotal: 6.99s\tremaining: 13.7s\n",
      "337:\tlearn: 0.0433427\ttotal: 7s\tremaining: 13.7s\n",
      "338:\tlearn: 0.0433060\ttotal: 7.01s\tremaining: 13.7s\n",
      "339:\tlearn: 0.0432691\ttotal: 7.03s\tremaining: 13.6s\n",
      "340:\tlearn: 0.0432472\ttotal: 7.04s\tremaining: 13.6s\n",
      "341:\tlearn: 0.0432116\ttotal: 7.06s\tremaining: 13.6s\n",
      "342:\tlearn: 0.0431752\ttotal: 7.08s\tremaining: 13.6s\n",
      "343:\tlearn: 0.0431549\ttotal: 7.09s\tremaining: 13.5s\n",
      "344:\tlearn: 0.0431143\ttotal: 7.1s\tremaining: 13.5s\n",
      "345:\tlearn: 0.0430563\ttotal: 7.12s\tremaining: 13.5s\n",
      "346:\tlearn: 0.0430209\ttotal: 7.13s\tremaining: 13.4s\n",
      "347:\tlearn: 0.0429711\ttotal: 7.14s\tremaining: 13.4s\n",
      "348:\tlearn: 0.0429257\ttotal: 7.16s\tremaining: 13.4s\n",
      "349:\tlearn: 0.0428480\ttotal: 7.17s\tremaining: 13.3s\n",
      "350:\tlearn: 0.0427992\ttotal: 7.18s\tremaining: 13.3s\n",
      "351:\tlearn: 0.0427693\ttotal: 7.2s\tremaining: 13.2s\n",
      "352:\tlearn: 0.0427382\ttotal: 7.21s\tremaining: 13.2s\n",
      "353:\tlearn: 0.0426982\ttotal: 7.22s\tremaining: 13.2s\n",
      "354:\tlearn: 0.0426598\ttotal: 7.24s\tremaining: 13.2s\n",
      "355:\tlearn: 0.0425876\ttotal: 7.25s\tremaining: 13.1s\n",
      "356:\tlearn: 0.0425437\ttotal: 7.27s\tremaining: 13.1s\n",
      "357:\tlearn: 0.0425138\ttotal: 7.28s\tremaining: 13.1s\n",
      "358:\tlearn: 0.0424539\ttotal: 7.3s\tremaining: 13s\n",
      "359:\tlearn: 0.0424210\ttotal: 7.31s\tremaining: 13s\n",
      "360:\tlearn: 0.0423775\ttotal: 7.33s\tremaining: 13s\n",
      "361:\tlearn: 0.0423388\ttotal: 7.34s\tremaining: 12.9s\n",
      "362:\tlearn: 0.0423035\ttotal: 7.35s\tremaining: 12.9s\n",
      "363:\tlearn: 0.0422126\ttotal: 7.37s\tremaining: 12.9s\n",
      "364:\tlearn: 0.0421899\ttotal: 7.38s\tremaining: 12.8s\n",
      "365:\tlearn: 0.0421695\ttotal: 7.39s\tremaining: 12.8s\n",
      "366:\tlearn: 0.0421303\ttotal: 7.41s\tremaining: 12.8s\n",
      "367:\tlearn: 0.0420860\ttotal: 7.42s\tremaining: 12.7s\n",
      "368:\tlearn: 0.0420424\ttotal: 7.43s\tremaining: 12.7s\n",
      "369:\tlearn: 0.0420116\ttotal: 7.45s\tremaining: 12.7s\n",
      "370:\tlearn: 0.0419187\ttotal: 7.46s\tremaining: 12.6s\n",
      "371:\tlearn: 0.0418997\ttotal: 7.47s\tremaining: 12.6s\n",
      "372:\tlearn: 0.0418821\ttotal: 7.49s\tremaining: 12.6s\n",
      "373:\tlearn: 0.0418483\ttotal: 7.51s\tremaining: 12.6s\n",
      "374:\tlearn: 0.0418277\ttotal: 7.52s\tremaining: 12.5s\n",
      "375:\tlearn: 0.0417695\ttotal: 7.53s\tremaining: 12.5s\n",
      "376:\tlearn: 0.0417345\ttotal: 7.55s\tremaining: 12.5s\n",
      "377:\tlearn: 0.0417119\ttotal: 7.56s\tremaining: 12.4s\n",
      "378:\tlearn: 0.0416895\ttotal: 7.57s\tremaining: 12.4s\n",
      "379:\tlearn: 0.0416429\ttotal: 7.59s\tremaining: 12.4s\n",
      "380:\tlearn: 0.0415689\ttotal: 7.6s\tremaining: 12.4s\n",
      "381:\tlearn: 0.0415491\ttotal: 7.62s\tremaining: 12.3s\n",
      "382:\tlearn: 0.0414881\ttotal: 7.63s\tremaining: 12.3s\n",
      "383:\tlearn: 0.0414138\ttotal: 7.64s\tremaining: 12.3s\n",
      "384:\tlearn: 0.0413814\ttotal: 7.66s\tremaining: 12.2s\n",
      "385:\tlearn: 0.0413529\ttotal: 7.67s\tremaining: 12.2s\n",
      "386:\tlearn: 0.0412814\ttotal: 7.69s\tremaining: 12.2s\n",
      "387:\tlearn: 0.0412485\ttotal: 7.71s\tremaining: 12.2s\n",
      "388:\tlearn: 0.0412006\ttotal: 7.72s\tremaining: 12.1s\n",
      "389:\tlearn: 0.0411460\ttotal: 7.73s\tremaining: 12.1s\n",
      "390:\tlearn: 0.0410892\ttotal: 7.75s\tremaining: 12.1s\n",
      "391:\tlearn: 0.0410464\ttotal: 7.76s\tremaining: 12s\n",
      "392:\tlearn: 0.0410032\ttotal: 7.77s\tremaining: 12s\n",
      "393:\tlearn: 0.0409580\ttotal: 7.79s\tremaining: 12s\n",
      "394:\tlearn: 0.0409194\ttotal: 7.8s\tremaining: 11.9s\n",
      "395:\tlearn: 0.0408516\ttotal: 7.81s\tremaining: 11.9s\n",
      "396:\tlearn: 0.0408343\ttotal: 7.82s\tremaining: 11.9s\n",
      "397:\tlearn: 0.0408183\ttotal: 7.84s\tremaining: 11.9s\n",
      "398:\tlearn: 0.0407897\ttotal: 7.85s\tremaining: 11.8s\n",
      "399:\tlearn: 0.0407260\ttotal: 7.86s\tremaining: 11.8s\n",
      "400:\tlearn: 0.0406705\ttotal: 7.88s\tremaining: 11.8s\n",
      "401:\tlearn: 0.0406394\ttotal: 7.89s\tremaining: 11.7s\n",
      "402:\tlearn: 0.0405964\ttotal: 7.91s\tremaining: 11.7s\n",
      "403:\tlearn: 0.0405436\ttotal: 7.92s\tremaining: 11.7s\n",
      "404:\tlearn: 0.0405261\ttotal: 7.94s\tremaining: 11.7s\n",
      "405:\tlearn: 0.0404760\ttotal: 7.95s\tremaining: 11.6s\n",
      "406:\tlearn: 0.0404436\ttotal: 7.96s\tremaining: 11.6s\n",
      "407:\tlearn: 0.0403058\ttotal: 7.98s\tremaining: 11.6s\n",
      "408:\tlearn: 0.0402841\ttotal: 7.99s\tremaining: 11.5s\n",
      "409:\tlearn: 0.0402419\ttotal: 8s\tremaining: 11.5s\n",
      "410:\tlearn: 0.0401946\ttotal: 8.02s\tremaining: 11.5s\n",
      "411:\tlearn: 0.0401560\ttotal: 8.03s\tremaining: 11.5s\n",
      "412:\tlearn: 0.0401146\ttotal: 8.04s\tremaining: 11.4s\n",
      "413:\tlearn: 0.0400579\ttotal: 8.06s\tremaining: 11.4s\n",
      "414:\tlearn: 0.0400323\ttotal: 8.07s\tremaining: 11.4s\n",
      "415:\tlearn: 0.0399846\ttotal: 8.08s\tremaining: 11.3s\n",
      "416:\tlearn: 0.0399088\ttotal: 8.11s\tremaining: 11.3s\n",
      "417:\tlearn: 0.0398441\ttotal: 8.12s\tremaining: 11.3s\n",
      "418:\tlearn: 0.0397923\ttotal: 8.13s\tremaining: 11.3s\n",
      "419:\tlearn: 0.0397457\ttotal: 8.15s\tremaining: 11.3s\n",
      "420:\tlearn: 0.0396945\ttotal: 8.16s\tremaining: 11.2s\n",
      "421:\tlearn: 0.0396576\ttotal: 8.17s\tremaining: 11.2s\n",
      "422:\tlearn: 0.0395947\ttotal: 8.19s\tremaining: 11.2s\n",
      "423:\tlearn: 0.0395600\ttotal: 8.2s\tremaining: 11.1s\n",
      "424:\tlearn: 0.0394973\ttotal: 8.21s\tremaining: 11.1s\n",
      "425:\tlearn: 0.0394519\ttotal: 8.23s\tremaining: 11.1s\n",
      "426:\tlearn: 0.0394341\ttotal: 8.24s\tremaining: 11.1s\n",
      "427:\tlearn: 0.0393868\ttotal: 8.26s\tremaining: 11s\n",
      "428:\tlearn: 0.0393569\ttotal: 8.27s\tremaining: 11s\n",
      "429:\tlearn: 0.0393230\ttotal: 8.28s\tremaining: 11s\n",
      "430:\tlearn: 0.0392641\ttotal: 8.3s\tremaining: 11s\n",
      "431:\tlearn: 0.0392298\ttotal: 8.32s\tremaining: 10.9s\n",
      "432:\tlearn: 0.0391438\ttotal: 8.33s\tremaining: 10.9s\n",
      "433:\tlearn: 0.0391161\ttotal: 8.35s\tremaining: 10.9s\n",
      "434:\tlearn: 0.0390958\ttotal: 8.36s\tremaining: 10.9s\n",
      "435:\tlearn: 0.0390735\ttotal: 8.37s\tremaining: 10.8s\n",
      "436:\tlearn: 0.0390302\ttotal: 8.39s\tremaining: 10.8s\n",
      "437:\tlearn: 0.0390011\ttotal: 8.4s\tremaining: 10.8s\n",
      "438:\tlearn: 0.0389773\ttotal: 8.41s\tremaining: 10.8s\n",
      "439:\tlearn: 0.0389415\ttotal: 8.43s\tremaining: 10.7s\n",
      "440:\tlearn: 0.0389181\ttotal: 8.44s\tremaining: 10.7s\n",
      "441:\tlearn: 0.0388881\ttotal: 8.45s\tremaining: 10.7s\n",
      "442:\tlearn: 0.0388543\ttotal: 8.47s\tremaining: 10.6s\n",
      "443:\tlearn: 0.0388122\ttotal: 8.48s\tremaining: 10.6s\n",
      "444:\tlearn: 0.0387899\ttotal: 8.49s\tremaining: 10.6s\n",
      "445:\tlearn: 0.0387696\ttotal: 8.51s\tremaining: 10.6s\n",
      "446:\tlearn: 0.0387457\ttotal: 8.52s\tremaining: 10.5s\n",
      "447:\tlearn: 0.0386989\ttotal: 8.54s\tremaining: 10.5s\n",
      "448:\tlearn: 0.0386561\ttotal: 8.55s\tremaining: 10.5s\n",
      "449:\tlearn: 0.0386261\ttotal: 8.57s\tremaining: 10.5s\n",
      "450:\tlearn: 0.0386000\ttotal: 8.58s\tremaining: 10.4s\n",
      "451:\tlearn: 0.0385404\ttotal: 8.6s\tremaining: 10.4s\n",
      "452:\tlearn: 0.0384919\ttotal: 8.61s\tremaining: 10.4s\n",
      "453:\tlearn: 0.0384622\ttotal: 8.62s\tremaining: 10.4s\n",
      "454:\tlearn: 0.0384468\ttotal: 8.63s\tremaining: 10.3s\n",
      "455:\tlearn: 0.0384176\ttotal: 8.65s\tremaining: 10.3s\n",
      "456:\tlearn: 0.0383985\ttotal: 8.66s\tremaining: 10.3s\n",
      "457:\tlearn: 0.0383649\ttotal: 8.67s\tremaining: 10.3s\n",
      "458:\tlearn: 0.0383390\ttotal: 8.69s\tremaining: 10.2s\n",
      "459:\tlearn: 0.0383282\ttotal: 8.7s\tremaining: 10.2s\n",
      "460:\tlearn: 0.0382809\ttotal: 8.71s\tremaining: 10.2s\n",
      "461:\tlearn: 0.0382375\ttotal: 8.73s\tremaining: 10.2s\n",
      "462:\tlearn: 0.0382090\ttotal: 8.75s\tremaining: 10.1s\n",
      "463:\tlearn: 0.0381564\ttotal: 8.76s\tremaining: 10.1s\n",
      "464:\tlearn: 0.0381146\ttotal: 8.77s\tremaining: 10.1s\n",
      "465:\tlearn: 0.0380679\ttotal: 8.79s\tremaining: 10.1s\n",
      "466:\tlearn: 0.0380218\ttotal: 8.8s\tremaining: 10s\n",
      "467:\tlearn: 0.0380056\ttotal: 8.81s\tremaining: 10s\n",
      "468:\tlearn: 0.0379763\ttotal: 8.83s\tremaining: 9.99s\n",
      "469:\tlearn: 0.0379322\ttotal: 8.84s\tremaining: 9.97s\n",
      "470:\tlearn: 0.0378897\ttotal: 8.85s\tremaining: 9.94s\n",
      "471:\tlearn: 0.0378597\ttotal: 8.87s\tremaining: 9.92s\n",
      "472:\tlearn: 0.0378364\ttotal: 8.88s\tremaining: 9.89s\n",
      "473:\tlearn: 0.0378174\ttotal: 8.89s\tremaining: 9.87s\n",
      "474:\tlearn: 0.0377996\ttotal: 8.91s\tremaining: 9.84s\n",
      "475:\tlearn: 0.0377660\ttotal: 8.92s\tremaining: 9.82s\n",
      "476:\tlearn: 0.0377415\ttotal: 8.94s\tremaining: 9.8s\n",
      "477:\tlearn: 0.0377104\ttotal: 8.95s\tremaining: 9.78s\n",
      "478:\tlearn: 0.0376872\ttotal: 8.97s\tremaining: 9.75s\n",
      "479:\tlearn: 0.0376641\ttotal: 8.98s\tremaining: 9.73s\n",
      "480:\tlearn: 0.0376443\ttotal: 8.99s\tremaining: 9.7s\n",
      "481:\tlearn: 0.0376278\ttotal: 9.01s\tremaining: 9.68s\n",
      "482:\tlearn: 0.0375876\ttotal: 9.02s\tremaining: 9.65s\n",
      "483:\tlearn: 0.0375271\ttotal: 9.03s\tremaining: 9.63s\n",
      "484:\tlearn: 0.0375036\ttotal: 9.05s\tremaining: 9.61s\n",
      "485:\tlearn: 0.0374858\ttotal: 9.06s\tremaining: 9.58s\n",
      "486:\tlearn: 0.0374564\ttotal: 9.07s\tremaining: 9.56s\n",
      "487:\tlearn: 0.0374184\ttotal: 9.09s\tremaining: 9.53s\n",
      "488:\tlearn: 0.0373838\ttotal: 9.1s\tremaining: 9.51s\n",
      "489:\tlearn: 0.0373681\ttotal: 9.11s\tremaining: 9.48s\n",
      "490:\tlearn: 0.0373548\ttotal: 9.13s\tremaining: 9.46s\n"
     ]
    },
    {
     "name": "stdout",
     "output_type": "stream",
     "text": [
      "491:\tlearn: 0.0373271\ttotal: 9.14s\tremaining: 9.44s\n",
      "492:\tlearn: 0.0372999\ttotal: 9.16s\tremaining: 9.42s\n",
      "493:\tlearn: 0.0372723\ttotal: 9.18s\tremaining: 9.4s\n",
      "494:\tlearn: 0.0372560\ttotal: 9.19s\tremaining: 9.37s\n",
      "495:\tlearn: 0.0372344\ttotal: 9.2s\tremaining: 9.35s\n",
      "496:\tlearn: 0.0372005\ttotal: 9.21s\tremaining: 9.33s\n",
      "497:\tlearn: 0.0371755\ttotal: 9.23s\tremaining: 9.3s\n",
      "498:\tlearn: 0.0371543\ttotal: 9.24s\tremaining: 9.28s\n",
      "499:\tlearn: 0.0371178\ttotal: 9.26s\tremaining: 9.26s\n",
      "500:\tlearn: 0.0370827\ttotal: 9.27s\tremaining: 9.23s\n",
      "501:\tlearn: 0.0370512\ttotal: 9.28s\tremaining: 9.21s\n",
      "502:\tlearn: 0.0370029\ttotal: 9.29s\tremaining: 9.18s\n",
      "503:\tlearn: 0.0369611\ttotal: 9.31s\tremaining: 9.16s\n",
      "504:\tlearn: 0.0369134\ttotal: 9.32s\tremaining: 9.14s\n",
      "505:\tlearn: 0.0368764\ttotal: 9.33s\tremaining: 9.11s\n",
      "506:\tlearn: 0.0368100\ttotal: 9.35s\tremaining: 9.09s\n",
      "507:\tlearn: 0.0367712\ttotal: 9.37s\tremaining: 9.07s\n",
      "508:\tlearn: 0.0367498\ttotal: 9.38s\tremaining: 9.05s\n",
      "509:\tlearn: 0.0367337\ttotal: 9.4s\tremaining: 9.03s\n",
      "510:\tlearn: 0.0367157\ttotal: 9.41s\tremaining: 9.01s\n",
      "511:\tlearn: 0.0366921\ttotal: 9.42s\tremaining: 8.98s\n",
      "512:\tlearn: 0.0366442\ttotal: 9.44s\tremaining: 8.96s\n",
      "513:\tlearn: 0.0366136\ttotal: 9.45s\tremaining: 8.94s\n",
      "514:\tlearn: 0.0365813\ttotal: 9.46s\tremaining: 8.91s\n",
      "515:\tlearn: 0.0365424\ttotal: 9.48s\tremaining: 8.89s\n",
      "516:\tlearn: 0.0365117\ttotal: 9.49s\tremaining: 8.87s\n",
      "517:\tlearn: 0.0364924\ttotal: 9.5s\tremaining: 8.84s\n",
      "518:\tlearn: 0.0364687\ttotal: 9.52s\tremaining: 8.82s\n",
      "519:\tlearn: 0.0364249\ttotal: 9.53s\tremaining: 8.8s\n",
      "520:\tlearn: 0.0364037\ttotal: 9.54s\tremaining: 8.77s\n",
      "521:\tlearn: 0.0363712\ttotal: 9.56s\tremaining: 8.76s\n",
      "522:\tlearn: 0.0363505\ttotal: 9.58s\tremaining: 8.74s\n",
      "523:\tlearn: 0.0363232\ttotal: 9.59s\tremaining: 8.71s\n",
      "524:\tlearn: 0.0362956\ttotal: 9.61s\tremaining: 8.69s\n",
      "525:\tlearn: 0.0362427\ttotal: 9.62s\tremaining: 8.67s\n",
      "526:\tlearn: 0.0362178\ttotal: 9.63s\tremaining: 8.65s\n",
      "527:\tlearn: 0.0361953\ttotal: 9.65s\tremaining: 8.62s\n",
      "528:\tlearn: 0.0361646\ttotal: 9.66s\tremaining: 8.6s\n",
      "529:\tlearn: 0.0361484\ttotal: 9.67s\tremaining: 8.58s\n",
      "530:\tlearn: 0.0360950\ttotal: 9.69s\tremaining: 8.55s\n",
      "531:\tlearn: 0.0360828\ttotal: 9.7s\tremaining: 8.53s\n",
      "532:\tlearn: 0.0360635\ttotal: 9.71s\tremaining: 8.51s\n",
      "533:\tlearn: 0.0360240\ttotal: 9.72s\tremaining: 8.49s\n",
      "534:\tlearn: 0.0359865\ttotal: 9.74s\tremaining: 8.46s\n",
      "535:\tlearn: 0.0359403\ttotal: 9.75s\tremaining: 8.44s\n",
      "536:\tlearn: 0.0358676\ttotal: 9.77s\tremaining: 8.42s\n",
      "537:\tlearn: 0.0358328\ttotal: 9.79s\tremaining: 8.4s\n",
      "538:\tlearn: 0.0357805\ttotal: 9.81s\tremaining: 8.39s\n",
      "539:\tlearn: 0.0357387\ttotal: 9.82s\tremaining: 8.37s\n",
      "540:\tlearn: 0.0357137\ttotal: 9.83s\tremaining: 8.34s\n",
      "541:\tlearn: 0.0356922\ttotal: 9.85s\tremaining: 8.32s\n",
      "542:\tlearn: 0.0356695\ttotal: 9.86s\tremaining: 8.3s\n",
      "543:\tlearn: 0.0356424\ttotal: 9.87s\tremaining: 8.28s\n",
      "544:\tlearn: 0.0356081\ttotal: 9.89s\tremaining: 8.25s\n",
      "545:\tlearn: 0.0355607\ttotal: 9.9s\tremaining: 8.23s\n",
      "546:\tlearn: 0.0355411\ttotal: 9.91s\tremaining: 8.21s\n",
      "547:\tlearn: 0.0355227\ttotal: 9.93s\tremaining: 8.19s\n",
      "548:\tlearn: 0.0354832\ttotal: 9.94s\tremaining: 8.17s\n",
      "549:\tlearn: 0.0354549\ttotal: 9.95s\tremaining: 8.14s\n",
      "550:\tlearn: 0.0354251\ttotal: 9.97s\tremaining: 8.12s\n",
      "551:\tlearn: 0.0353786\ttotal: 9.99s\tremaining: 8.11s\n",
      "552:\tlearn: 0.0353593\ttotal: 10s\tremaining: 8.09s\n",
      "553:\tlearn: 0.0353365\ttotal: 10s\tremaining: 8.06s\n",
      "554:\tlearn: 0.0353134\ttotal: 10s\tremaining: 8.04s\n",
      "555:\tlearn: 0.0352849\ttotal: 10s\tremaining: 8.02s\n",
      "556:\tlearn: 0.0352470\ttotal: 10.1s\tremaining: 8s\n",
      "557:\tlearn: 0.0352245\ttotal: 10.1s\tremaining: 7.97s\n",
      "558:\tlearn: 0.0351902\ttotal: 10.1s\tremaining: 7.95s\n",
      "559:\tlearn: 0.0351633\ttotal: 10.1s\tremaining: 7.93s\n",
      "560:\tlearn: 0.0351056\ttotal: 10.1s\tremaining: 7.91s\n",
      "561:\tlearn: 0.0350612\ttotal: 10.1s\tremaining: 7.89s\n",
      "562:\tlearn: 0.0350332\ttotal: 10.1s\tremaining: 7.87s\n",
      "563:\tlearn: 0.0350203\ttotal: 10.1s\tremaining: 7.84s\n",
      "564:\tlearn: 0.0349918\ttotal: 10.2s\tremaining: 7.82s\n",
      "565:\tlearn: 0.0349708\ttotal: 10.2s\tremaining: 7.81s\n",
      "566:\tlearn: 0.0349515\ttotal: 10.2s\tremaining: 7.79s\n",
      "567:\tlearn: 0.0349339\ttotal: 10.2s\tremaining: 7.76s\n",
      "568:\tlearn: 0.0349216\ttotal: 10.2s\tremaining: 7.74s\n",
      "569:\tlearn: 0.0348981\ttotal: 10.2s\tremaining: 7.72s\n",
      "570:\tlearn: 0.0348826\ttotal: 10.2s\tremaining: 7.7s\n",
      "571:\tlearn: 0.0348477\ttotal: 10.3s\tremaining: 7.68s\n",
      "572:\tlearn: 0.0348252\ttotal: 10.3s\tremaining: 7.66s\n",
      "573:\tlearn: 0.0347970\ttotal: 10.3s\tremaining: 7.63s\n",
      "574:\tlearn: 0.0347709\ttotal: 10.3s\tremaining: 7.61s\n",
      "575:\tlearn: 0.0347294\ttotal: 10.3s\tremaining: 7.59s\n",
      "576:\tlearn: 0.0347133\ttotal: 10.3s\tremaining: 7.57s\n",
      "577:\tlearn: 0.0346830\ttotal: 10.3s\tremaining: 7.55s\n",
      "578:\tlearn: 0.0346495\ttotal: 10.4s\tremaining: 7.53s\n",
      "579:\tlearn: 0.0346020\ttotal: 10.4s\tremaining: 7.51s\n",
      "580:\tlearn: 0.0345814\ttotal: 10.4s\tremaining: 7.49s\n",
      "581:\tlearn: 0.0345369\ttotal: 10.4s\tremaining: 7.47s\n",
      "582:\tlearn: 0.0345084\ttotal: 10.4s\tremaining: 7.45s\n",
      "583:\tlearn: 0.0344902\ttotal: 10.4s\tremaining: 7.43s\n",
      "584:\tlearn: 0.0344565\ttotal: 10.4s\tremaining: 7.41s\n",
      "585:\tlearn: 0.0344438\ttotal: 10.5s\tremaining: 7.39s\n",
      "586:\tlearn: 0.0343937\ttotal: 10.5s\tremaining: 7.37s\n",
      "587:\tlearn: 0.0343674\ttotal: 10.5s\tremaining: 7.35s\n",
      "588:\tlearn: 0.0343554\ttotal: 10.5s\tremaining: 7.33s\n",
      "589:\tlearn: 0.0343330\ttotal: 10.5s\tremaining: 7.3s\n",
      "590:\tlearn: 0.0342963\ttotal: 10.5s\tremaining: 7.29s\n",
      "591:\tlearn: 0.0342621\ttotal: 10.5s\tremaining: 7.26s\n",
      "592:\tlearn: 0.0342272\ttotal: 10.6s\tremaining: 7.24s\n",
      "593:\tlearn: 0.0342034\ttotal: 10.6s\tremaining: 7.22s\n",
      "594:\tlearn: 0.0341816\ttotal: 10.6s\tremaining: 7.2s\n",
      "595:\tlearn: 0.0341513\ttotal: 10.6s\tremaining: 7.19s\n",
      "596:\tlearn: 0.0341003\ttotal: 10.6s\tremaining: 7.17s\n",
      "597:\tlearn: 0.0340735\ttotal: 10.6s\tremaining: 7.14s\n",
      "598:\tlearn: 0.0340529\ttotal: 10.6s\tremaining: 7.13s\n",
      "599:\tlearn: 0.0340325\ttotal: 10.7s\tremaining: 7.1s\n",
      "600:\tlearn: 0.0339898\ttotal: 10.7s\tremaining: 7.08s\n",
      "601:\tlearn: 0.0339651\ttotal: 10.7s\tremaining: 7.06s\n",
      "602:\tlearn: 0.0339363\ttotal: 10.7s\tremaining: 7.04s\n",
      "603:\tlearn: 0.0339043\ttotal: 10.7s\tremaining: 7.02s\n",
      "604:\tlearn: 0.0338661\ttotal: 10.7s\tremaining: 7s\n",
      "605:\tlearn: 0.0338556\ttotal: 10.7s\tremaining: 6.98s\n",
      "606:\tlearn: 0.0338436\ttotal: 10.7s\tremaining: 6.96s\n",
      "607:\tlearn: 0.0338257\ttotal: 10.8s\tremaining: 6.94s\n",
      "608:\tlearn: 0.0337642\ttotal: 10.8s\tremaining: 6.92s\n",
      "609:\tlearn: 0.0337330\ttotal: 10.8s\tremaining: 6.9s\n",
      "610:\tlearn: 0.0336997\ttotal: 10.8s\tremaining: 6.88s\n",
      "611:\tlearn: 0.0336621\ttotal: 10.8s\tremaining: 6.86s\n",
      "612:\tlearn: 0.0336326\ttotal: 10.8s\tremaining: 6.84s\n",
      "613:\tlearn: 0.0336075\ttotal: 10.9s\tremaining: 6.82s\n",
      "614:\tlearn: 0.0335821\ttotal: 10.9s\tremaining: 6.8s\n",
      "615:\tlearn: 0.0335436\ttotal: 10.9s\tremaining: 6.78s\n",
      "616:\tlearn: 0.0335312\ttotal: 10.9s\tremaining: 6.76s\n",
      "617:\tlearn: 0.0334953\ttotal: 10.9s\tremaining: 6.74s\n",
      "618:\tlearn: 0.0334762\ttotal: 10.9s\tremaining: 6.72s\n",
      "619:\tlearn: 0.0334509\ttotal: 10.9s\tremaining: 6.7s\n",
      "620:\tlearn: 0.0334122\ttotal: 10.9s\tremaining: 6.68s\n",
      "621:\tlearn: 0.0333304\ttotal: 11s\tremaining: 6.66s\n",
      "622:\tlearn: 0.0332957\ttotal: 11s\tremaining: 6.64s\n",
      "623:\tlearn: 0.0332713\ttotal: 11s\tremaining: 6.62s\n",
      "624:\tlearn: 0.0332386\ttotal: 11s\tremaining: 6.6s\n",
      "625:\tlearn: 0.0332230\ttotal: 11s\tremaining: 6.58s\n",
      "626:\tlearn: 0.0331941\ttotal: 11s\tremaining: 6.57s\n",
      "627:\tlearn: 0.0331634\ttotal: 11.1s\tremaining: 6.54s\n",
      "628:\tlearn: 0.0331203\ttotal: 11.1s\tremaining: 6.53s\n",
      "629:\tlearn: 0.0330986\ttotal: 11.1s\tremaining: 6.51s\n",
      "630:\tlearn: 0.0330621\ttotal: 11.1s\tremaining: 6.49s\n",
      "631:\tlearn: 0.0330426\ttotal: 11.1s\tremaining: 6.47s\n",
      "632:\tlearn: 0.0330135\ttotal: 11.1s\tremaining: 6.45s\n",
      "633:\tlearn: 0.0329822\ttotal: 11.1s\tremaining: 6.42s\n",
      "634:\tlearn: 0.0329617\ttotal: 11.1s\tremaining: 6.41s\n",
      "635:\tlearn: 0.0329365\ttotal: 11.2s\tremaining: 6.38s\n",
      "636:\tlearn: 0.0329087\ttotal: 11.2s\tremaining: 6.37s\n",
      "637:\tlearn: 0.0328572\ttotal: 11.2s\tremaining: 6.34s\n",
      "638:\tlearn: 0.0328298\ttotal: 11.2s\tremaining: 6.33s\n",
      "639:\tlearn: 0.0328124\ttotal: 11.2s\tremaining: 6.31s\n",
      "640:\tlearn: 0.0327927\ttotal: 11.2s\tremaining: 6.29s\n",
      "641:\tlearn: 0.0327769\ttotal: 11.2s\tremaining: 6.27s\n",
      "642:\tlearn: 0.0327543\ttotal: 11.3s\tremaining: 6.25s\n",
      "643:\tlearn: 0.0327258\ttotal: 11.3s\tremaining: 6.23s\n",
      "644:\tlearn: 0.0326955\ttotal: 11.3s\tremaining: 6.21s\n",
      "645:\tlearn: 0.0326731\ttotal: 11.3s\tremaining: 6.19s\n",
      "646:\tlearn: 0.0326503\ttotal: 11.3s\tremaining: 6.17s\n",
      "647:\tlearn: 0.0326264\ttotal: 11.3s\tremaining: 6.16s\n",
      "648:\tlearn: 0.0325978\ttotal: 11.3s\tremaining: 6.14s\n",
      "649:\tlearn: 0.0325856\ttotal: 11.4s\tremaining: 6.12s\n",
      "650:\tlearn: 0.0325532\ttotal: 11.4s\tremaining: 6.1s\n",
      "651:\tlearn: 0.0325271\ttotal: 11.4s\tremaining: 6.08s\n",
      "652:\tlearn: 0.0325029\ttotal: 11.4s\tremaining: 6.06s\n",
      "653:\tlearn: 0.0324784\ttotal: 11.4s\tremaining: 6.04s\n"
     ]
    },
    {
     "name": "stdout",
     "output_type": "stream",
     "text": [
      "654:\tlearn: 0.0324466\ttotal: 11.4s\tremaining: 6.02s\n",
      "655:\tlearn: 0.0324187\ttotal: 11.4s\tremaining: 6s\n",
      "656:\tlearn: 0.0324017\ttotal: 11.5s\tremaining: 5.99s\n",
      "657:\tlearn: 0.0323750\ttotal: 11.5s\tremaining: 5.96s\n",
      "658:\tlearn: 0.0323595\ttotal: 11.5s\tremaining: 5.95s\n",
      "659:\tlearn: 0.0323282\ttotal: 11.5s\tremaining: 5.93s\n",
      "660:\tlearn: 0.0323003\ttotal: 11.5s\tremaining: 5.91s\n",
      "661:\tlearn: 0.0322701\ttotal: 11.5s\tremaining: 5.89s\n",
      "662:\tlearn: 0.0322563\ttotal: 11.5s\tremaining: 5.87s\n",
      "663:\tlearn: 0.0322384\ttotal: 11.6s\tremaining: 5.85s\n",
      "664:\tlearn: 0.0322106\ttotal: 11.6s\tremaining: 5.83s\n",
      "665:\tlearn: 0.0321842\ttotal: 11.6s\tremaining: 5.81s\n",
      "666:\tlearn: 0.0321434\ttotal: 11.6s\tremaining: 5.79s\n",
      "667:\tlearn: 0.0321369\ttotal: 11.6s\tremaining: 5.77s\n",
      "668:\tlearn: 0.0321133\ttotal: 11.6s\tremaining: 5.75s\n",
      "669:\tlearn: 0.0320929\ttotal: 11.6s\tremaining: 5.74s\n",
      "670:\tlearn: 0.0320660\ttotal: 11.7s\tremaining: 5.72s\n",
      "671:\tlearn: 0.0320481\ttotal: 11.7s\tremaining: 5.7s\n",
      "672:\tlearn: 0.0320074\ttotal: 11.7s\tremaining: 5.68s\n",
      "673:\tlearn: 0.0319595\ttotal: 11.7s\tremaining: 5.66s\n",
      "674:\tlearn: 0.0319103\ttotal: 11.7s\tremaining: 5.64s\n",
      "675:\tlearn: 0.0319009\ttotal: 11.7s\tremaining: 5.62s\n",
      "676:\tlearn: 0.0318820\ttotal: 11.7s\tremaining: 5.6s\n",
      "677:\tlearn: 0.0318641\ttotal: 11.8s\tremaining: 5.58s\n",
      "678:\tlearn: 0.0318373\ttotal: 11.8s\tremaining: 5.56s\n",
      "679:\tlearn: 0.0318145\ttotal: 11.8s\tremaining: 5.54s\n",
      "680:\tlearn: 0.0317898\ttotal: 11.8s\tremaining: 5.53s\n",
      "681:\tlearn: 0.0317734\ttotal: 11.8s\tremaining: 5.5s\n",
      "682:\tlearn: 0.0317562\ttotal: 11.8s\tremaining: 5.49s\n",
      "683:\tlearn: 0.0317187\ttotal: 11.8s\tremaining: 5.47s\n",
      "684:\tlearn: 0.0316870\ttotal: 11.9s\tremaining: 5.45s\n",
      "685:\tlearn: 0.0316426\ttotal: 11.9s\tremaining: 5.43s\n",
      "686:\tlearn: 0.0316216\ttotal: 11.9s\tremaining: 5.42s\n",
      "687:\tlearn: 0.0316106\ttotal: 11.9s\tremaining: 5.39s\n",
      "688:\tlearn: 0.0315974\ttotal: 11.9s\tremaining: 5.38s\n",
      "689:\tlearn: 0.0315853\ttotal: 11.9s\tremaining: 5.36s\n",
      "690:\tlearn: 0.0315648\ttotal: 11.9s\tremaining: 5.34s\n",
      "691:\tlearn: 0.0315449\ttotal: 12s\tremaining: 5.32s\n",
      "692:\tlearn: 0.0315168\ttotal: 12s\tremaining: 5.3s\n",
      "693:\tlearn: 0.0314959\ttotal: 12s\tremaining: 5.28s\n",
      "694:\tlearn: 0.0314743\ttotal: 12s\tremaining: 5.26s\n",
      "695:\tlearn: 0.0314445\ttotal: 12s\tremaining: 5.24s\n",
      "696:\tlearn: 0.0314095\ttotal: 12s\tremaining: 5.22s\n",
      "697:\tlearn: 0.0313774\ttotal: 12s\tremaining: 5.21s\n",
      "698:\tlearn: 0.0313645\ttotal: 12s\tremaining: 5.19s\n",
      "699:\tlearn: 0.0313277\ttotal: 12.1s\tremaining: 5.17s\n",
      "700:\tlearn: 0.0313158\ttotal: 12.1s\tremaining: 5.15s\n",
      "701:\tlearn: 0.0312848\ttotal: 12.1s\tremaining: 5.13s\n",
      "702:\tlearn: 0.0312743\ttotal: 12.1s\tremaining: 5.12s\n",
      "703:\tlearn: 0.0312575\ttotal: 12.1s\tremaining: 5.1s\n",
      "704:\tlearn: 0.0312382\ttotal: 12.1s\tremaining: 5.08s\n",
      "705:\tlearn: 0.0312165\ttotal: 12.1s\tremaining: 5.06s\n",
      "706:\tlearn: 0.0311834\ttotal: 12.2s\tremaining: 5.04s\n",
      "707:\tlearn: 0.0311657\ttotal: 12.2s\tremaining: 5.02s\n",
      "708:\tlearn: 0.0311428\ttotal: 12.2s\tremaining: 5s\n",
      "709:\tlearn: 0.0311332\ttotal: 12.2s\tremaining: 4.98s\n",
      "710:\tlearn: 0.0311059\ttotal: 12.2s\tremaining: 4.96s\n",
      "711:\tlearn: 0.0310916\ttotal: 12.2s\tremaining: 4.95s\n",
      "712:\tlearn: 0.0310630\ttotal: 12.2s\tremaining: 4.93s\n",
      "713:\tlearn: 0.0310349\ttotal: 12.3s\tremaining: 4.91s\n",
      "714:\tlearn: 0.0310049\ttotal: 12.3s\tremaining: 4.89s\n",
      "715:\tlearn: 0.0309842\ttotal: 12.3s\tremaining: 4.87s\n",
      "716:\tlearn: 0.0309636\ttotal: 12.3s\tremaining: 4.86s\n",
      "717:\tlearn: 0.0309364\ttotal: 12.3s\tremaining: 4.84s\n",
      "718:\tlearn: 0.0309128\ttotal: 12.3s\tremaining: 4.82s\n",
      "719:\tlearn: 0.0308780\ttotal: 12.3s\tremaining: 4.8s\n",
      "720:\tlearn: 0.0308573\ttotal: 12.4s\tremaining: 4.78s\n",
      "721:\tlearn: 0.0308208\ttotal: 12.4s\tremaining: 4.76s\n",
      "722:\tlearn: 0.0307977\ttotal: 12.4s\tremaining: 4.75s\n",
      "723:\tlearn: 0.0307707\ttotal: 12.4s\tremaining: 4.73s\n",
      "724:\tlearn: 0.0307388\ttotal: 12.4s\tremaining: 4.71s\n",
      "725:\tlearn: 0.0307070\ttotal: 12.4s\tremaining: 4.69s\n",
      "726:\tlearn: 0.0306999\ttotal: 12.4s\tremaining: 4.67s\n",
      "727:\tlearn: 0.0306681\ttotal: 12.5s\tremaining: 4.65s\n",
      "728:\tlearn: 0.0306451\ttotal: 12.5s\tremaining: 4.63s\n",
      "729:\tlearn: 0.0306328\ttotal: 12.5s\tremaining: 4.62s\n",
      "730:\tlearn: 0.0306148\ttotal: 12.5s\tremaining: 4.6s\n",
      "731:\tlearn: 0.0305918\ttotal: 12.5s\tremaining: 4.58s\n",
      "732:\tlearn: 0.0305770\ttotal: 12.5s\tremaining: 4.56s\n",
      "733:\tlearn: 0.0305389\ttotal: 12.5s\tremaining: 4.54s\n",
      "734:\tlearn: 0.0305090\ttotal: 12.6s\tremaining: 4.53s\n",
      "735:\tlearn: 0.0304871\ttotal: 12.6s\tremaining: 4.51s\n",
      "736:\tlearn: 0.0304722\ttotal: 12.6s\tremaining: 4.49s\n",
      "737:\tlearn: 0.0304440\ttotal: 12.6s\tremaining: 4.47s\n",
      "738:\tlearn: 0.0304255\ttotal: 12.6s\tremaining: 4.45s\n",
      "739:\tlearn: 0.0304054\ttotal: 12.6s\tremaining: 4.43s\n",
      "740:\tlearn: 0.0303736\ttotal: 12.6s\tremaining: 4.42s\n",
      "741:\tlearn: 0.0303430\ttotal: 12.6s\tremaining: 4.4s\n",
      "742:\tlearn: 0.0303318\ttotal: 12.7s\tremaining: 4.38s\n",
      "743:\tlearn: 0.0303059\ttotal: 12.7s\tremaining: 4.36s\n",
      "744:\tlearn: 0.0302696\ttotal: 12.7s\tremaining: 4.35s\n",
      "745:\tlearn: 0.0302386\ttotal: 12.7s\tremaining: 4.33s\n",
      "746:\tlearn: 0.0301931\ttotal: 12.7s\tremaining: 4.31s\n",
      "747:\tlearn: 0.0301777\ttotal: 12.7s\tremaining: 4.29s\n",
      "748:\tlearn: 0.0301530\ttotal: 12.8s\tremaining: 4.27s\n",
      "749:\tlearn: 0.0301428\ttotal: 12.8s\tremaining: 4.26s\n",
      "750:\tlearn: 0.0301165\ttotal: 12.8s\tremaining: 4.24s\n",
      "751:\tlearn: 0.0301007\ttotal: 12.8s\tremaining: 4.22s\n",
      "752:\tlearn: 0.0300797\ttotal: 12.8s\tremaining: 4.2s\n",
      "753:\tlearn: 0.0300685\ttotal: 12.8s\tremaining: 4.18s\n",
      "754:\tlearn: 0.0300469\ttotal: 12.8s\tremaining: 4.17s\n",
      "755:\tlearn: 0.0300169\ttotal: 12.8s\tremaining: 4.15s\n",
      "756:\tlearn: 0.0299992\ttotal: 12.9s\tremaining: 4.13s\n",
      "757:\tlearn: 0.0299904\ttotal: 12.9s\tremaining: 4.11s\n",
      "758:\tlearn: 0.0299762\ttotal: 12.9s\tremaining: 4.09s\n",
      "759:\tlearn: 0.0299544\ttotal: 12.9s\tremaining: 4.08s\n",
      "760:\tlearn: 0.0299243\ttotal: 12.9s\tremaining: 4.06s\n",
      "761:\tlearn: 0.0299051\ttotal: 12.9s\tremaining: 4.04s\n",
      "762:\tlearn: 0.0298834\ttotal: 13s\tremaining: 4.02s\n",
      "763:\tlearn: 0.0298674\ttotal: 13s\tremaining: 4s\n",
      "764:\tlearn: 0.0298393\ttotal: 13s\tremaining: 3.99s\n",
      "765:\tlearn: 0.0298195\ttotal: 13s\tremaining: 3.97s\n",
      "766:\tlearn: 0.0298014\ttotal: 13s\tremaining: 3.95s\n",
      "767:\tlearn: 0.0297661\ttotal: 13s\tremaining: 3.93s\n",
      "768:\tlearn: 0.0297437\ttotal: 13s\tremaining: 3.91s\n",
      "769:\tlearn: 0.0297337\ttotal: 13s\tremaining: 3.9s\n",
      "770:\tlearn: 0.0297067\ttotal: 13.1s\tremaining: 3.88s\n",
      "771:\tlearn: 0.0296880\ttotal: 13.1s\tremaining: 3.86s\n",
      "772:\tlearn: 0.0296610\ttotal: 13.1s\tremaining: 3.84s\n",
      "773:\tlearn: 0.0296502\ttotal: 13.1s\tremaining: 3.83s\n",
      "774:\tlearn: 0.0296206\ttotal: 13.1s\tremaining: 3.81s\n",
      "775:\tlearn: 0.0295898\ttotal: 13.1s\tremaining: 3.79s\n",
      "776:\tlearn: 0.0295652\ttotal: 13.2s\tremaining: 3.77s\n",
      "777:\tlearn: 0.0295391\ttotal: 13.2s\tremaining: 3.76s\n",
      "778:\tlearn: 0.0295174\ttotal: 13.2s\tremaining: 3.74s\n",
      "779:\tlearn: 0.0294950\ttotal: 13.2s\tremaining: 3.73s\n",
      "780:\tlearn: 0.0294774\ttotal: 13.2s\tremaining: 3.71s\n",
      "781:\tlearn: 0.0294654\ttotal: 13.3s\tremaining: 3.69s\n",
      "782:\tlearn: 0.0294436\ttotal: 13.3s\tremaining: 3.68s\n",
      "783:\tlearn: 0.0294222\ttotal: 13.3s\tremaining: 3.67s\n",
      "784:\tlearn: 0.0294090\ttotal: 13.3s\tremaining: 3.65s\n",
      "785:\tlearn: 0.0293830\ttotal: 13.4s\tremaining: 3.63s\n",
      "786:\tlearn: 0.0293615\ttotal: 13.4s\tremaining: 3.62s\n",
      "787:\tlearn: 0.0293372\ttotal: 13.4s\tremaining: 3.6s\n",
      "788:\tlearn: 0.0293148\ttotal: 13.4s\tremaining: 3.59s\n",
      "789:\tlearn: 0.0292769\ttotal: 13.4s\tremaining: 3.57s\n",
      "790:\tlearn: 0.0292558\ttotal: 13.5s\tremaining: 3.56s\n",
      "791:\tlearn: 0.0292303\ttotal: 13.5s\tremaining: 3.54s\n",
      "792:\tlearn: 0.0292020\ttotal: 13.5s\tremaining: 3.53s\n",
      "793:\tlearn: 0.0291791\ttotal: 13.5s\tremaining: 3.51s\n",
      "794:\tlearn: 0.0291624\ttotal: 13.6s\tremaining: 3.5s\n",
      "795:\tlearn: 0.0291540\ttotal: 13.6s\tremaining: 3.48s\n",
      "796:\tlearn: 0.0291298\ttotal: 13.6s\tremaining: 3.47s\n",
      "797:\tlearn: 0.0291043\ttotal: 13.6s\tremaining: 3.45s\n",
      "798:\tlearn: 0.0290983\ttotal: 13.7s\tremaining: 3.44s\n",
      "799:\tlearn: 0.0290828\ttotal: 13.7s\tremaining: 3.42s\n",
      "800:\tlearn: 0.0290606\ttotal: 13.7s\tremaining: 3.4s\n",
      "801:\tlearn: 0.0290217\ttotal: 13.7s\tremaining: 3.39s\n",
      "802:\tlearn: 0.0289811\ttotal: 13.7s\tremaining: 3.37s\n",
      "803:\tlearn: 0.0289550\ttotal: 13.8s\tremaining: 3.36s\n",
      "804:\tlearn: 0.0289397\ttotal: 13.8s\tremaining: 3.34s\n",
      "805:\tlearn: 0.0289106\ttotal: 13.8s\tremaining: 3.32s\n",
      "806:\tlearn: 0.0288765\ttotal: 13.8s\tremaining: 3.3s\n",
      "807:\tlearn: 0.0288510\ttotal: 13.8s\tremaining: 3.29s\n",
      "808:\tlearn: 0.0288278\ttotal: 13.8s\tremaining: 3.27s\n",
      "809:\tlearn: 0.0288084\ttotal: 13.9s\tremaining: 3.25s\n",
      "810:\tlearn: 0.0287923\ttotal: 13.9s\tremaining: 3.23s\n",
      "811:\tlearn: 0.0287722\ttotal: 13.9s\tremaining: 3.21s\n",
      "812:\tlearn: 0.0287554\ttotal: 13.9s\tremaining: 3.2s\n",
      "813:\tlearn: 0.0287246\ttotal: 13.9s\tremaining: 3.18s\n",
      "814:\tlearn: 0.0287117\ttotal: 13.9s\tremaining: 3.16s\n",
      "815:\tlearn: 0.0287016\ttotal: 14s\tremaining: 3.15s\n",
      "816:\tlearn: 0.0286886\ttotal: 14s\tremaining: 3.13s\n",
      "817:\tlearn: 0.0286664\ttotal: 14s\tremaining: 3.11s\n",
      "818:\tlearn: 0.0286436\ttotal: 14s\tremaining: 3.09s\n",
      "819:\tlearn: 0.0286204\ttotal: 14s\tremaining: 3.08s\n",
      "820:\tlearn: 0.0286014\ttotal: 14s\tremaining: 3.06s\n",
      "821:\tlearn: 0.0285904\ttotal: 14s\tremaining: 3.04s\n",
      "822:\tlearn: 0.0285675\ttotal: 14s\tremaining: 3.02s\n",
      "823:\tlearn: 0.0285354\ttotal: 14.1s\tremaining: 3s\n",
      "824:\tlearn: 0.0285221\ttotal: 14.1s\tremaining: 2.98s\n",
      "825:\tlearn: 0.0285076\ttotal: 14.1s\tremaining: 2.97s\n",
      "826:\tlearn: 0.0284919\ttotal: 14.1s\tremaining: 2.95s\n"
     ]
    },
    {
     "name": "stdout",
     "output_type": "stream",
     "text": [
      "827:\tlearn: 0.0284859\ttotal: 14.1s\tremaining: 2.93s\n",
      "828:\tlearn: 0.0284769\ttotal: 14.1s\tremaining: 2.92s\n",
      "829:\tlearn: 0.0284601\ttotal: 14.2s\tremaining: 2.9s\n",
      "830:\tlearn: 0.0284495\ttotal: 14.2s\tremaining: 2.88s\n",
      "831:\tlearn: 0.0284288\ttotal: 14.2s\tremaining: 2.86s\n",
      "832:\tlearn: 0.0284088\ttotal: 14.2s\tremaining: 2.85s\n",
      "833:\tlearn: 0.0283852\ttotal: 14.2s\tremaining: 2.83s\n",
      "834:\tlearn: 0.0283648\ttotal: 14.2s\tremaining: 2.81s\n",
      "835:\tlearn: 0.0283416\ttotal: 14.2s\tremaining: 2.79s\n",
      "836:\tlearn: 0.0283208\ttotal: 14.2s\tremaining: 2.77s\n",
      "837:\tlearn: 0.0282882\ttotal: 14.3s\tremaining: 2.76s\n",
      "838:\tlearn: 0.0282762\ttotal: 14.3s\tremaining: 2.74s\n",
      "839:\tlearn: 0.0282641\ttotal: 14.3s\tremaining: 2.72s\n",
      "840:\tlearn: 0.0282468\ttotal: 14.3s\tremaining: 2.7s\n",
      "841:\tlearn: 0.0282332\ttotal: 14.3s\tremaining: 2.69s\n",
      "842:\tlearn: 0.0282183\ttotal: 14.3s\tremaining: 2.67s\n",
      "843:\tlearn: 0.0281920\ttotal: 14.4s\tremaining: 2.65s\n",
      "844:\tlearn: 0.0281739\ttotal: 14.4s\tremaining: 2.64s\n",
      "845:\tlearn: 0.0281636\ttotal: 14.4s\tremaining: 2.63s\n",
      "846:\tlearn: 0.0281465\ttotal: 14.5s\tremaining: 2.61s\n",
      "847:\tlearn: 0.0281359\ttotal: 14.5s\tremaining: 2.6s\n",
      "848:\tlearn: 0.0281226\ttotal: 14.6s\tremaining: 2.59s\n",
      "849:\tlearn: 0.0280892\ttotal: 14.6s\tremaining: 2.57s\n",
      "850:\tlearn: 0.0280650\ttotal: 14.6s\tremaining: 2.56s\n",
      "851:\tlearn: 0.0280257\ttotal: 14.7s\tremaining: 2.54s\n",
      "852:\tlearn: 0.0279951\ttotal: 14.7s\tremaining: 2.53s\n",
      "853:\tlearn: 0.0279696\ttotal: 14.7s\tremaining: 2.52s\n",
      "854:\tlearn: 0.0279536\ttotal: 14.8s\tremaining: 2.5s\n",
      "855:\tlearn: 0.0279350\ttotal: 14.8s\tremaining: 2.49s\n",
      "856:\tlearn: 0.0279128\ttotal: 14.8s\tremaining: 2.48s\n",
      "857:\tlearn: 0.0278971\ttotal: 14.9s\tremaining: 2.46s\n",
      "858:\tlearn: 0.0278797\ttotal: 14.9s\tremaining: 2.45s\n",
      "859:\tlearn: 0.0278599\ttotal: 14.9s\tremaining: 2.43s\n",
      "860:\tlearn: 0.0277960\ttotal: 15s\tremaining: 2.41s\n",
      "861:\tlearn: 0.0277829\ttotal: 15s\tremaining: 2.4s\n",
      "862:\tlearn: 0.0277521\ttotal: 15s\tremaining: 2.38s\n",
      "863:\tlearn: 0.0277360\ttotal: 15.1s\tremaining: 2.37s\n",
      "864:\tlearn: 0.0277249\ttotal: 15.1s\tremaining: 2.35s\n",
      "865:\tlearn: 0.0276988\ttotal: 15.1s\tremaining: 2.34s\n",
      "866:\tlearn: 0.0276749\ttotal: 15.2s\tremaining: 2.33s\n",
      "867:\tlearn: 0.0276483\ttotal: 15.2s\tremaining: 2.31s\n",
      "868:\tlearn: 0.0276402\ttotal: 15.2s\tremaining: 2.29s\n",
      "869:\tlearn: 0.0276049\ttotal: 15.3s\tremaining: 2.28s\n",
      "870:\tlearn: 0.0275821\ttotal: 15.3s\tremaining: 2.26s\n",
      "871:\tlearn: 0.0275709\ttotal: 15.3s\tremaining: 2.25s\n",
      "872:\tlearn: 0.0275476\ttotal: 15.4s\tremaining: 2.23s\n",
      "873:\tlearn: 0.0275146\ttotal: 15.4s\tremaining: 2.22s\n",
      "874:\tlearn: 0.0275066\ttotal: 15.4s\tremaining: 2.2s\n",
      "875:\tlearn: 0.0274912\ttotal: 15.5s\tremaining: 2.19s\n",
      "876:\tlearn: 0.0274535\ttotal: 15.5s\tremaining: 2.17s\n",
      "877:\tlearn: 0.0274322\ttotal: 15.5s\tremaining: 2.16s\n",
      "878:\tlearn: 0.0274281\ttotal: 15.5s\tremaining: 2.14s\n",
      "879:\tlearn: 0.0274133\ttotal: 15.6s\tremaining: 2.12s\n",
      "880:\tlearn: 0.0274013\ttotal: 15.6s\tremaining: 2.11s\n",
      "881:\tlearn: 0.0273884\ttotal: 15.6s\tremaining: 2.09s\n",
      "882:\tlearn: 0.0273620\ttotal: 15.7s\tremaining: 2.08s\n",
      "883:\tlearn: 0.0273499\ttotal: 15.7s\tremaining: 2.06s\n",
      "884:\tlearn: 0.0273266\ttotal: 15.7s\tremaining: 2.05s\n",
      "885:\tlearn: 0.0273044\ttotal: 15.8s\tremaining: 2.03s\n",
      "886:\tlearn: 0.0272903\ttotal: 15.8s\tremaining: 2.01s\n",
      "887:\tlearn: 0.0272669\ttotal: 15.8s\tremaining: 2s\n",
      "888:\tlearn: 0.0272548\ttotal: 15.9s\tremaining: 1.98s\n",
      "889:\tlearn: 0.0272250\ttotal: 15.9s\tremaining: 1.96s\n",
      "890:\tlearn: 0.0272047\ttotal: 15.9s\tremaining: 1.94s\n",
      "891:\tlearn: 0.0271927\ttotal: 15.9s\tremaining: 1.92s\n",
      "892:\tlearn: 0.0271672\ttotal: 15.9s\tremaining: 1.91s\n",
      "893:\tlearn: 0.0271396\ttotal: 15.9s\tremaining: 1.89s\n",
      "894:\tlearn: 0.0271236\ttotal: 15.9s\tremaining: 1.87s\n",
      "895:\tlearn: 0.0271071\ttotal: 15.9s\tremaining: 1.85s\n",
      "896:\tlearn: 0.0270864\ttotal: 16s\tremaining: 1.83s\n",
      "897:\tlearn: 0.0270706\ttotal: 16s\tremaining: 1.81s\n",
      "898:\tlearn: 0.0270413\ttotal: 16s\tremaining: 1.8s\n",
      "899:\tlearn: 0.0270273\ttotal: 16s\tremaining: 1.78s\n",
      "900:\tlearn: 0.0270082\ttotal: 16s\tremaining: 1.76s\n",
      "901:\tlearn: 0.0269889\ttotal: 16s\tremaining: 1.74s\n",
      "902:\tlearn: 0.0269670\ttotal: 16.1s\tremaining: 1.72s\n",
      "903:\tlearn: 0.0269452\ttotal: 16.1s\tremaining: 1.71s\n",
      "904:\tlearn: 0.0269269\ttotal: 16.1s\tremaining: 1.69s\n",
      "905:\tlearn: 0.0268946\ttotal: 16.1s\tremaining: 1.67s\n",
      "906:\tlearn: 0.0268803\ttotal: 16.1s\tremaining: 1.65s\n",
      "907:\tlearn: 0.0268643\ttotal: 16.1s\tremaining: 1.63s\n",
      "908:\tlearn: 0.0268486\ttotal: 16.1s\tremaining: 1.61s\n",
      "909:\tlearn: 0.0268453\ttotal: 16.1s\tremaining: 1.6s\n",
      "910:\tlearn: 0.0268227\ttotal: 16.2s\tremaining: 1.58s\n",
      "911:\tlearn: 0.0268090\ttotal: 16.2s\tremaining: 1.56s\n",
      "912:\tlearn: 0.0267916\ttotal: 16.2s\tremaining: 1.54s\n",
      "913:\tlearn: 0.0267568\ttotal: 16.2s\tremaining: 1.52s\n",
      "914:\tlearn: 0.0267448\ttotal: 16.2s\tremaining: 1.51s\n",
      "915:\tlearn: 0.0267286\ttotal: 16.2s\tremaining: 1.49s\n",
      "916:\tlearn: 0.0267138\ttotal: 16.2s\tremaining: 1.47s\n",
      "917:\tlearn: 0.0266868\ttotal: 16.3s\tremaining: 1.45s\n",
      "918:\tlearn: 0.0266645\ttotal: 16.3s\tremaining: 1.44s\n",
      "919:\tlearn: 0.0266540\ttotal: 16.3s\tremaining: 1.42s\n",
      "920:\tlearn: 0.0266365\ttotal: 16.3s\tremaining: 1.4s\n",
      "921:\tlearn: 0.0266262\ttotal: 16.3s\tremaining: 1.38s\n",
      "922:\tlearn: 0.0266151\ttotal: 16.3s\tremaining: 1.36s\n",
      "923:\tlearn: 0.0266028\ttotal: 16.4s\tremaining: 1.35s\n",
      "924:\tlearn: 0.0265907\ttotal: 16.4s\tremaining: 1.33s\n",
      "925:\tlearn: 0.0265761\ttotal: 16.4s\tremaining: 1.31s\n",
      "926:\tlearn: 0.0265576\ttotal: 16.4s\tremaining: 1.29s\n",
      "927:\tlearn: 0.0265357\ttotal: 16.4s\tremaining: 1.27s\n",
      "928:\tlearn: 0.0265134\ttotal: 16.5s\tremaining: 1.26s\n",
      "929:\tlearn: 0.0265025\ttotal: 16.5s\tremaining: 1.24s\n",
      "930:\tlearn: 0.0264789\ttotal: 16.5s\tremaining: 1.22s\n",
      "931:\tlearn: 0.0264618\ttotal: 16.5s\tremaining: 1.21s\n",
      "932:\tlearn: 0.0264431\ttotal: 16.5s\tremaining: 1.19s\n",
      "933:\tlearn: 0.0264189\ttotal: 16.6s\tremaining: 1.17s\n",
      "934:\tlearn: 0.0263997\ttotal: 16.6s\tremaining: 1.15s\n",
      "935:\tlearn: 0.0263768\ttotal: 16.6s\tremaining: 1.13s\n",
      "936:\tlearn: 0.0263609\ttotal: 16.6s\tremaining: 1.11s\n",
      "937:\tlearn: 0.0263419\ttotal: 16.6s\tremaining: 1.1s\n",
      "938:\tlearn: 0.0263214\ttotal: 16.6s\tremaining: 1.08s\n",
      "939:\tlearn: 0.0263047\ttotal: 16.6s\tremaining: 1.06s\n",
      "940:\tlearn: 0.0262832\ttotal: 16.6s\tremaining: 1.04s\n",
      "941:\tlearn: 0.0262720\ttotal: 16.7s\tremaining: 1.02s\n",
      "942:\tlearn: 0.0262562\ttotal: 16.7s\tremaining: 1.01s\n",
      "943:\tlearn: 0.0262317\ttotal: 16.7s\tremaining: 990ms\n",
      "944:\tlearn: 0.0262180\ttotal: 16.7s\tremaining: 973ms\n",
      "945:\tlearn: 0.0262042\ttotal: 16.7s\tremaining: 955ms\n",
      "946:\tlearn: 0.0261702\ttotal: 16.7s\tremaining: 937ms\n",
      "947:\tlearn: 0.0261547\ttotal: 16.8s\tremaining: 919ms\n",
      "948:\tlearn: 0.0261362\ttotal: 16.8s\tremaining: 901ms\n",
      "949:\tlearn: 0.0261241\ttotal: 16.8s\tremaining: 883ms\n",
      "950:\tlearn: 0.0260945\ttotal: 16.8s\tremaining: 866ms\n",
      "951:\tlearn: 0.0260788\ttotal: 16.8s\tremaining: 848ms\n",
      "952:\tlearn: 0.0260606\ttotal: 16.8s\tremaining: 830ms\n",
      "953:\tlearn: 0.0260470\ttotal: 16.8s\tremaining: 812ms\n",
      "954:\tlearn: 0.0260158\ttotal: 16.9s\tremaining: 794ms\n",
      "955:\tlearn: 0.0259995\ttotal: 16.9s\tremaining: 776ms\n",
      "956:\tlearn: 0.0259887\ttotal: 16.9s\tremaining: 758ms\n",
      "957:\tlearn: 0.0259718\ttotal: 16.9s\tremaining: 741ms\n",
      "958:\tlearn: 0.0259552\ttotal: 16.9s\tremaining: 723ms\n",
      "959:\tlearn: 0.0259438\ttotal: 16.9s\tremaining: 705ms\n",
      "960:\tlearn: 0.0259228\ttotal: 16.9s\tremaining: 688ms\n",
      "961:\tlearn: 0.0259152\ttotal: 17s\tremaining: 670ms\n",
      "962:\tlearn: 0.0259010\ttotal: 17s\tremaining: 652ms\n",
      "963:\tlearn: 0.0258924\ttotal: 17s\tremaining: 634ms\n",
      "964:\tlearn: 0.0258757\ttotal: 17s\tremaining: 617ms\n",
      "965:\tlearn: 0.0258499\ttotal: 17s\tremaining: 599ms\n",
      "966:\tlearn: 0.0258372\ttotal: 17s\tremaining: 581ms\n",
      "967:\tlearn: 0.0258240\ttotal: 17s\tremaining: 563ms\n",
      "968:\tlearn: 0.0258168\ttotal: 17.1s\tremaining: 546ms\n",
      "969:\tlearn: 0.0258035\ttotal: 17.1s\tremaining: 528ms\n",
      "970:\tlearn: 0.0257942\ttotal: 17.1s\tremaining: 510ms\n",
      "971:\tlearn: 0.0257860\ttotal: 17.1s\tremaining: 492ms\n",
      "972:\tlearn: 0.0257585\ttotal: 17.1s\tremaining: 475ms\n",
      "973:\tlearn: 0.0257401\ttotal: 17.1s\tremaining: 457ms\n",
      "974:\tlearn: 0.0257220\ttotal: 17.1s\tremaining: 440ms\n",
      "975:\tlearn: 0.0257123\ttotal: 17.2s\tremaining: 422ms\n",
      "976:\tlearn: 0.0256939\ttotal: 17.2s\tremaining: 404ms\n",
      "977:\tlearn: 0.0256826\ttotal: 17.2s\tremaining: 387ms\n",
      "978:\tlearn: 0.0256743\ttotal: 17.2s\tremaining: 369ms\n",
      "979:\tlearn: 0.0256680\ttotal: 17.2s\tremaining: 351ms\n",
      "980:\tlearn: 0.0256480\ttotal: 17.2s\tremaining: 334ms\n",
      "981:\tlearn: 0.0256363\ttotal: 17.2s\tremaining: 316ms\n",
      "982:\tlearn: 0.0256080\ttotal: 17.3s\tremaining: 298ms\n",
      "983:\tlearn: 0.0255896\ttotal: 17.3s\tremaining: 281ms\n",
      "984:\tlearn: 0.0255818\ttotal: 17.3s\tremaining: 263ms\n",
      "985:\tlearn: 0.0255544\ttotal: 17.3s\tremaining: 246ms\n",
      "986:\tlearn: 0.0255370\ttotal: 17.3s\tremaining: 228ms\n",
      "987:\tlearn: 0.0255077\ttotal: 17.3s\tremaining: 211ms\n",
      "988:\tlearn: 0.0255010\ttotal: 17.3s\tremaining: 193ms\n",
      "989:\tlearn: 0.0254875\ttotal: 17.4s\tremaining: 175ms\n",
      "990:\tlearn: 0.0254749\ttotal: 17.4s\tremaining: 158ms\n",
      "991:\tlearn: 0.0254541\ttotal: 17.4s\tremaining: 140ms\n",
      "992:\tlearn: 0.0254386\ttotal: 17.4s\tremaining: 123ms\n",
      "993:\tlearn: 0.0254220\ttotal: 17.4s\tremaining: 105ms\n",
      "994:\tlearn: 0.0254042\ttotal: 17.4s\tremaining: 87.6ms\n",
      "995:\tlearn: 0.0253900\ttotal: 17.4s\tremaining: 70.1ms\n",
      "996:\tlearn: 0.0253587\ttotal: 17.5s\tremaining: 52.5ms\n",
      "997:\tlearn: 0.0253388\ttotal: 17.5s\tremaining: 35ms\n",
      "998:\tlearn: 0.0253288\ttotal: 17.5s\tremaining: 17.5ms\n"
     ]
    },
    {
     "name": "stdout",
     "output_type": "stream",
     "text": [
      "999:\tlearn: 0.0253017\ttotal: 17.5s\tremaining: 0us\n",
      "0:00:18.102124\n"
     ]
    }
   ],
   "source": [
    "time1 = datetime.now()\n",
    "\n",
    "model = CatBoostClassifier(iterations=1000, depth=6, learning_rate=0.1)\n",
    "model.fit(xtrain,ytrain)\n",
    "pred17 = model.predict(xtest)\n",
    "\n",
    "time2 = datetime.now()\n",
    "\n",
    "t.append((time2-time1).total_seconds())\n",
    "\n",
    "d.append(roc_auc_score(pred17,ytest))\n",
    "f.append(f1_score(pred17,ytest))\n",
    "p.append(precision_score(pred17,ytest))\n",
    "r.append(recall_score(pred17,ytest))\n",
    "\n",
    "n.append('CatBoostClassifier')\n",
    "\n",
    "print(time2-time1)"
   ]
  },
  {
   "cell_type": "code",
   "execution_count": 76,
   "metadata": {},
   "outputs": [],
   "source": [
    "# Feature Importance\n",
    "\n",
    "#feature_importances = model.get_feature_importance()\n",
    "#feature_names = xtrain.columns\n",
    "#sbn.barplot(feature_importances,feature_names)"
   ]
  },
  {
   "cell_type": "code",
   "execution_count": 77,
   "metadata": {},
   "outputs": [
    {
     "name": "stdout",
     "output_type": "stream",
     "text": [
      "0.990437301508237\n",
      "0.9898773715872282\n",
      "0.9898854038499001\n",
      "0.990523798351321\n"
     ]
    }
   ],
   "source": [
    "print(roc_auc_score(pred17,ytest))\n",
    "print(roc_auc_score(pred15,ytest))\n",
    "print(roc_auc_score(pred13,ytest))\n",
    "print(roc_auc_score(pred3,ytest))"
   ]
  },
  {
   "cell_type": "code",
   "execution_count": 78,
   "metadata": {},
   "outputs": [
    {
     "name": "stdout",
     "output_type": "stream",
     "text": [
      "0.9844041196665032\n",
      "0.9827806749975401\n",
      "0.9849609375\n",
      "0.9843979982337356\n"
     ]
    }
   ],
   "source": [
    "print(f1_score(pred17,ytest))\n",
    "print(f1_score(pred15,ytest))\n",
    "print(f1_score(pred13,ytest))\n",
    "print(f1_score(pred3,ytest))"
   ]
  },
  {
   "cell_type": "code",
   "execution_count": 79,
   "metadata": {},
   "outputs": [
    {
     "data": {
      "text/plain": [
       "Text(0.5,1,'ROC AUC Score')"
      ]
     },
     "execution_count": 79,
     "metadata": {},
     "output_type": "execute_result"
    },
    {
     "data": {
      "image/png": "[encoded data removed]",
      "text/plain": [
       "<Figure size 432x288 with 1 Axes>"
      ]
     },
     "metadata": {},
     "output_type": "display_data"
    }
   ],
   "source": [
    "# roc_auc_score\n",
    "sbn.barplot(d,n).set_title(\"ROC AUC Score\")"
   ]
  },
  {
   "cell_type": "code",
   "execution_count": 80,
   "metadata": {},
   "outputs": [
    {
     "data": {
      "text/plain": [
       "Text(0.5,1,'F-1 Score')"
      ]
     },
     "execution_count": 80,
     "metadata": {},
     "output_type": "execute_result"
    },
    {
     "data": {
      "image/png": "[encoded data removed]",
      "text/plain": [
       "<Figure size 432x288 with 1 Axes>"
      ]
     },
     "metadata": {},
     "output_type": "display_data"
    }
   ],
   "source": [
    "# f-1 score\n",
    "sbn.barplot(f,n).set_title(\"F-1 Score\")"
   ]
  },
  {
   "cell_type": "code",
   "execution_count": 81,
   "metadata": {},
   "outputs": [
    {
     "data": {
      "text/plain": [
       "Text(0.5,1,'Precision')"
      ]
     },
     "execution_count": 81,
     "metadata": {},
     "output_type": "execute_result"
    },
    {
     "data": {
      "image/png": "[encoded data removed]",
      "text/plain": [
       "<Figure size 432x288 with 1 Axes>"
      ]
     },
     "metadata": {},
     "output_type": "display_data"
    }
   ],
   "source": [
    "# precision\n",
    "sbn.barplot(p,n).set_title(\"Precision\")"
   ]
  },
  {
   "cell_type": "code",
   "execution_count": 82,
   "metadata": {},
   "outputs": [
    {
     "data": {
      "text/plain": [
       "Text(0.5,1,'Recall')"
      ]
     },
     "execution_count": 82,
     "metadata": {},
     "output_type": "execute_result"
    },
    {
     "data": {
      "image/png": "[encoded data removed]",
      "text/plain": [
       "<Figure size 432x288 with 1 Axes>"
      ]
     },
     "metadata": {},
     "output_type": "display_data"
    }
   ],
   "source": [
    "# recall\n",
    "sbn.barplot(r,n).set_title(\"Recall\")"
   ]
  },
  {
   "cell_type": "code",
   "execution_count": 83,
   "metadata": {},
   "outputs": [
    {
     "data": {
      "text/plain": [
       "Text(0.5,1,'Time Taken')"
      ]
     },
     "execution_count": 83,
     "metadata": {},
     "output_type": "execute_result"
    },
    {
     "data": {
      "image/png": "[encoded data removed]",
      "text/plain": [
       "<Figure size 432x288 with 1 Axes>"
      ]
     },
     "metadata": {},
     "output_type": "display_data"
    }
   ],
   "source": [
    "sbn.barplot(t,n).set_title(\"Time Taken\")"
   ]
  },
  {
   "cell_type": "code",
   "execution_count": null,
   "metadata": {},
   "outputs": [],
   "source": []
  }
 ],
 "metadata": {
  "kernelspec": {
   "display_name": "Python 3",
   "language": "python",
   "name": "python3"
  },
  "language_info": {
   "codemirror_mode": {
    "name": "ipython",
    "version": 3
   },
   "file_extension": ".py",
   "mimetype": "text/x-python",
   "name": "python",
   "nbconvert_exporter": "python",
   "pygments_lexer": "ipython3",
   "version": "3.6.5"
  }
 },
 "nbformat": 4,
 "nbformat_minor": 2
}
