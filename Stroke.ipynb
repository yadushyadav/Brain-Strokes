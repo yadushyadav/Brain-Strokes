{
 "cells": [
  {
   "cell_type": "markdown",
   "metadata": {},
   "source": [
    "### Importing the libraries that will be used in the model"
   ]
  },
  {
   "cell_type": "code",
   "execution_count": 1,
   "metadata": {},
   "outputs": [],
   "source": [
    "# Data manipulation\n",
    "import pandas as pd\n",
    "import numpy as np\n",
    "\n",
    "# Synthetic over sampling of minority\n",
    "from imblearn.over_sampling import SMOTE\n",
    "\n",
    "# Complexity\n",
    "from datetime import datetime\n",
    "\n",
    "# Visualization\n",
    "import matplotlib.pyplot as plt\n",
    "import seaborn as sbn\n",
    "%matplotlib inline\n",
    "\n",
    "# Algorithms\n",
    "from sklearn.neural_network import MLPClassifier\n",
    "from sklearn.neighbors import KNeighborsClassifier\n",
    "from sklearn.svm import SVC\n",
    "from sklearn.gaussian_process import GaussianProcessClassifier\n",
    "from sklearn.gaussian_process.kernels import RBF\n",
    "from sklearn.tree import DecisionTreeClassifier\n",
    "from sklearn.ensemble import RandomForestClassifier, AdaBoostClassifier, GradientBoostingClassifier, ExtraTreesClassifier \n",
    "from sklearn.naive_bayes import GaussianNB\n",
    "from sklearn.discriminant_analysis import QuadraticDiscriminantAnalysis\n",
    "from sklearn.linear_model import LogisticRegression\n",
    "from sklearn.linear_model import SGDClassifier\n",
    "import xgboost as xgb\n",
    "from sklearn.ensemble import BaggingClassifier\n",
    "from catboost import CatBoostClassifier\n",
    "\n",
    "# Training\n",
    "from sklearn.model_selection import train_test_split\n",
    "from sklearn.model_selection import KFold, StratifiedKFold\n",
    "\n",
    "# Evaluating\n",
    "from sklearn.metrics import roc_auc_score\n",
    "from sklearn.metrics import f1_score, precision_score, recall_score"
   ]
  },
  {
   "cell_type": "markdown",
   "metadata": {},
   "source": [
    "### Loading the dataset into a pandas dataframe"
   ]
  },
  {
   "cell_type": "code",
   "execution_count": 2,
   "metadata": {},
   "outputs": [
    {
     "name": "stdout",
     "output_type": "stream",
     "text": [
      "<class 'pandas.core.frame.DataFrame'>\n",
      "RangeIndex: 43400 entries, 0 to 43399\n",
      "Data columns (total 12 columns):\n",
      "id                   43400 non-null int64\n",
      "gender               43400 non-null object\n",
      "age                  43400 non-null float64\n",
      "hypertension         43400 non-null int64\n",
      "heart_disease        43400 non-null int64\n",
      "ever_married         43400 non-null object\n",
      "work_type            43400 non-null object\n",
      "Residence_type       43400 non-null object\n",
      "avg_glucose_level    43400 non-null float64\n",
      "bmi                  41938 non-null float64\n",
      "smoking_status       30108 non-null object\n",
      "stroke               43400 non-null int64\n",
      "dtypes: float64(3), int64(4), object(5)\n",
      "memory usage: 4.0+ MB\n"
     ]
    }
   ],
   "source": [
    "df = pd.read_csv(\"/Users/yadushyadav/downloads/healthcare-stroke/train.csv\")\n",
    "df.info()"
   ]
  },
  {
   "cell_type": "markdown",
   "metadata": {},
   "source": [
    "### Viewing the dataset and fixing irregularities"
   ]
  },
  {
   "cell_type": "code",
   "execution_count": 3,
   "metadata": {},
   "outputs": [
    {
     "data": {
      "text/html": [
       "<div>\n",
       "<style scoped>\n",
       "    .dataframe tbody tr th:only-of-type {\n",
       "        vertical-align: middle;\n",
       "    }\n",
       "\n",
       "    .dataframe tbody tr th {\n",
       "        vertical-align: top;\n",
       "    }\n",
       "\n",
       "    .dataframe thead th {\n",
       "        text-align: right;\n",
       "    }\n",
       "</style>\n",
       "<table border=\"1\" class=\"dataframe\">\n",
       "  <thead>\n",
       "    <tr style=\"text-align: right;\">\n",
       "      <th></th>\n",
       "      <th>id</th>\n",
       "      <th>gender</th>\n",
       "      <th>age</th>\n",
       "      <th>hypertension</th>\n",
       "      <th>heart_disease</th>\n",
       "      <th>ever_married</th>\n",
       "      <th>work_type</th>\n",
       "      <th>Residence_type</th>\n",
       "      <th>avg_glucose_level</th>\n",
       "      <th>bmi</th>\n",
       "      <th>smoking_status</th>\n",
       "      <th>stroke</th>\n",
       "    </tr>\n",
       "  </thead>\n",
       "  <tbody>\n",
       "    <tr>\n",
       "      <th>0</th>\n",
       "      <td>30669</td>\n",
       "      <td>Male</td>\n",
       "      <td>3.0</td>\n",
       "      <td>0</td>\n",
       "      <td>0</td>\n",
       "      <td>No</td>\n",
       "      <td>children</td>\n",
       "      <td>Rural</td>\n",
       "      <td>95.12</td>\n",
       "      <td>18.0</td>\n",
       "      <td>NaN</td>\n",
       "      <td>0</td>\n",
       "    </tr>\n",
       "    <tr>\n",
       "      <th>1</th>\n",
       "      <td>30468</td>\n",
       "      <td>Male</td>\n",
       "      <td>58.0</td>\n",
       "      <td>1</td>\n",
       "      <td>0</td>\n",
       "      <td>Yes</td>\n",
       "      <td>Private</td>\n",
       "      <td>Urban</td>\n",
       "      <td>87.96</td>\n",
       "      <td>39.2</td>\n",
       "      <td>never smoked</td>\n",
       "      <td>0</td>\n",
       "    </tr>\n",
       "    <tr>\n",
       "      <th>2</th>\n",
       "      <td>16523</td>\n",
       "      <td>Female</td>\n",
       "      <td>8.0</td>\n",
       "      <td>0</td>\n",
       "      <td>0</td>\n",
       "      <td>No</td>\n",
       "      <td>Private</td>\n",
       "      <td>Urban</td>\n",
       "      <td>110.89</td>\n",
       "      <td>17.6</td>\n",
       "      <td>NaN</td>\n",
       "      <td>0</td>\n",
       "    </tr>\n",
       "    <tr>\n",
       "      <th>3</th>\n",
       "      <td>56543</td>\n",
       "      <td>Female</td>\n",
       "      <td>70.0</td>\n",
       "      <td>0</td>\n",
       "      <td>0</td>\n",
       "      <td>Yes</td>\n",
       "      <td>Private</td>\n",
       "      <td>Rural</td>\n",
       "      <td>69.04</td>\n",
       "      <td>35.9</td>\n",
       "      <td>formerly smoked</td>\n",
       "      <td>0</td>\n",
       "    </tr>\n",
       "    <tr>\n",
       "      <th>4</th>\n",
       "      <td>46136</td>\n",
       "      <td>Male</td>\n",
       "      <td>14.0</td>\n",
       "      <td>0</td>\n",
       "      <td>0</td>\n",
       "      <td>No</td>\n",
       "      <td>Never_worked</td>\n",
       "      <td>Rural</td>\n",
       "      <td>161.28</td>\n",
       "      <td>19.1</td>\n",
       "      <td>NaN</td>\n",
       "      <td>0</td>\n",
       "    </tr>\n",
       "  </tbody>\n",
       "</table>\n",
       "</div>"
      ],
      "text/plain": [
       "      id  gender   age  hypertension  heart_disease ever_married  \\\n",
       "0  30669    Male   3.0             0              0           No   \n",
       "1  30468    Male  58.0             1              0          Yes   \n",
       "2  16523  Female   8.0             0              0           No   \n",
       "3  56543  Female  70.0             0              0          Yes   \n",
       "4  46136    Male  14.0             0              0           No   \n",
       "\n",
       "      work_type Residence_type  avg_glucose_level   bmi   smoking_status  \\\n",
       "0      children          Rural              95.12  18.0              NaN   \n",
       "1       Private          Urban              87.96  39.2     never smoked   \n",
       "2       Private          Urban             110.89  17.6              NaN   \n",
       "3       Private          Rural              69.04  35.9  formerly smoked   \n",
       "4  Never_worked          Rural             161.28  19.1              NaN   \n",
       "\n",
       "   stroke  \n",
       "0       0  \n",
       "1       0  \n",
       "2       0  \n",
       "3       0  \n",
       "4       0  "
      ]
     },
     "execution_count": 3,
     "metadata": {},
     "output_type": "execute_result"
    }
   ],
   "source": [
    "df.head()"
   ]
  },
  {
   "cell_type": "code",
   "execution_count": 4,
   "metadata": {},
   "outputs": [
    {
     "data": {
      "text/plain": [
       "never smoked       16053\n",
       "formerly smoked     7493\n",
       "smokes              6562\n",
       "Name: smoking_status, dtype: int64"
      ]
     },
     "execution_count": 4,
     "metadata": {},
     "output_type": "execute_result"
    }
   ],
   "source": [
    "df['smoking_status'].value_counts()"
   ]
  },
  {
   "cell_type": "code",
   "execution_count": 5,
   "metadata": {},
   "outputs": [
    {
     "data": {
      "text/plain": [
       "0    42617\n",
       "1      783\n",
       "Name: stroke, dtype: int64"
      ]
     },
     "execution_count": 5,
     "metadata": {},
     "output_type": "execute_result"
    }
   ],
   "source": [
    "df['stroke'].value_counts()"
   ]
  },
  {
   "cell_type": "code",
   "execution_count": 6,
   "metadata": {},
   "outputs": [
    {
     "data": {
      "text/plain": [
       "Female    25665\n",
       "Male      17724\n",
       "Other        11\n",
       "Name: gender, dtype: int64"
      ]
     },
     "execution_count": 6,
     "metadata": {},
     "output_type": "execute_result"
    }
   ],
   "source": [
    "df['gender'].value_counts()"
   ]
  },
  {
   "cell_type": "code",
   "execution_count": 7,
   "metadata": {},
   "outputs": [
    {
     "name": "stdout",
     "output_type": "stream",
     "text": [
      "   gender    stroke\n",
      "0  Female  0.016793\n",
      "1    Male  0.019860\n",
      "2   Other  0.000000\n"
     ]
    }
   ],
   "source": [
    "print(df[[\"gender\", \"stroke\"]].groupby(['gender'], as_index=False).mean())"
   ]
  },
  {
   "cell_type": "code",
   "execution_count": 8,
   "metadata": {},
   "outputs": [],
   "source": [
    "df['gender'] = df['gender'].map({'Female': 0, 'Male': 1, 'Other': 2} ).astype(int)"
   ]
  },
  {
   "cell_type": "code",
   "execution_count": 9,
   "metadata": {},
   "outputs": [
    {
     "data": {
      "text/plain": [
       "Urban    21756\n",
       "Rural    21644\n",
       "Name: Residence_type, dtype: int64"
      ]
     },
     "execution_count": 9,
     "metadata": {},
     "output_type": "execute_result"
    }
   ],
   "source": [
    "df['Residence_type'].value_counts()"
   ]
  },
  {
   "cell_type": "code",
   "execution_count": 10,
   "metadata": {},
   "outputs": [],
   "source": [
    "df['Residence_type'] = df['Residence_type'].map({'Urban': 0, 'Rural': 1} ).astype(int)"
   ]
  },
  {
   "cell_type": "code",
   "execution_count": 11,
   "metadata": {},
   "outputs": [
    {
     "data": {
      "text/plain": [
       "Yes    27938\n",
       "No     15462\n",
       "Name: ever_married, dtype: int64"
      ]
     },
     "execution_count": 11,
     "metadata": {},
     "output_type": "execute_result"
    }
   ],
   "source": [
    "df['ever_married'].value_counts()"
   ]
  },
  {
   "cell_type": "code",
   "execution_count": 12,
   "metadata": {},
   "outputs": [],
   "source": [
    "df['ever_married'] = df['ever_married'].map({'Yes': 0, 'No': 1} ).astype(int)"
   ]
  },
  {
   "cell_type": "code",
   "execution_count": 13,
   "metadata": {},
   "outputs": [
    {
     "data": {
      "text/plain": [
       "Private          24834\n",
       "Self-employed     6793\n",
       "children          6156\n",
       "Govt_job          5440\n",
       "Never_worked       177\n",
       "Name: work_type, dtype: int64"
      ]
     },
     "execution_count": 13,
     "metadata": {},
     "output_type": "execute_result"
    }
   ],
   "source": [
    "df['work_type'].value_counts()"
   ]
  },
  {
   "cell_type": "code",
   "execution_count": 14,
   "metadata": {},
   "outputs": [],
   "source": [
    "df['work_type'] = df['work_type'].map({'Private': 0, 'Self-employed': 1, 'children': 2, 'Govt_job': 3, 'Never_worked': 4} ).astype(int)"
   ]
  },
  {
   "cell_type": "code",
   "execution_count": 15,
   "metadata": {},
   "outputs": [
    {
     "data": {
      "text/html": [
       "<div>\n",
       "<style scoped>\n",
       "    .dataframe tbody tr th:only-of-type {\n",
       "        vertical-align: middle;\n",
       "    }\n",
       "\n",
       "    .dataframe tbody tr th {\n",
       "        vertical-align: top;\n",
       "    }\n",
       "\n",
       "    .dataframe thead th {\n",
       "        text-align: right;\n",
       "    }\n",
       "</style>\n",
       "<table border=\"1\" class=\"dataframe\">\n",
       "  <thead>\n",
       "    <tr style=\"text-align: right;\">\n",
       "      <th></th>\n",
       "      <th>id</th>\n",
       "      <th>gender</th>\n",
       "      <th>age</th>\n",
       "      <th>hypertension</th>\n",
       "      <th>heart_disease</th>\n",
       "      <th>ever_married</th>\n",
       "      <th>work_type</th>\n",
       "      <th>Residence_type</th>\n",
       "      <th>avg_glucose_level</th>\n",
       "      <th>bmi</th>\n",
       "      <th>smoking_status</th>\n",
       "      <th>stroke</th>\n",
       "    </tr>\n",
       "  </thead>\n",
       "  <tbody>\n",
       "    <tr>\n",
       "      <th>0</th>\n",
       "      <td>30669</td>\n",
       "      <td>1</td>\n",
       "      <td>3.0</td>\n",
       "      <td>0</td>\n",
       "      <td>0</td>\n",
       "      <td>1</td>\n",
       "      <td>2</td>\n",
       "      <td>1</td>\n",
       "      <td>95.12</td>\n",
       "      <td>18.0</td>\n",
       "      <td>NaN</td>\n",
       "      <td>0</td>\n",
       "    </tr>\n",
       "    <tr>\n",
       "      <th>1</th>\n",
       "      <td>30468</td>\n",
       "      <td>1</td>\n",
       "      <td>58.0</td>\n",
       "      <td>1</td>\n",
       "      <td>0</td>\n",
       "      <td>0</td>\n",
       "      <td>0</td>\n",
       "      <td>0</td>\n",
       "      <td>87.96</td>\n",
       "      <td>39.2</td>\n",
       "      <td>never smoked</td>\n",
       "      <td>0</td>\n",
       "    </tr>\n",
       "    <tr>\n",
       "      <th>2</th>\n",
       "      <td>16523</td>\n",
       "      <td>0</td>\n",
       "      <td>8.0</td>\n",
       "      <td>0</td>\n",
       "      <td>0</td>\n",
       "      <td>1</td>\n",
       "      <td>0</td>\n",
       "      <td>0</td>\n",
       "      <td>110.89</td>\n",
       "      <td>17.6</td>\n",
       "      <td>NaN</td>\n",
       "      <td>0</td>\n",
       "    </tr>\n",
       "    <tr>\n",
       "      <th>3</th>\n",
       "      <td>56543</td>\n",
       "      <td>0</td>\n",
       "      <td>70.0</td>\n",
       "      <td>0</td>\n",
       "      <td>0</td>\n",
       "      <td>0</td>\n",
       "      <td>0</td>\n",
       "      <td>1</td>\n",
       "      <td>69.04</td>\n",
       "      <td>35.9</td>\n",
       "      <td>formerly smoked</td>\n",
       "      <td>0</td>\n",
       "    </tr>\n",
       "    <tr>\n",
       "      <th>4</th>\n",
       "      <td>46136</td>\n",
       "      <td>1</td>\n",
       "      <td>14.0</td>\n",
       "      <td>0</td>\n",
       "      <td>0</td>\n",
       "      <td>1</td>\n",
       "      <td>4</td>\n",
       "      <td>1</td>\n",
       "      <td>161.28</td>\n",
       "      <td>19.1</td>\n",
       "      <td>NaN</td>\n",
       "      <td>0</td>\n",
       "    </tr>\n",
       "  </tbody>\n",
       "</table>\n",
       "</div>"
      ],
      "text/plain": [
       "      id  gender   age  hypertension  heart_disease  ever_married  work_type  \\\n",
       "0  30669       1   3.0             0              0             1          2   \n",
       "1  30468       1  58.0             1              0             0          0   \n",
       "2  16523       0   8.0             0              0             1          0   \n",
       "3  56543       0  70.0             0              0             0          0   \n",
       "4  46136       1  14.0             0              0             1          4   \n",
       "\n",
       "   Residence_type  avg_glucose_level   bmi   smoking_status  stroke  \n",
       "0               1              95.12  18.0              NaN       0  \n",
       "1               0              87.96  39.2     never smoked       0  \n",
       "2               0             110.89  17.6              NaN       0  \n",
       "3               1              69.04  35.9  formerly smoked       0  \n",
       "4               1             161.28  19.1              NaN       0  "
      ]
     },
     "execution_count": 15,
     "metadata": {},
     "output_type": "execute_result"
    }
   ],
   "source": [
    "df.head()"
   ]
  },
  {
   "cell_type": "code",
   "execution_count": 16,
   "metadata": {},
   "outputs": [
    {
     "name": "stdout",
     "output_type": "stream",
     "text": [
      "0.3062672811059908\n"
     ]
    }
   ],
   "source": [
    "print(sum(pd.isnull(df['smoking_status']))/df.shape[0])"
   ]
  },
  {
   "cell_type": "markdown",
   "metadata": {},
   "source": [
    "30% of smoking_status values are NaN\n",
    "\n",
    "Finding correlation between smoking_status and other parameters"
   ]
  },
  {
   "cell_type": "code",
   "execution_count": 17,
   "metadata": {},
   "outputs": [],
   "source": [
    "temp = df[df['smoking_status'].isnull()==False]"
   ]
  },
  {
   "cell_type": "code",
   "execution_count": 18,
   "metadata": {},
   "outputs": [
    {
     "data": {
      "text/html": [
       "<div>\n",
       "<style scoped>\n",
       "    .dataframe tbody tr th:only-of-type {\n",
       "        vertical-align: middle;\n",
       "    }\n",
       "\n",
       "    .dataframe tbody tr th {\n",
       "        vertical-align: top;\n",
       "    }\n",
       "\n",
       "    .dataframe thead th {\n",
       "        text-align: right;\n",
       "    }\n",
       "</style>\n",
       "<table border=\"1\" class=\"dataframe\">\n",
       "  <thead>\n",
       "    <tr style=\"text-align: right;\">\n",
       "      <th></th>\n",
       "      <th>id</th>\n",
       "      <th>gender</th>\n",
       "      <th>age</th>\n",
       "      <th>hypertension</th>\n",
       "      <th>heart_disease</th>\n",
       "      <th>ever_married</th>\n",
       "      <th>work_type</th>\n",
       "      <th>Residence_type</th>\n",
       "      <th>avg_glucose_level</th>\n",
       "      <th>bmi</th>\n",
       "      <th>smoking_status</th>\n",
       "      <th>stroke</th>\n",
       "    </tr>\n",
       "  </thead>\n",
       "  <tbody>\n",
       "    <tr>\n",
       "      <th>1</th>\n",
       "      <td>30468</td>\n",
       "      <td>1</td>\n",
       "      <td>58.0</td>\n",
       "      <td>1</td>\n",
       "      <td>0</td>\n",
       "      <td>0</td>\n",
       "      <td>0</td>\n",
       "      <td>0</td>\n",
       "      <td>87.96</td>\n",
       "      <td>39.2</td>\n",
       "      <td>never smoked</td>\n",
       "      <td>0</td>\n",
       "    </tr>\n",
       "    <tr>\n",
       "      <th>3</th>\n",
       "      <td>56543</td>\n",
       "      <td>0</td>\n",
       "      <td>70.0</td>\n",
       "      <td>0</td>\n",
       "      <td>0</td>\n",
       "      <td>0</td>\n",
       "      <td>0</td>\n",
       "      <td>1</td>\n",
       "      <td>69.04</td>\n",
       "      <td>35.9</td>\n",
       "      <td>formerly smoked</td>\n",
       "      <td>0</td>\n",
       "    </tr>\n",
       "    <tr>\n",
       "      <th>6</th>\n",
       "      <td>52800</td>\n",
       "      <td>0</td>\n",
       "      <td>52.0</td>\n",
       "      <td>0</td>\n",
       "      <td>0</td>\n",
       "      <td>0</td>\n",
       "      <td>0</td>\n",
       "      <td>0</td>\n",
       "      <td>77.59</td>\n",
       "      <td>17.7</td>\n",
       "      <td>formerly smoked</td>\n",
       "      <td>0</td>\n",
       "    </tr>\n",
       "    <tr>\n",
       "      <th>7</th>\n",
       "      <td>41413</td>\n",
       "      <td>0</td>\n",
       "      <td>75.0</td>\n",
       "      <td>0</td>\n",
       "      <td>1</td>\n",
       "      <td>0</td>\n",
       "      <td>1</td>\n",
       "      <td>1</td>\n",
       "      <td>243.53</td>\n",
       "      <td>27.0</td>\n",
       "      <td>never smoked</td>\n",
       "      <td>0</td>\n",
       "    </tr>\n",
       "    <tr>\n",
       "      <th>8</th>\n",
       "      <td>15266</td>\n",
       "      <td>0</td>\n",
       "      <td>32.0</td>\n",
       "      <td>0</td>\n",
       "      <td>0</td>\n",
       "      <td>0</td>\n",
       "      <td>0</td>\n",
       "      <td>1</td>\n",
       "      <td>77.67</td>\n",
       "      <td>32.3</td>\n",
       "      <td>smokes</td>\n",
       "      <td>0</td>\n",
       "    </tr>\n",
       "  </tbody>\n",
       "</table>\n",
       "</div>"
      ],
      "text/plain": [
       "      id  gender   age  hypertension  heart_disease  ever_married  work_type  \\\n",
       "1  30468       1  58.0             1              0             0          0   \n",
       "3  56543       0  70.0             0              0             0          0   \n",
       "6  52800       0  52.0             0              0             0          0   \n",
       "7  41413       0  75.0             0              1             0          1   \n",
       "8  15266       0  32.0             0              0             0          0   \n",
       "\n",
       "   Residence_type  avg_glucose_level   bmi   smoking_status  stroke  \n",
       "1               0              87.96  39.2     never smoked       0  \n",
       "3               1              69.04  35.9  formerly smoked       0  \n",
       "6               0              77.59  17.7  formerly smoked       0  \n",
       "7               1             243.53  27.0     never smoked       0  \n",
       "8               1              77.67  32.3           smokes       0  "
      ]
     },
     "execution_count": 18,
     "metadata": {},
     "output_type": "execute_result"
    }
   ],
   "source": [
    "temp.head()"
   ]
  },
  {
   "cell_type": "code",
   "execution_count": 19,
   "metadata": {},
   "outputs": [
    {
     "data": {
      "text/plain": [
       "never smoked       16053\n",
       "formerly smoked     7493\n",
       "smokes              6562\n",
       "Name: smoking_status, dtype: int64"
      ]
     },
     "execution_count": 19,
     "metadata": {},
     "output_type": "execute_result"
    }
   ],
   "source": [
    "temp['smoking_status'].value_counts()"
   ]
  },
  {
   "cell_type": "code",
   "execution_count": 20,
   "metadata": {},
   "outputs": [
    {
     "name": "stderr",
     "output_type": "stream",
     "text": [
      "/Users/yadushyadav/anaconda3/lib/python3.6/site-packages/ipykernel_launcher.py:1: SettingWithCopyWarning: \n",
      "A value is trying to be set on a copy of a slice from a DataFrame.\n",
      "Try using .loc[row_indexer,col_indexer] = value instead\n",
      "\n",
      "See the caveats in the documentation: http://pandas.pydata.org/pandas-docs/stable/indexing.html#indexing-view-versus-copy\n",
      "  \"\"\"Entry point for launching an IPython kernel.\n"
     ]
    }
   ],
   "source": [
    "temp['smoking_status'] = temp['smoking_status'].map({'never smoked': 0, 'formerly smoked': 1, 'smokes': 2} ).astype(int)"
   ]
  },
  {
   "cell_type": "markdown",
   "metadata": {},
   "source": [
    "### Correlation between all the parameters"
   ]
  },
  {
   "cell_type": "code",
   "execution_count": 21,
   "metadata": {},
   "outputs": [
    {
     "data": {
      "image/png": "[encoded data removed]",
      "text/plain": [
       "<Figure size 864x864 with 2 Axes>"
      ]
     },
     "metadata": {},
     "output_type": "display_data"
    }
   ],
   "source": [
    "def corrmap(df):\n",
    "    fig , ax = plt.subplots(figsize =(12, 12))\n",
    "    fig = sbn.heatmap(df.corr(), cmap = sbn.diverging_palette(100, 200, as_cmap = True), cbar_kws={'shrink':.9 }, ax=ax,annot=True, linewidths=0.05, vmin=-1.0, vmax=1.0, linecolor='white')\n",
    "\n",
    "corrmap(temp)"
   ]
  },
  {
   "cell_type": "code",
   "execution_count": 22,
   "metadata": {},
   "outputs": [
    {
     "data": {
      "text/plain": [
       "<matplotlib.axes._subplots.AxesSubplot at 0x1a0fcf06d8>"
      ]
     },
     "execution_count": 22,
     "metadata": {},
     "output_type": "execute_result"
    },
    {
     "data": {
      "image/png": "[encoded data removed]",
      "text/plain": [
       "<Figure size 432x288 with 1 Axes>"
      ]
     },
     "metadata": {},
     "output_type": "display_data"
    }
   ],
   "source": [
    "sbn.boxplot(df['smoking_status'],df['age'])"
   ]
  },
  {
   "cell_type": "code",
   "execution_count": 23,
   "metadata": {},
   "outputs": [],
   "source": [
    "temp = df"
   ]
  },
  {
   "cell_type": "markdown",
   "metadata": {},
   "source": [
    "The age of the oldest person"
   ]
  },
  {
   "cell_type": "code",
   "execution_count": 24,
   "metadata": {},
   "outputs": [
    {
     "data": {
      "text/plain": [
       "82.0"
      ]
     },
     "execution_count": 24,
     "metadata": {},
     "output_type": "execute_result"
    }
   ],
   "source": [
    "temp['age'].max()"
   ]
  },
  {
   "cell_type": "markdown",
   "metadata": {},
   "source": [
    "Dividing the age into categories with an interval of 10 years"
   ]
  },
  {
   "cell_type": "code",
   "execution_count": 25,
   "metadata": {},
   "outputs": [],
   "source": [
    "def ageconv(x):\n",
    "    if x<=10:\n",
    "        return 0\n",
    "    if x<=20:\n",
    "        return 1\n",
    "    if x<=30:\n",
    "        return 2  \n",
    "    if x<=40:\n",
    "        return 3\n",
    "    if x<=50:\n",
    "        return 4\n",
    "    if x<=60:\n",
    "        return 5\n",
    "    if x<=70:\n",
    "        return 6\n",
    "    if x<=80:\n",
    "        return 7\n",
    "    if x<=90:\n",
    "        return 8\n",
    "    \n",
    "temp['agecat'] = df['age'].apply(lambda x: ageconv(x))"
   ]
  },
  {
   "cell_type": "code",
   "execution_count": 26,
   "metadata": {},
   "outputs": [
    {
     "data": {
      "text/plain": [
       "5    6691\n",
       "4    6441\n",
       "3    5521\n",
       "6    5229\n",
       "2    5221\n",
       "0    4598\n",
       "1    4417\n",
       "7    4393\n",
       "8     889\n",
       "Name: agecat, dtype: int64"
      ]
     },
     "execution_count": 26,
     "metadata": {},
     "output_type": "execute_result"
    }
   ],
   "source": [
    "temp['agecat'].value_counts()"
   ]
  },
  {
   "cell_type": "code",
   "execution_count": 27,
   "metadata": {},
   "outputs": [
    {
     "data": {
      "text/plain": [
       "<matplotlib.axes._subplots.AxesSubplot at 0x1a1026a320>"
      ]
     },
     "execution_count": 27,
     "metadata": {},
     "output_type": "execute_result"
    },
    {
     "data": {
      "image/png": "[encoded data removed]",
      "text/plain": [
       "<Figure size 432x288 with 1 Axes>"
      ]
     },
     "metadata": {},
     "output_type": "display_data"
    }
   ],
   "source": [
    "sbn.boxplot(temp['smoking_status'],temp['age'])"
   ]
  },
  {
   "cell_type": "markdown",
   "metadata": {},
   "source": [
    "Using the boxplot, it can be seen that people less than 20 years old are unlikely to be smokers"
   ]
  },
  {
   "cell_type": "markdown",
   "metadata": {},
   "source": [
    "The NaN and value counts for ages less than multiple of 10s"
   ]
  },
  {
   "cell_type": "code",
   "execution_count": 28,
   "metadata": {},
   "outputs": [
    {
     "name": "stdout",
     "output_type": "stream",
     "text": [
      "Age less than 10\n",
      "NaN values: 4285\n",
      "Series([], Name: smoking_status, dtype: int64) \n",
      "\n",
      "Age less than 20\n",
      "NaN values: 6444\n",
      "never smoked       1621\n",
      "formerly smoked     269\n",
      "smokes              177\n",
      "Name: smoking_status, dtype: int64 \n",
      "\n",
      "Age less than 30\n",
      "NaN values: 7529\n",
      "never smoked       4017\n",
      "smokes             1247\n",
      "formerly smoked     918\n",
      "Name: smoking_status, dtype: int64 \n",
      "\n",
      "Age less than 40\n",
      "NaN values: 8668\n",
      "never smoked       6441\n",
      "smokes             2366\n",
      "formerly smoked    1708\n",
      "Name: smoking_status, dtype: int64 \n",
      "\n",
      "Age less than 50\n",
      "NaN values: 9894\n",
      "never smoked       9156\n",
      "smokes             3702\n",
      "formerly smoked    2752\n",
      "Name: smoking_status, dtype: int64 \n",
      "\n",
      "Age less than 60\n",
      "NaN values: 11153\n",
      "never smoked       11857\n",
      "smokes              5057\n",
      "formerly smoked     4206\n",
      "Name: smoking_status, dtype: int64 \n",
      "\n",
      "Age less than 70\n",
      "NaN values: 12158\n",
      "never smoked       13865\n",
      "smokes              5936\n",
      "formerly smoked     5713\n",
      "Name: smoking_status, dtype: int64 \n",
      "\n",
      "Age less than 80\n",
      "NaN values: 13002\n",
      "never smoked       15467\n",
      "formerly smoked     7057\n",
      "smokes              6442\n",
      "Name: smoking_status, dtype: int64 \n",
      "\n",
      "Age less than 90\n",
      "NaN values: 13292\n",
      "never smoked       16053\n",
      "formerly smoked     7493\n",
      "smokes              6562\n",
      "Name: smoking_status, dtype: int64 \n",
      "\n"
     ]
    }
   ],
   "source": [
    "for x in range(10,100,10):\n",
    "    print(\"Age less than\",x)\n",
    "    temp = df[df['age']<x]\n",
    "    print(\"NaN values:\",temp['smoking_status'].isnull().sum(axis=0))\n",
    "    print(temp['smoking_status'].value_counts(),\"\\n\")"
   ]
  },
  {
   "cell_type": "markdown",
   "metadata": {},
   "source": [
    "From the boxplot, all the people less than 20 years old whose smoking_status is NaN, can be filled as 'never smoked'"
   ]
  },
  {
   "cell_type": "code",
   "execution_count": 29,
   "metadata": {},
   "outputs": [
    {
     "data": {
      "text/html": [
       "<div>\n",
       "<style scoped>\n",
       "    .dataframe tbody tr th:only-of-type {\n",
       "        vertical-align: middle;\n",
       "    }\n",
       "\n",
       "    .dataframe tbody tr th {\n",
       "        vertical-align: top;\n",
       "    }\n",
       "\n",
       "    .dataframe thead th {\n",
       "        text-align: right;\n",
       "    }\n",
       "</style>\n",
       "<table border=\"1\" class=\"dataframe\">\n",
       "  <thead>\n",
       "    <tr style=\"text-align: right;\">\n",
       "      <th></th>\n",
       "      <th>id</th>\n",
       "      <th>gender</th>\n",
       "      <th>age</th>\n",
       "      <th>hypertension</th>\n",
       "      <th>heart_disease</th>\n",
       "      <th>ever_married</th>\n",
       "      <th>work_type</th>\n",
       "      <th>Residence_type</th>\n",
       "      <th>avg_glucose_level</th>\n",
       "      <th>bmi</th>\n",
       "      <th>smoking_status</th>\n",
       "      <th>stroke</th>\n",
       "      <th>agecat</th>\n",
       "    </tr>\n",
       "  </thead>\n",
       "  <tbody>\n",
       "    <tr>\n",
       "      <th>0</th>\n",
       "      <td>30669</td>\n",
       "      <td>1</td>\n",
       "      <td>3.0</td>\n",
       "      <td>0</td>\n",
       "      <td>0</td>\n",
       "      <td>1</td>\n",
       "      <td>2</td>\n",
       "      <td>1</td>\n",
       "      <td>95.12</td>\n",
       "      <td>18.0</td>\n",
       "      <td>never smoked</td>\n",
       "      <td>0</td>\n",
       "      <td>0</td>\n",
       "    </tr>\n",
       "    <tr>\n",
       "      <th>1</th>\n",
       "      <td>30468</td>\n",
       "      <td>1</td>\n",
       "      <td>58.0</td>\n",
       "      <td>1</td>\n",
       "      <td>0</td>\n",
       "      <td>0</td>\n",
       "      <td>0</td>\n",
       "      <td>0</td>\n",
       "      <td>87.96</td>\n",
       "      <td>39.2</td>\n",
       "      <td>never smoked</td>\n",
       "      <td>0</td>\n",
       "      <td>5</td>\n",
       "    </tr>\n",
       "    <tr>\n",
       "      <th>2</th>\n",
       "      <td>16523</td>\n",
       "      <td>0</td>\n",
       "      <td>8.0</td>\n",
       "      <td>0</td>\n",
       "      <td>0</td>\n",
       "      <td>1</td>\n",
       "      <td>0</td>\n",
       "      <td>0</td>\n",
       "      <td>110.89</td>\n",
       "      <td>17.6</td>\n",
       "      <td>never smoked</td>\n",
       "      <td>0</td>\n",
       "      <td>0</td>\n",
       "    </tr>\n",
       "    <tr>\n",
       "      <th>3</th>\n",
       "      <td>56543</td>\n",
       "      <td>0</td>\n",
       "      <td>70.0</td>\n",
       "      <td>0</td>\n",
       "      <td>0</td>\n",
       "      <td>0</td>\n",
       "      <td>0</td>\n",
       "      <td>1</td>\n",
       "      <td>69.04</td>\n",
       "      <td>35.9</td>\n",
       "      <td>formerly smoked</td>\n",
       "      <td>0</td>\n",
       "      <td>6</td>\n",
       "    </tr>\n",
       "    <tr>\n",
       "      <th>4</th>\n",
       "      <td>46136</td>\n",
       "      <td>1</td>\n",
       "      <td>14.0</td>\n",
       "      <td>0</td>\n",
       "      <td>0</td>\n",
       "      <td>1</td>\n",
       "      <td>4</td>\n",
       "      <td>1</td>\n",
       "      <td>161.28</td>\n",
       "      <td>19.1</td>\n",
       "      <td>never smoked</td>\n",
       "      <td>0</td>\n",
       "      <td>1</td>\n",
       "    </tr>\n",
       "  </tbody>\n",
       "</table>\n",
       "</div>"
      ],
      "text/plain": [
       "      id  gender   age  hypertension  heart_disease  ever_married  work_type  \\\n",
       "0  30669       1   3.0             0              0             1          2   \n",
       "1  30468       1  58.0             1              0             0          0   \n",
       "2  16523       0   8.0             0              0             1          0   \n",
       "3  56543       0  70.0             0              0             0          0   \n",
       "4  46136       1  14.0             0              0             1          4   \n",
       "\n",
       "   Residence_type  avg_glucose_level   bmi   smoking_status  stroke  agecat  \n",
       "0               1              95.12  18.0     never smoked       0       0  \n",
       "1               0              87.96  39.2     never smoked       0       5  \n",
       "2               0             110.89  17.6     never smoked       0       0  \n",
       "3               1              69.04  35.9  formerly smoked       0       6  \n",
       "4               1             161.28  19.1     never smoked       0       1  "
      ]
     },
     "execution_count": 29,
     "metadata": {},
     "output_type": "execute_result"
    }
   ],
   "source": [
    "def fillsmoking(x):\n",
    "    if pd.isnull(x['smoking_status']):\n",
    "        if x['age']<20:\n",
    "            x['smoking_status'] = \"never smoked\"\n",
    "    return x\n",
    "\n",
    "df = df.apply(lambda x : fillsmoking(x),axis=1)\n",
    "df.head()    "
   ]
  },
  {
   "cell_type": "code",
   "execution_count": 30,
   "metadata": {},
   "outputs": [
    {
     "data": {
      "text/plain": [
       "never smoked       22497\n",
       "formerly smoked     7493\n",
       "unknown             6848\n",
       "smokes              6562\n",
       "Name: smoking_status, dtype: int64"
      ]
     },
     "execution_count": 30,
     "metadata": {},
     "output_type": "execute_result"
    }
   ],
   "source": [
    "df['smoking_status'] = df['smoking_status'].fillna('unknown')\n",
    "df['smoking_status'].value_counts()"
   ]
  },
  {
   "cell_type": "code",
   "execution_count": 31,
   "metadata": {},
   "outputs": [],
   "source": [
    "df['smoking_status'] = df['smoking_status'].map({'never smoked': 0, 'formerly smoked': 1, 'smokes': 2, 'unknown': 3} ).astype(int)"
   ]
  },
  {
   "cell_type": "markdown",
   "metadata": {},
   "source": [
    "Unknown can be dropped later on if found to be of low importance"
   ]
  },
  {
   "cell_type": "code",
   "execution_count": 32,
   "metadata": {},
   "outputs": [
    {
     "data": {
      "text/plain": [
       "0    22497\n",
       "1     7493\n",
       "3     6848\n",
       "2     6562\n",
       "Name: smoking_status, dtype: int64"
      ]
     },
     "execution_count": 32,
     "metadata": {},
     "output_type": "execute_result"
    }
   ],
   "source": [
    "df['smoking_status'].value_counts()"
   ]
  },
  {
   "cell_type": "code",
   "execution_count": 33,
   "metadata": {},
   "outputs": [
    {
     "data": {
      "text/html": [
       "<div>\n",
       "<style scoped>\n",
       "    .dataframe tbody tr th:only-of-type {\n",
       "        vertical-align: middle;\n",
       "    }\n",
       "\n",
       "    .dataframe tbody tr th {\n",
       "        vertical-align: top;\n",
       "    }\n",
       "\n",
       "    .dataframe thead th {\n",
       "        text-align: right;\n",
       "    }\n",
       "</style>\n",
       "<table border=\"1\" class=\"dataframe\">\n",
       "  <thead>\n",
       "    <tr style=\"text-align: right;\">\n",
       "      <th></th>\n",
       "      <th>id</th>\n",
       "      <th>gender</th>\n",
       "      <th>age</th>\n",
       "      <th>hypertension</th>\n",
       "      <th>heart_disease</th>\n",
       "      <th>ever_married</th>\n",
       "      <th>work_type</th>\n",
       "      <th>Residence_type</th>\n",
       "      <th>avg_glucose_level</th>\n",
       "      <th>bmi</th>\n",
       "      <th>smoking_status</th>\n",
       "      <th>stroke</th>\n",
       "      <th>agecat</th>\n",
       "    </tr>\n",
       "  </thead>\n",
       "  <tbody>\n",
       "    <tr>\n",
       "      <th>0</th>\n",
       "      <td>30669</td>\n",
       "      <td>1</td>\n",
       "      <td>3.0</td>\n",
       "      <td>0</td>\n",
       "      <td>0</td>\n",
       "      <td>1</td>\n",
       "      <td>2</td>\n",
       "      <td>1</td>\n",
       "      <td>95.12</td>\n",
       "      <td>18.0</td>\n",
       "      <td>0</td>\n",
       "      <td>0</td>\n",
       "      <td>0</td>\n",
       "    </tr>\n",
       "    <tr>\n",
       "      <th>1</th>\n",
       "      <td>30468</td>\n",
       "      <td>1</td>\n",
       "      <td>58.0</td>\n",
       "      <td>1</td>\n",
       "      <td>0</td>\n",
       "      <td>0</td>\n",
       "      <td>0</td>\n",
       "      <td>0</td>\n",
       "      <td>87.96</td>\n",
       "      <td>39.2</td>\n",
       "      <td>0</td>\n",
       "      <td>0</td>\n",
       "      <td>5</td>\n",
       "    </tr>\n",
       "    <tr>\n",
       "      <th>2</th>\n",
       "      <td>16523</td>\n",
       "      <td>0</td>\n",
       "      <td>8.0</td>\n",
       "      <td>0</td>\n",
       "      <td>0</td>\n",
       "      <td>1</td>\n",
       "      <td>0</td>\n",
       "      <td>0</td>\n",
       "      <td>110.89</td>\n",
       "      <td>17.6</td>\n",
       "      <td>0</td>\n",
       "      <td>0</td>\n",
       "      <td>0</td>\n",
       "    </tr>\n",
       "    <tr>\n",
       "      <th>3</th>\n",
       "      <td>56543</td>\n",
       "      <td>0</td>\n",
       "      <td>70.0</td>\n",
       "      <td>0</td>\n",
       "      <td>0</td>\n",
       "      <td>0</td>\n",
       "      <td>0</td>\n",
       "      <td>1</td>\n",
       "      <td>69.04</td>\n",
       "      <td>35.9</td>\n",
       "      <td>1</td>\n",
       "      <td>0</td>\n",
       "      <td>6</td>\n",
       "    </tr>\n",
       "    <tr>\n",
       "      <th>4</th>\n",
       "      <td>46136</td>\n",
       "      <td>1</td>\n",
       "      <td>14.0</td>\n",
       "      <td>0</td>\n",
       "      <td>0</td>\n",
       "      <td>1</td>\n",
       "      <td>4</td>\n",
       "      <td>1</td>\n",
       "      <td>161.28</td>\n",
       "      <td>19.1</td>\n",
       "      <td>0</td>\n",
       "      <td>0</td>\n",
       "      <td>1</td>\n",
       "    </tr>\n",
       "  </tbody>\n",
       "</table>\n",
       "</div>"
      ],
      "text/plain": [
       "      id  gender   age  hypertension  heart_disease  ever_married  work_type  \\\n",
       "0  30669       1   3.0             0              0             1          2   \n",
       "1  30468       1  58.0             1              0             0          0   \n",
       "2  16523       0   8.0             0              0             1          0   \n",
       "3  56543       0  70.0             0              0             0          0   \n",
       "4  46136       1  14.0             0              0             1          4   \n",
       "\n",
       "   Residence_type  avg_glucose_level   bmi  smoking_status  stroke  agecat  \n",
       "0               1              95.12  18.0               0       0       0  \n",
       "1               0              87.96  39.2               0       0       5  \n",
       "2               0             110.89  17.6               0       0       0  \n",
       "3               1              69.04  35.9               1       0       6  \n",
       "4               1             161.28  19.1               0       0       1  "
      ]
     },
     "execution_count": 33,
     "metadata": {},
     "output_type": "execute_result"
    }
   ],
   "source": [
    "df.head()"
   ]
  },
  {
   "cell_type": "code",
   "execution_count": 34,
   "metadata": {},
   "outputs": [
    {
     "name": "stdout",
     "output_type": "stream",
     "text": [
      "Unique ID's :  43400\n"
     ]
    }
   ],
   "source": [
    "print(\"Unique ID's : \", len(df['id'].unique()))"
   ]
  },
  {
   "cell_type": "markdown",
   "metadata": {},
   "source": [
    "Since, 'id' is unique for everyone, it won't be useful in classification and can be dropped"
   ]
  },
  {
   "cell_type": "code",
   "execution_count": 35,
   "metadata": {},
   "outputs": [],
   "source": [
    "df.drop('id',axis=1,inplace=True)"
   ]
  },
  {
   "cell_type": "code",
   "execution_count": 36,
   "metadata": {},
   "outputs": [
    {
     "data": {
      "text/html": [
       "<div>\n",
       "<style scoped>\n",
       "    .dataframe tbody tr th:only-of-type {\n",
       "        vertical-align: middle;\n",
       "    }\n",
       "\n",
       "    .dataframe tbody tr th {\n",
       "        vertical-align: top;\n",
       "    }\n",
       "\n",
       "    .dataframe thead th {\n",
       "        text-align: right;\n",
       "    }\n",
       "</style>\n",
       "<table border=\"1\" class=\"dataframe\">\n",
       "  <thead>\n",
       "    <tr style=\"text-align: right;\">\n",
       "      <th></th>\n",
       "      <th>gender</th>\n",
       "      <th>age</th>\n",
       "      <th>hypertension</th>\n",
       "      <th>heart_disease</th>\n",
       "      <th>ever_married</th>\n",
       "      <th>work_type</th>\n",
       "      <th>Residence_type</th>\n",
       "      <th>avg_glucose_level</th>\n",
       "      <th>bmi</th>\n",
       "      <th>smoking_status</th>\n",
       "      <th>stroke</th>\n",
       "      <th>agecat</th>\n",
       "    </tr>\n",
       "  </thead>\n",
       "  <tbody>\n",
       "    <tr>\n",
       "      <th>count</th>\n",
       "      <td>43400.000000</td>\n",
       "      <td>43400.000000</td>\n",
       "      <td>43400.000000</td>\n",
       "      <td>43400.000000</td>\n",
       "      <td>43400.000000</td>\n",
       "      <td>43400.000000</td>\n",
       "      <td>43400.000000</td>\n",
       "      <td>43400.000000</td>\n",
       "      <td>41938.000000</td>\n",
       "      <td>43400.000000</td>\n",
       "      <td>43400.000000</td>\n",
       "      <td>43400.000000</td>\n",
       "    </tr>\n",
       "    <tr>\n",
       "      <th>mean</th>\n",
       "      <td>0.408894</td>\n",
       "      <td>42.217894</td>\n",
       "      <td>0.093571</td>\n",
       "      <td>0.047512</td>\n",
       "      <td>0.356267</td>\n",
       "      <td>0.832558</td>\n",
       "      <td>0.498710</td>\n",
       "      <td>104.482750</td>\n",
       "      <td>28.605038</td>\n",
       "      <td>0.948410</td>\n",
       "      <td>0.018041</td>\n",
       "      <td>3.683825</td>\n",
       "    </tr>\n",
       "    <tr>\n",
       "      <th>std</th>\n",
       "      <td>0.492151</td>\n",
       "      <td>22.519649</td>\n",
       "      <td>0.291235</td>\n",
       "      <td>0.212733</td>\n",
       "      <td>0.478901</td>\n",
       "      <td>1.106406</td>\n",
       "      <td>0.500004</td>\n",
       "      <td>43.111751</td>\n",
       "      <td>7.770020</td>\n",
       "      <td>1.139334</td>\n",
       "      <td>0.133103</td>\n",
       "      <td>2.234833</td>\n",
       "    </tr>\n",
       "    <tr>\n",
       "      <th>min</th>\n",
       "      <td>0.000000</td>\n",
       "      <td>0.080000</td>\n",
       "      <td>0.000000</td>\n",
       "      <td>0.000000</td>\n",
       "      <td>0.000000</td>\n",
       "      <td>0.000000</td>\n",
       "      <td>0.000000</td>\n",
       "      <td>55.000000</td>\n",
       "      <td>10.100000</td>\n",
       "      <td>0.000000</td>\n",
       "      <td>0.000000</td>\n",
       "      <td>0.000000</td>\n",
       "    </tr>\n",
       "    <tr>\n",
       "      <th>25%</th>\n",
       "      <td>0.000000</td>\n",
       "      <td>24.000000</td>\n",
       "      <td>0.000000</td>\n",
       "      <td>0.000000</td>\n",
       "      <td>0.000000</td>\n",
       "      <td>0.000000</td>\n",
       "      <td>0.000000</td>\n",
       "      <td>77.540000</td>\n",
       "      <td>23.200000</td>\n",
       "      <td>0.000000</td>\n",
       "      <td>0.000000</td>\n",
       "      <td>2.000000</td>\n",
       "    </tr>\n",
       "    <tr>\n",
       "      <th>50%</th>\n",
       "      <td>0.000000</td>\n",
       "      <td>44.000000</td>\n",
       "      <td>0.000000</td>\n",
       "      <td>0.000000</td>\n",
       "      <td>0.000000</td>\n",
       "      <td>0.000000</td>\n",
       "      <td>0.000000</td>\n",
       "      <td>91.580000</td>\n",
       "      <td>27.700000</td>\n",
       "      <td>0.000000</td>\n",
       "      <td>0.000000</td>\n",
       "      <td>4.000000</td>\n",
       "    </tr>\n",
       "    <tr>\n",
       "      <th>75%</th>\n",
       "      <td>1.000000</td>\n",
       "      <td>60.000000</td>\n",
       "      <td>0.000000</td>\n",
       "      <td>0.000000</td>\n",
       "      <td>1.000000</td>\n",
       "      <td>2.000000</td>\n",
       "      <td>1.000000</td>\n",
       "      <td>112.070000</td>\n",
       "      <td>32.900000</td>\n",
       "      <td>2.000000</td>\n",
       "      <td>0.000000</td>\n",
       "      <td>5.000000</td>\n",
       "    </tr>\n",
       "    <tr>\n",
       "      <th>max</th>\n",
       "      <td>2.000000</td>\n",
       "      <td>82.000000</td>\n",
       "      <td>1.000000</td>\n",
       "      <td>1.000000</td>\n",
       "      <td>1.000000</td>\n",
       "      <td>4.000000</td>\n",
       "      <td>1.000000</td>\n",
       "      <td>291.050000</td>\n",
       "      <td>97.600000</td>\n",
       "      <td>3.000000</td>\n",
       "      <td>1.000000</td>\n",
       "      <td>8.000000</td>\n",
       "    </tr>\n",
       "  </tbody>\n",
       "</table>\n",
       "</div>"
      ],
      "text/plain": [
       "             gender           age  hypertension  heart_disease  ever_married  \\\n",
       "count  43400.000000  43400.000000  43400.000000   43400.000000  43400.000000   \n",
       "mean       0.408894     42.217894      0.093571       0.047512      0.356267   \n",
       "std        0.492151     22.519649      0.291235       0.212733      0.478901   \n",
       "min        0.000000      0.080000      0.000000       0.000000      0.000000   \n",
       "25%        0.000000     24.000000      0.000000       0.000000      0.000000   \n",
       "50%        0.000000     44.000000      0.000000       0.000000      0.000000   \n",
       "75%        1.000000     60.000000      0.000000       0.000000      1.000000   \n",
       "max        2.000000     82.000000      1.000000       1.000000      1.000000   \n",
       "\n",
       "          work_type  Residence_type  avg_glucose_level           bmi  \\\n",
       "count  43400.000000    43400.000000       43400.000000  41938.000000   \n",
       "mean       0.832558        0.498710         104.482750     28.605038   \n",
       "std        1.106406        0.500004          43.111751      7.770020   \n",
       "min        0.000000        0.000000          55.000000     10.100000   \n",
       "25%        0.000000        0.000000          77.540000     23.200000   \n",
       "50%        0.000000        0.000000          91.580000     27.700000   \n",
       "75%        2.000000        1.000000         112.070000     32.900000   \n",
       "max        4.000000        1.000000         291.050000     97.600000   \n",
       "\n",
       "       smoking_status        stroke        agecat  \n",
       "count    43400.000000  43400.000000  43400.000000  \n",
       "mean         0.948410      0.018041      3.683825  \n",
       "std          1.139334      0.133103      2.234833  \n",
       "min          0.000000      0.000000      0.000000  \n",
       "25%          0.000000      0.000000      2.000000  \n",
       "50%          0.000000      0.000000      4.000000  \n",
       "75%          2.000000      0.000000      5.000000  \n",
       "max          3.000000      1.000000      8.000000  "
      ]
     },
     "execution_count": 36,
     "metadata": {},
     "output_type": "execute_result"
    }
   ],
   "source": [
    "df.describe()"
   ]
  },
  {
   "cell_type": "code",
   "execution_count": 37,
   "metadata": {},
   "outputs": [
    {
     "data": {
      "text/plain": [
       "<matplotlib.axes._subplots.AxesSubplot at 0x106b06518>"
      ]
     },
     "execution_count": 37,
     "metadata": {},
     "output_type": "execute_result"
    },
    {
     "data": {
      "image/png": "[encoded data removed]",
      "text/plain": [
       "<Figure size 432x288 with 1 Axes>"
      ]
     },
     "metadata": {},
     "output_type": "display_data"
    }
   ],
   "source": [
    "x = df.columns\n",
    "x = x.drop('stroke')\n",
    "arr = []\n",
    "for c in x:\n",
    "    arr.append(df['stroke'].corr(df[c]))\n",
    "    \n",
    "sbn.barplot(arr,x)"
   ]
  },
  {
   "cell_type": "code",
   "execution_count": 38,
   "metadata": {},
   "outputs": [
    {
     "name": "stdout",
     "output_type": "stream",
     "text": [
      "stroke              0    1\n",
      "smoking_status            \n",
      "0               22211  286\n",
      "1                7272  221\n",
      "2                6429  133\n",
      "3                6705  143\n"
     ]
    }
   ],
   "source": [
    "print(pd.crosstab(df['smoking_status'],df['stroke']))"
   ]
  },
  {
   "cell_type": "code",
   "execution_count": 39,
   "metadata": {},
   "outputs": [
    {
     "name": "stdout",
     "output_type": "stream",
     "text": [
      "0.01804147465437788\n"
     ]
    }
   ],
   "source": [
    "print(len(df[df['stroke']==1])/df.shape[0])"
   ]
  },
  {
   "cell_type": "code",
   "execution_count": 40,
   "metadata": {},
   "outputs": [
    {
     "data": {
      "image/png": "[encoded data removed]",
      "text/plain": [
       "<Figure size 432x288 with 1 Axes>"
      ]
     },
     "metadata": {},
     "output_type": "display_data"
    }
   ],
   "source": [
    "temp = df.pivot_table(index=df['age'],values='stroke',aggfunc=('mean','count'))\n",
    "plt.scatter(temp.index,temp['mean'])\n",
    "plt.show()"
   ]
  },
  {
   "cell_type": "markdown",
   "metadata": {},
   "source": [
    "The probability of suffering a stroke increases with age"
   ]
  },
  {
   "cell_type": "code",
   "execution_count": 41,
   "metadata": {},
   "outputs": [
    {
     "data": {
      "text/plain": [
       "<matplotlib.axes._subplots.AxesSubplot at 0x1a10cd9c50>"
      ]
     },
     "execution_count": 41,
     "metadata": {},
     "output_type": "execute_result"
    },
    {
     "data": {
      "image/png": "[encoded data removed]",
      "text/plain": [
       "<Figure size 432x288 with 1 Axes>"
      ]
     },
     "metadata": {},
     "output_type": "display_data"
    }
   ],
   "source": [
    "sbn.boxplot(df['stroke'],df['bmi'])"
   ]
  },
  {
   "cell_type": "markdown",
   "metadata": {},
   "source": [
    "The probability of suffering a stroke increases with BMI (Body Mass Index)"
   ]
  },
  {
   "cell_type": "code",
   "execution_count": 42,
   "metadata": {},
   "outputs": [
    {
     "data": {
      "text/plain": [
       "<matplotlib.axes._subplots.AxesSubplot at 0x1a203bf668>"
      ]
     },
     "execution_count": 42,
     "metadata": {},
     "output_type": "execute_result"
    },
    {
     "data": {
      "image/png": "[encoded data removed]",
      "text/plain": [
       "<Figure size 432x288 with 1 Axes>"
      ]
     },
     "metadata": {},
     "output_type": "display_data"
    }
   ],
   "source": [
    "z = df.columns\n",
    "z = z.drop('bmi')\n",
    "arr = []\n",
    "for c in z:\n",
    "    arr.append(df['bmi'].corr(df[c]))\n",
    "sbn.barplot(arr,z)"
   ]
  },
  {
   "cell_type": "markdown",
   "metadata": {},
   "source": [
    "This barplot shows the correlation of BMI with other parameters"
   ]
  },
  {
   "cell_type": "code",
   "execution_count": 43,
   "metadata": {},
   "outputs": [
    {
     "name": "stdout",
     "output_type": "stream",
     "text": [
      "Median:  27.7\n",
      "Mean:  28.605038390004545\n"
     ]
    }
   ],
   "source": [
    "print(\"Median: \",df['bmi'].median())\n",
    "print(\"Mean: \",df['bmi'].mean())"
   ]
  },
  {
   "cell_type": "code",
   "execution_count": 44,
   "metadata": {},
   "outputs": [],
   "source": [
    "df['bmi'].fillna(27.7,inplace=True)"
   ]
  },
  {
   "cell_type": "code",
   "execution_count": 45,
   "metadata": {},
   "outputs": [],
   "source": [
    "temp = df\n",
    "x = temp.columns\n",
    "x = x.drop('stroke')"
   ]
  },
  {
   "cell_type": "markdown",
   "metadata": {},
   "source": [
    "### Synthetic Minority Oversampling is done to increase the number of minority class data rows by adding artificial samples"
   ]
  },
  {
   "cell_type": "code",
   "execution_count": 46,
   "metadata": {},
   "outputs": [
    {
     "name": "stderr",
     "output_type": "stream",
     "text": [
      "/Users/yadushyadav/anaconda3/lib/python3.6/site-packages/sklearn/utils/deprecation.py:77: DeprecationWarning: Function _ratio_float is deprecated; Use a float for 'ratio' is deprecated from version 0.2. The support will be removed in 0.4. Use a dict, str, or a callable instead.\n",
      "  warnings.warn(msg, category=DeprecationWarning)\n"
     ]
    },
    {
     "data": {
      "text/plain": [
       "(68187, 12)"
      ]
     },
     "execution_count": 46,
     "metadata": {},
     "output_type": "execute_result"
    }
   ],
   "source": [
    "sm = SMOTE(random_state=12, ratio = 0.6)\n",
    "x_train_res, y_train_res = sm.fit_sample(temp[x], temp['stroke'])\n",
    "temp = x_train_res\n",
    "#temp.head()\n",
    "result = pd.DataFrame(columns=x,data=temp)\n",
    "result['stroke']=y_train_res\n",
    "result.shape"
   ]
  },
  {
   "cell_type": "code",
   "execution_count": 47,
   "metadata": {},
   "outputs": [
    {
     "data": {
      "text/plain": [
       "0.3749981668059894"
      ]
     },
     "execution_count": 47,
     "metadata": {},
     "output_type": "execute_result"
    }
   ],
   "source": [
    "len(result[result['stroke']==1])/result.shape[0]"
   ]
  },
  {
   "cell_type": "markdown",
   "metadata": {},
   "source": [
    "The minority class is present in 37.4% of all data rows now"
   ]
  },
  {
   "cell_type": "code",
   "execution_count": 48,
   "metadata": {},
   "outputs": [],
   "source": [
    "reserved_df = df"
   ]
  },
  {
   "cell_type": "markdown",
   "metadata": {},
   "source": [
    "Saved the dataframe in reserved_df incase of any changes "
   ]
  },
  {
   "cell_type": "code",
   "execution_count": 49,
   "metadata": {},
   "outputs": [
    {
     "data": {
      "text/plain": [
       "<matplotlib.axes._subplots.AxesSubplot at 0x1095b1400>"
      ]
     },
     "execution_count": 49,
     "metadata": {},
     "output_type": "execute_result"
    },
    {
     "data": {
      "image/png": "[encoded data removed]",
      "text/plain": [
       "<Figure size 432x288 with 1 Axes>"
      ]
     },
     "metadata": {},
     "output_type": "display_data"
    }
   ],
   "source": [
    "# Correlation between 'stroke' and the other parameters\n",
    "\n",
    "df = result\n",
    "x = df.columns\n",
    "x = x.drop('stroke')\n",
    "arr = []\n",
    "for c in x:\n",
    "    arr.append(df['stroke'].corr(df[c]))\n",
    "sbn.barplot(arr,x)"
   ]
  },
  {
   "cell_type": "code",
   "execution_count": 50,
   "metadata": {},
   "outputs": [
    {
     "data": {
      "text/html": [
       "<div>\n",
       "<style scoped>\n",
       "    .dataframe tbody tr th:only-of-type {\n",
       "        vertical-align: middle;\n",
       "    }\n",
       "\n",
       "    .dataframe tbody tr th {\n",
       "        vertical-align: top;\n",
       "    }\n",
       "\n",
       "    .dataframe thead th {\n",
       "        text-align: right;\n",
       "    }\n",
       "</style>\n",
       "<table border=\"1\" class=\"dataframe\">\n",
       "  <thead>\n",
       "    <tr style=\"text-align: right;\">\n",
       "      <th></th>\n",
       "      <th>gender</th>\n",
       "      <th>age</th>\n",
       "      <th>hypertension</th>\n",
       "      <th>heart_disease</th>\n",
       "      <th>ever_married</th>\n",
       "      <th>work_type</th>\n",
       "      <th>Residence_type</th>\n",
       "      <th>avg_glucose_level</th>\n",
       "      <th>bmi</th>\n",
       "      <th>smoking_status</th>\n",
       "      <th>agecat</th>\n",
       "      <th>stroke</th>\n",
       "    </tr>\n",
       "  </thead>\n",
       "  <tbody>\n",
       "    <tr>\n",
       "      <th>0</th>\n",
       "      <td>1.0</td>\n",
       "      <td>3.0</td>\n",
       "      <td>0.0</td>\n",
       "      <td>0.0</td>\n",
       "      <td>1.0</td>\n",
       "      <td>2.0</td>\n",
       "      <td>1.0</td>\n",
       "      <td>95.12</td>\n",
       "      <td>18.0</td>\n",
       "      <td>0.0</td>\n",
       "      <td>0.0</td>\n",
       "      <td>0</td>\n",
       "    </tr>\n",
       "    <tr>\n",
       "      <th>1</th>\n",
       "      <td>1.0</td>\n",
       "      <td>58.0</td>\n",
       "      <td>1.0</td>\n",
       "      <td>0.0</td>\n",
       "      <td>0.0</td>\n",
       "      <td>0.0</td>\n",
       "      <td>0.0</td>\n",
       "      <td>87.96</td>\n",
       "      <td>39.2</td>\n",
       "      <td>0.0</td>\n",
       "      <td>5.0</td>\n",
       "      <td>0</td>\n",
       "    </tr>\n",
       "    <tr>\n",
       "      <th>2</th>\n",
       "      <td>0.0</td>\n",
       "      <td>8.0</td>\n",
       "      <td>0.0</td>\n",
       "      <td>0.0</td>\n",
       "      <td>1.0</td>\n",
       "      <td>0.0</td>\n",
       "      <td>0.0</td>\n",
       "      <td>110.89</td>\n",
       "      <td>17.6</td>\n",
       "      <td>0.0</td>\n",
       "      <td>0.0</td>\n",
       "      <td>0</td>\n",
       "    </tr>\n",
       "    <tr>\n",
       "      <th>3</th>\n",
       "      <td>0.0</td>\n",
       "      <td>70.0</td>\n",
       "      <td>0.0</td>\n",
       "      <td>0.0</td>\n",
       "      <td>0.0</td>\n",
       "      <td>0.0</td>\n",
       "      <td>1.0</td>\n",
       "      <td>69.04</td>\n",
       "      <td>35.9</td>\n",
       "      <td>1.0</td>\n",
       "      <td>6.0</td>\n",
       "      <td>0</td>\n",
       "    </tr>\n",
       "    <tr>\n",
       "      <th>4</th>\n",
       "      <td>1.0</td>\n",
       "      <td>14.0</td>\n",
       "      <td>0.0</td>\n",
       "      <td>0.0</td>\n",
       "      <td>1.0</td>\n",
       "      <td>4.0</td>\n",
       "      <td>1.0</td>\n",
       "      <td>161.28</td>\n",
       "      <td>19.1</td>\n",
       "      <td>0.0</td>\n",
       "      <td>1.0</td>\n",
       "      <td>0</td>\n",
       "    </tr>\n",
       "  </tbody>\n",
       "</table>\n",
       "</div>"
      ],
      "text/plain": [
       "   gender   age  hypertension  heart_disease  ever_married  work_type  \\\n",
       "0     1.0   3.0           0.0            0.0           1.0        2.0   \n",
       "1     1.0  58.0           1.0            0.0           0.0        0.0   \n",
       "2     0.0   8.0           0.0            0.0           1.0        0.0   \n",
       "3     0.0  70.0           0.0            0.0           0.0        0.0   \n",
       "4     1.0  14.0           0.0            0.0           1.0        4.0   \n",
       "\n",
       "   Residence_type  avg_glucose_level   bmi  smoking_status  agecat  stroke  \n",
       "0             1.0              95.12  18.0             0.0     0.0       0  \n",
       "1             0.0              87.96  39.2             0.0     5.0       0  \n",
       "2             0.0             110.89  17.6             0.0     0.0       0  \n",
       "3             1.0              69.04  35.9             1.0     6.0       0  \n",
       "4             1.0             161.28  19.1             0.0     1.0       0  "
      ]
     },
     "execution_count": 50,
     "metadata": {},
     "output_type": "execute_result"
    }
   ],
   "source": [
    "df.head()"
   ]
  },
  {
   "cell_type": "code",
   "execution_count": 51,
   "metadata": {},
   "outputs": [],
   "source": [
    "# Resampling\n",
    "\n",
    "df = df.sample(frac=1).reset_index(drop=True)"
   ]
  },
  {
   "cell_type": "code",
   "execution_count": 52,
   "metadata": {},
   "outputs": [],
   "source": [
    "cols = df.columns\n",
    "cols = cols.drop('stroke')\n",
    "x = df[cols]\n",
    "y = df['stroke']"
   ]
  },
  {
   "cell_type": "code",
   "execution_count": 53,
   "metadata": {},
   "outputs": [],
   "source": [
    "kf = KFold(n_splits=5)"
   ]
  },
  {
   "cell_type": "code",
   "execution_count": 54,
   "metadata": {},
   "outputs": [
    {
     "name": "stdout",
     "output_type": "stream",
     "text": [
      "0.3751558260614505\n",
      "0.9824664891724236\n"
     ]
    }
   ],
   "source": [
    "# KFold cross validation to optimize the parameters\n",
    "# Stratified KFold cross validation can also be used\n",
    "\n",
    "r = []\n",
    "\n",
    "for train_index, test_index in kf.split(df):\n",
    "    xtrain, xtest = x.iloc[train_index], x.iloc[test_index]\n",
    "    ytrain, ytest = y[train_index], y[test_index]\n",
    "    model = RandomForestClassifier()\n",
    "    model.fit(xtrain,ytrain)\n",
    "    pred = model.predict(xtest)\n",
    "    r.append(f1_score(pred,ytest))\n",
    "\n",
    "c=0   \n",
    "for i in ytest:\n",
    "    if i==1:\n",
    "        c+=1\n",
    "        \n",
    "print(c/len(ytest))\n",
    "print(np.mean(r))"
   ]
  },
  {
   "cell_type": "code",
   "execution_count": 55,
   "metadata": {},
   "outputs": [],
   "source": [
    "cols = cols.drop('agecat')"
   ]
  },
  {
   "cell_type": "code",
   "execution_count": 56,
   "metadata": {},
   "outputs": [],
   "source": [
    "xtrain,xtest,ytrain,ytest = train_test_split(df[cols],df['stroke'],test_size=0.2,random_state=0)"
   ]
  },
  {
   "cell_type": "code",
   "execution_count": 57,
   "metadata": {},
   "outputs": [],
   "source": [
    "d = []\n",
    "f = []\n",
    "r = []\n",
    "p = []\n",
    "n = []\n",
    "t = []"
   ]
  },
  {
   "cell_type": "code",
   "execution_count": 58,
   "metadata": {},
   "outputs": [
    {
     "name": "stdout",
     "output_type": "stream",
     "text": [
      "0:00:00.474733\n"
     ]
    }
   ],
   "source": [
    "time1 = datetime.now()\n",
    "\n",
    "model = LogisticRegression()\n",
    "model.fit(xtrain,ytrain)\n",
    "pred1 = model.predict(xtest)\n",
    "\n",
    "time2 = datetime.now()\n",
    "\n",
    "t.append((time2-time1).total_seconds())\n",
    "\n",
    "d.append(roc_auc_score(pred1,ytest))\n",
    "f.append(f1_score(pred1,ytest))\n",
    "p.append(precision_score(pred1,ytest))\n",
    "r.append(recall_score(pred1,ytest))\n",
    "\n",
    "n.append('LogisticRegression')\n",
    "\n",
    "print(time2-time1)"
   ]
  },
  {
   "cell_type": "code",
   "execution_count": 59,
   "metadata": {},
   "outputs": [
    {
     "name": "stdout",
     "output_type": "stream",
     "text": [
      "0:00:00.085121\n"
     ]
    },
    {
     "name": "stderr",
     "output_type": "stream",
     "text": [
      "/Users/yadushyadav/anaconda3/lib/python3.6/site-packages/sklearn/linear_model/stochastic_gradient.py:128: FutureWarning: max_iter and tol parameters have been added in <class 'sklearn.linear_model.stochastic_gradient.SGDClassifier'> in 0.19. If both are left unset, they default to max_iter=5 and tol=None. If tol is not None, max_iter defaults to max_iter=1000. From 0.21, default max_iter will be 1000, and default tol will be 1e-3.\n",
      "  \"and default tol will be 1e-3.\" % type(self), FutureWarning)\n"
     ]
    }
   ],
   "source": [
    "time1 = datetime.now()\n",
    "\n",
    "model = SGDClassifier()\n",
    "model.fit(xtrain,ytrain)\n",
    "pred2 = model.predict(xtest)\n",
    "\n",
    "time2 = datetime.now()\n",
    "\n",
    "t.append((time2-time1).total_seconds())\n",
    "\n",
    "d.append(roc_auc_score(pred2,ytest))\n",
    "f.append(f1_score(pred2,ytest))\n",
    "p.append(precision_score(pred2,ytest))\n",
    "r.append(recall_score(pred2,ytest))\n",
    "\n",
    "n.append('SGDClassifier')\n",
    "\n",
    "print(time2-time1)"
   ]
  },
  {
   "cell_type": "code",
   "execution_count": 60,
   "metadata": {},
   "outputs": [
    {
     "name": "stdout",
     "output_type": "stream",
     "text": [
      "0:00:00.909630\n"
     ]
    }
   ],
   "source": [
    "time1 = datetime.now()\n",
    "\n",
    "model = RandomForestClassifier()\n",
    "model.fit(xtrain,ytrain)\n",
    "pred3 = model.predict(xtest)\n",
    "\n",
    "time2 = datetime.now()\n",
    "\n",
    "t.append((time2-time1).total_seconds())\n",
    "\n",
    "d.append(roc_auc_score(pred3,ytest))\n",
    "f.append(f1_score(pred3,ytest))\n",
    "p.append(precision_score(pred3,ytest))\n",
    "r.append(recall_score(pred3,ytest))\n",
    "\n",
    "n.append('RandomForestClassifier')\n",
    "\n",
    "print(time2-time1)"
   ]
  },
  {
   "cell_type": "code",
   "execution_count": 61,
   "metadata": {},
   "outputs": [],
   "source": [
    "#time1 = datetime.now()\n",
    "#model = GaussianProcessClassifier()\n",
    "#model.fit(xtrain,ytrain)\n",
    "#pred5 = model.predict(xtest)\n",
    "#time2 = datetime.now()\n",
    "#t.append(time2-time1)\n",
    "#d.append(roc_auc_score(pred5,ytest))\n",
    "#n.append('GaussianProcessClassifier')\n",
    "#print(time2-time1)"
   ]
  },
  {
   "cell_type": "code",
   "execution_count": 62,
   "metadata": {},
   "outputs": [
    {
     "name": "stdout",
     "output_type": "stream",
     "text": [
      "0:00:00.278716\n"
     ]
    }
   ],
   "source": [
    "time1 = datetime.now()\n",
    "\n",
    "model = DecisionTreeClassifier()\n",
    "model.fit(xtrain,ytrain)\n",
    "pred6 = model.predict(xtest)\n",
    "\n",
    "time2 = datetime.now()\n",
    "\n",
    "t.append((time2-time1).total_seconds())\n",
    "\n",
    "d.append(roc_auc_score(pred6,ytest))\n",
    "f.append(f1_score(pred6,ytest))\n",
    "p.append(precision_score(pred6,ytest))\n",
    "r.append(recall_score(pred6,ytest))\n",
    "\n",
    "n.append('DecisionTreeClassifier')\n",
    "\n",
    "print(time2-time1)"
   ]
  },
  {
   "cell_type": "code",
   "execution_count": 63,
   "metadata": {},
   "outputs": [
    {
     "name": "stdout",
     "output_type": "stream",
     "text": [
      "0:00:02.754859\n"
     ]
    }
   ],
   "source": [
    "time1 = datetime.now()\n",
    "\n",
    "model = AdaBoostClassifier()\n",
    "model.fit(xtrain,ytrain)\n",
    "pred7 = model.predict(xtest)\n",
    "\n",
    "time2 = datetime.now()\n",
    "\n",
    "t.append((time2-time1).total_seconds())\n",
    "\n",
    "f.append(f1_score(pred7,ytest))\n",
    "p.append(precision_score(pred7,ytest))\n",
    "r.append(recall_score(pred7,ytest))\n",
    "d.append(roc_auc_score(pred7,ytest))\n",
    "\n",
    "n.append('AdaBoostClassifier')\n",
    "\n",
    "print(time2-time1)"
   ]
  },
  {
   "cell_type": "code",
   "execution_count": 64,
   "metadata": {},
   "outputs": [
    {
     "name": "stdout",
     "output_type": "stream",
     "text": [
      "0:00:00.041048\n"
     ]
    }
   ],
   "source": [
    "time1 = datetime.now()\n",
    "\n",
    "model = GaussianNB()\n",
    "model.fit(xtrain,ytrain)\n",
    "pred8 = model.predict(xtest)\n",
    "\n",
    "time2 = datetime.now()\n",
    "\n",
    "t.append((time2-time1).total_seconds())\n",
    "\n",
    "f.append(f1_score(pred8,ytest))\n",
    "p.append(precision_score(pred8,ytest))\n",
    "r.append(recall_score(pred8,ytest))\n",
    "d.append(roc_auc_score(pred8,ytest))\n",
    "\n",
    "n.append('GaussianN')\n",
    "\n",
    "print(time2-time1)"
   ]
  },
  {
   "cell_type": "code",
   "execution_count": 65,
   "metadata": {},
   "outputs": [
    {
     "name": "stdout",
     "output_type": "stream",
     "text": [
      "0:00:00.069189\n"
     ]
    }
   ],
   "source": [
    "time1 = datetime.now()\n",
    "\n",
    "model = QuadraticDiscriminantAnalysis()\n",
    "model.fit(xtrain,ytrain)\n",
    "pred9 = model.predict(xtest)\n",
    "\n",
    "time2 = datetime.now()\n",
    "\n",
    "t.append((time2-time1).total_seconds())\n",
    "\n",
    "d.append(roc_auc_score(pred9,ytest))\n",
    "f.append(f1_score(pred9,ytest))\n",
    "p.append(precision_score(pred9,ytest))\n",
    "r.append(recall_score(pred9,ytest))\n",
    "\n",
    "n.append('QuadraticDiscriminantAnalysis')\n",
    "\n",
    "print(time2-time1)"
   ]
  },
  {
   "cell_type": "code",
   "execution_count": 66,
   "metadata": {},
   "outputs": [
    {
     "name": "stdout",
     "output_type": "stream",
     "text": [
      "0:00:04.074929\n"
     ]
    }
   ],
   "source": [
    "time1 = datetime.now()\n",
    "\n",
    "model = MLPClassifier()\n",
    "model.fit(xtrain,ytrain)\n",
    "pred10 = model.predict(xtest)\n",
    "\n",
    "time2 = datetime.now()\n",
    "\n",
    "t.append((time2-time1).total_seconds())\n",
    "\n",
    "d.append(roc_auc_score(pred10,ytest))\n",
    "f.append(f1_score(pred10,ytest))\n",
    "p.append(precision_score(pred10,ytest))\n",
    "r.append(recall_score(pred10,ytest))\n",
    "\n",
    "n.append('MLPClassifier')\n",
    "\n",
    "print(time2-time1)"
   ]
  },
  {
   "cell_type": "code",
   "execution_count": 67,
   "metadata": {},
   "outputs": [
    {
     "name": "stdout",
     "output_type": "stream",
     "text": [
      "0:00:00.489088\n"
     ]
    }
   ],
   "source": [
    "time1 = datetime.now()\n",
    "\n",
    "model = KNeighborsClassifier()\n",
    "model.fit(xtrain,ytrain)\n",
    "pred11 = model.predict(xtest)\n",
    "\n",
    "time2 = datetime.now()\n",
    "\n",
    "t.append((time2-time1).total_seconds())\n",
    "\n",
    "d.append(roc_auc_score(pred11,ytest))\n",
    "f.append(f1_score(pred11,ytest))\n",
    "p.append(precision_score(pred11,ytest))\n",
    "r.append(recall_score(pred11,ytest))\n",
    "\n",
    "n.append('KNeighborsClassifier')\n",
    "\n",
    "print(time2-time1)"
   ]
  },
  {
   "cell_type": "code",
   "execution_count": 68,
   "metadata": {},
   "outputs": [
    {
     "name": "stdout",
     "output_type": "stream",
     "text": [
      "0:00:06.121660\n"
     ]
    }
   ],
   "source": [
    "time1 = datetime.now()\n",
    "\n",
    "model = GradientBoostingClassifier()\n",
    "model.fit(xtrain,ytrain)\n",
    "pred12 = model.predict(xtest)\n",
    "\n",
    "time2 = datetime.now()\n",
    "\n",
    "t.append((time2-time1).total_seconds())\n",
    "\n",
    "d.append(roc_auc_score(pred12,ytest))\n",
    "f.append(f1_score(pred12,ytest))\n",
    "p.append(precision_score(pred12,ytest))\n",
    "r.append(recall_score(pred12,ytest))\n",
    "\n",
    "n.append('GradientBoostingClassifier')\n",
    "\n",
    "print(time2-time1)"
   ]
  },
  {
   "cell_type": "code",
   "execution_count": 69,
   "metadata": {},
   "outputs": [
    {
     "name": "stdout",
     "output_type": "stream",
     "text": [
      "0:00:00.507514\n"
     ]
    }
   ],
   "source": [
    "time1 = datetime.now()\n",
    "\n",
    "model = ExtraTreesClassifier()\n",
    "model.fit(xtrain,ytrain)\n",
    "pred13 = model.predict(xtest)\n",
    "\n",
    "time2 = datetime.now()\n",
    "\n",
    "t.append((time2-time1).total_seconds())\n",
    "\n",
    "d.append(roc_auc_score(pred13,ytest))\n",
    "f.append(f1_score(pred13,ytest))\n",
    "p.append(precision_score(pred13,ytest))\n",
    "r.append(recall_score(pred13,ytest))\n",
    "\n",
    "n.append('ExtraTreesClassifier')\n",
    "\n",
    "print(time2-time1)"
   ]
  },
  {
   "cell_type": "code",
   "execution_count": 70,
   "metadata": {},
   "outputs": [
    {
     "name": "stdout",
     "output_type": "stream",
     "text": [
      "0:00:01.573886\n"
     ]
    }
   ],
   "source": [
    "time1 = datetime.now()\n",
    "\n",
    "model = BaggingClassifier()\n",
    "model.fit(xtrain,ytrain)\n",
    "pred15 = model.predict(xtest)\n",
    "\n",
    "time2 = datetime.now()\n",
    "\n",
    "t.append((time2-time1).total_seconds())\n",
    "\n",
    "d.append(roc_auc_score(pred15,ytest))\n",
    "f.append(f1_score(pred15,ytest))\n",
    "p.append(precision_score(pred15,ytest))\n",
    "r.append(recall_score(pred15,ytest))\n",
    "\n",
    "n.append('BaggingClassifier')\n",
    "\n",
    "print(time2-time1)"
   ]
  },
  {
   "cell_type": "code",
   "execution_count": 71,
   "metadata": {},
   "outputs": [
    {
     "name": "stdout",
     "output_type": "stream",
     "text": [
      "0:00:03.849240\n"
     ]
    },
    {
     "name": "stderr",
     "output_type": "stream",
     "text": [
      "/Users/yadushyadav/anaconda3/lib/python3.6/site-packages/sklearn/preprocessing/label.py:151: DeprecationWarning: The truth value of an empty array is ambiguous. Returning False, but in future this will result in an error. Use `array.size > 0` to check that an array is not empty.\n",
      "  if diff:\n"
     ]
    }
   ],
   "source": [
    "time1 = datetime.now()\n",
    "\n",
    "model = xgb.XGBClassifier()\n",
    "model.fit(xtrain,ytrain)\n",
    "pred16 = model.predict(xtest)\n",
    "\n",
    "time2 = datetime.now()\n",
    "\n",
    "t.append((time2-time1).total_seconds())\n",
    "\n",
    "d.append(roc_auc_score(pred16,ytest))\n",
    "f.append(f1_score(pred16,ytest))\n",
    "p.append(precision_score(pred16,ytest))\n",
    "r.append(recall_score(pred16,ytest))\n",
    "\n",
    "n.append('XGBClassifier')\n",
    "\n",
    "print(time2-time1)"
   ]
  },
  {
   "cell_type": "code",
   "execution_count": 72,
   "metadata": {},
   "outputs": [
    {
     "name": "stdout",
     "output_type": "stream",
     "text": [
      "0:\tlearn: 0.6283587\ttotal: 90.6ms\tremaining: 1m 30s\n",
      "1:\tlearn: 0.5745720\ttotal: 125ms\tremaining: 1m 2s\n",
      "2:\tlearn: 0.5116184\ttotal: 160ms\tremaining: 53.3s\n",
      "3:\tlearn: 0.4640265\ttotal: 195ms\tremaining: 48.6s\n",
      "4:\tlearn: 0.4137687\ttotal: 232ms\tremaining: 46.1s\n",
      "5:\tlearn: 0.3822438\ttotal: 262ms\tremaining: 43.4s\n",
      "6:\tlearn: 0.3611937\ttotal: 299ms\tremaining: 42.5s\n",
      "7:\tlearn: 0.3384912\ttotal: 328ms\tremaining: 40.7s\n",
      "8:\tlearn: 0.3156871\ttotal: 364ms\tremaining: 40s\n",
      "9:\tlearn: 0.2963909\ttotal: 394ms\tremaining: 39s\n",
      "10:\tlearn: 0.2796056\ttotal: 415ms\tremaining: 37.3s\n",
      "11:\tlearn: 0.2576886\ttotal: 430ms\tremaining: 35.4s\n",
      "12:\tlearn: 0.2438384\ttotal: 443ms\tremaining: 33.7s\n",
      "13:\tlearn: 0.2310795\ttotal: 457ms\tremaining: 32.2s\n",
      "14:\tlearn: 0.2206047\ttotal: 471ms\tremaining: 30.9s\n",
      "15:\tlearn: 0.2087652\ttotal: 485ms\tremaining: 29.8s\n",
      "16:\tlearn: 0.1987121\ttotal: 499ms\tremaining: 28.9s\n",
      "17:\tlearn: 0.1922297\ttotal: 523ms\tremaining: 28.5s\n",
      "18:\tlearn: 0.1843161\ttotal: 538ms\tremaining: 27.8s\n",
      "19:\tlearn: 0.1743111\ttotal: 553ms\tremaining: 27.1s\n",
      "20:\tlearn: 0.1678543\ttotal: 567ms\tremaining: 26.4s\n",
      "21:\tlearn: 0.1617738\ttotal: 581ms\tremaining: 25.8s\n",
      "22:\tlearn: 0.1545043\ttotal: 595ms\tremaining: 25.3s\n",
      "23:\tlearn: 0.1491461\ttotal: 610ms\tremaining: 24.8s\n",
      "24:\tlearn: 0.1454938\ttotal: 628ms\tremaining: 24.5s\n",
      "25:\tlearn: 0.1401973\ttotal: 642ms\tremaining: 24s\n",
      "26:\tlearn: 0.1351979\ttotal: 655ms\tremaining: 23.6s\n",
      "27:\tlearn: 0.1298410\ttotal: 669ms\tremaining: 23.2s\n",
      "28:\tlearn: 0.1261718\ttotal: 683ms\tremaining: 22.9s\n",
      "29:\tlearn: 0.1221512\ttotal: 697ms\tremaining: 22.5s\n",
      "30:\tlearn: 0.1196561\ttotal: 722ms\tremaining: 22.6s\n",
      "31:\tlearn: 0.1155140\ttotal: 738ms\tremaining: 22.3s\n",
      "32:\tlearn: 0.1137624\ttotal: 751ms\tremaining: 22s\n",
      "33:\tlearn: 0.1112711\ttotal: 765ms\tremaining: 21.7s\n",
      "34:\tlearn: 0.1094353\ttotal: 778ms\tremaining: 21.5s\n",
      "35:\tlearn: 0.1067083\ttotal: 792ms\tremaining: 21.2s\n",
      "36:\tlearn: 0.1045608\ttotal: 805ms\tremaining: 20.9s\n",
      "37:\tlearn: 0.1027791\ttotal: 819ms\tremaining: 20.7s\n",
      "38:\tlearn: 0.1005760\ttotal: 832ms\tremaining: 20.5s\n",
      "39:\tlearn: 0.0987283\ttotal: 849ms\tremaining: 20.4s\n",
      "40:\tlearn: 0.0971414\ttotal: 868ms\tremaining: 20.3s\n",
      "41:\tlearn: 0.0956670\ttotal: 887ms\tremaining: 20.2s\n",
      "42:\tlearn: 0.0941653\ttotal: 912ms\tremaining: 20.3s\n",
      "43:\tlearn: 0.0929689\ttotal: 932ms\tremaining: 20.2s\n",
      "44:\tlearn: 0.0919936\ttotal: 957ms\tremaining: 20.3s\n",
      "45:\tlearn: 0.0914071\ttotal: 974ms\tremaining: 20.2s\n",
      "46:\tlearn: 0.0902866\ttotal: 994ms\tremaining: 20.1s\n",
      "47:\tlearn: 0.0892542\ttotal: 1.01s\tremaining: 20.1s\n",
      "48:\tlearn: 0.0887911\ttotal: 1.03s\tremaining: 20s\n",
      "49:\tlearn: 0.0880576\ttotal: 1.05s\tremaining: 20s\n",
      "50:\tlearn: 0.0873721\ttotal: 1.07s\tremaining: 20s\n",
      "51:\tlearn: 0.0858821\ttotal: 1.09s\tremaining: 19.8s\n",
      "52:\tlearn: 0.0854464\ttotal: 1.1s\tremaining: 19.7s\n",
      "53:\tlearn: 0.0843358\ttotal: 1.12s\tremaining: 19.6s\n",
      "54:\tlearn: 0.0839391\ttotal: 1.15s\tremaining: 19.7s\n",
      "55:\tlearn: 0.0834198\ttotal: 1.2s\tremaining: 20.2s\n",
      "56:\tlearn: 0.0825710\ttotal: 1.23s\tremaining: 20.4s\n",
      "57:\tlearn: 0.0821929\ttotal: 1.27s\tremaining: 20.6s\n",
      "58:\tlearn: 0.0813711\ttotal: 1.3s\tremaining: 20.8s\n",
      "59:\tlearn: 0.0811499\ttotal: 1.34s\tremaining: 21s\n",
      "60:\tlearn: 0.0805673\ttotal: 1.38s\tremaining: 21.2s\n",
      "61:\tlearn: 0.0801256\ttotal: 1.41s\tremaining: 21.3s\n",
      "62:\tlearn: 0.0796525\ttotal: 1.45s\tremaining: 21.5s\n",
      "63:\tlearn: 0.0792527\ttotal: 1.48s\tremaining: 21.7s\n",
      "64:\tlearn: 0.0790863\ttotal: 1.52s\tremaining: 21.9s\n",
      "65:\tlearn: 0.0788118\ttotal: 1.56s\tremaining: 22.1s\n",
      "66:\tlearn: 0.0785919\ttotal: 1.59s\tremaining: 22.2s\n",
      "67:\tlearn: 0.0784120\ttotal: 1.63s\tremaining: 22.3s\n",
      "68:\tlearn: 0.0781353\ttotal: 1.66s\tremaining: 22.4s\n",
      "69:\tlearn: 0.0777794\ttotal: 1.7s\tremaining: 22.5s\n",
      "70:\tlearn: 0.0774824\ttotal: 1.73s\tremaining: 22.6s\n",
      "71:\tlearn: 0.0771001\ttotal: 1.74s\tremaining: 22.5s\n",
      "72:\tlearn: 0.0768433\ttotal: 1.78s\tremaining: 22.6s\n",
      "73:\tlearn: 0.0763951\ttotal: 1.8s\tremaining: 22.5s\n",
      "74:\tlearn: 0.0762707\ttotal: 1.81s\tremaining: 22.4s\n",
      "75:\tlearn: 0.0760749\ttotal: 1.83s\tremaining: 22.3s\n",
      "76:\tlearn: 0.0759525\ttotal: 1.86s\tremaining: 22.3s\n",
      "77:\tlearn: 0.0757973\ttotal: 1.88s\tremaining: 22.2s\n",
      "78:\tlearn: 0.0755351\ttotal: 1.89s\tremaining: 22.1s\n",
      "79:\tlearn: 0.0754029\ttotal: 1.91s\tremaining: 22s\n",
      "80:\tlearn: 0.0752614\ttotal: 1.95s\tremaining: 22.2s\n",
      "81:\tlearn: 0.0751630\ttotal: 1.99s\tremaining: 22.3s\n",
      "82:\tlearn: 0.0749688\ttotal: 2.03s\tremaining: 22.4s\n",
      "83:\tlearn: 0.0747464\ttotal: 2.07s\tremaining: 22.6s\n",
      "84:\tlearn: 0.0746129\ttotal: 2.1s\tremaining: 22.7s\n",
      "85:\tlearn: 0.0745023\ttotal: 2.14s\tremaining: 22.7s\n",
      "86:\tlearn: 0.0743831\ttotal: 2.18s\tremaining: 22.9s\n",
      "87:\tlearn: 0.0742470\ttotal: 2.21s\tremaining: 22.9s\n",
      "88:\tlearn: 0.0737922\ttotal: 2.23s\tremaining: 22.9s\n",
      "89:\tlearn: 0.0734929\ttotal: 2.25s\tremaining: 22.7s\n",
      "90:\tlearn: 0.0731432\ttotal: 2.26s\tremaining: 22.6s\n",
      "91:\tlearn: 0.0726360\ttotal: 2.27s\tremaining: 22.5s\n",
      "92:\tlearn: 0.0725178\ttotal: 2.29s\tremaining: 22.3s\n",
      "93:\tlearn: 0.0721140\ttotal: 2.3s\tremaining: 22.2s\n",
      "94:\tlearn: 0.0719723\ttotal: 2.32s\tremaining: 22.1s\n",
      "95:\tlearn: 0.0718409\ttotal: 2.33s\tremaining: 22s\n",
      "96:\tlearn: 0.0716815\ttotal: 2.35s\tremaining: 21.8s\n",
      "97:\tlearn: 0.0715838\ttotal: 2.36s\tremaining: 21.7s\n",
      "98:\tlearn: 0.0714572\ttotal: 2.38s\tremaining: 21.6s\n",
      "99:\tlearn: 0.0713153\ttotal: 2.39s\tremaining: 21.5s\n",
      "100:\tlearn: 0.0712051\ttotal: 2.4s\tremaining: 21.4s\n",
      "101:\tlearn: 0.0711305\ttotal: 2.43s\tremaining: 21.4s\n",
      "102:\tlearn: 0.0710173\ttotal: 2.44s\tremaining: 21.3s\n",
      "103:\tlearn: 0.0706994\ttotal: 2.46s\tremaining: 21.2s\n",
      "104:\tlearn: 0.0704884\ttotal: 2.48s\tremaining: 21.1s\n",
      "105:\tlearn: 0.0702523\ttotal: 2.49s\tremaining: 21s\n",
      "106:\tlearn: 0.0701316\ttotal: 2.51s\tremaining: 20.9s\n",
      "107:\tlearn: 0.0699774\ttotal: 2.52s\tremaining: 20.8s\n",
      "108:\tlearn: 0.0698169\ttotal: 2.54s\tremaining: 20.7s\n",
      "109:\tlearn: 0.0697208\ttotal: 2.55s\tremaining: 20.6s\n",
      "110:\tlearn: 0.0695871\ttotal: 2.56s\tremaining: 20.5s\n",
      "111:\tlearn: 0.0694571\ttotal: 2.58s\tremaining: 20.5s\n",
      "112:\tlearn: 0.0692702\ttotal: 2.6s\tremaining: 20.4s\n",
      "113:\tlearn: 0.0691990\ttotal: 2.61s\tremaining: 20.3s\n",
      "114:\tlearn: 0.0690908\ttotal: 2.63s\tremaining: 20.2s\n",
      "115:\tlearn: 0.0689870\ttotal: 2.66s\tremaining: 20.3s\n",
      "116:\tlearn: 0.0689025\ttotal: 2.68s\tremaining: 20.2s\n",
      "117:\tlearn: 0.0688088\ttotal: 2.7s\tremaining: 20.2s\n",
      "118:\tlearn: 0.0687170\ttotal: 2.71s\tremaining: 20.1s\n",
      "119:\tlearn: 0.0685445\ttotal: 2.73s\tremaining: 20s\n",
      "120:\tlearn: 0.0684559\ttotal: 2.74s\tremaining: 19.9s\n",
      "121:\tlearn: 0.0682218\ttotal: 2.75s\tremaining: 19.8s\n",
      "122:\tlearn: 0.0680620\ttotal: 2.77s\tremaining: 19.7s\n",
      "123:\tlearn: 0.0679796\ttotal: 2.78s\tremaining: 19.7s\n",
      "124:\tlearn: 0.0679040\ttotal: 2.8s\tremaining: 19.6s\n",
      "125:\tlearn: 0.0678393\ttotal: 2.81s\tremaining: 19.5s\n",
      "126:\tlearn: 0.0677289\ttotal: 2.83s\tremaining: 19.4s\n",
      "127:\tlearn: 0.0675891\ttotal: 2.85s\tremaining: 19.5s\n",
      "128:\tlearn: 0.0674998\ttotal: 2.87s\tremaining: 19.4s\n",
      "129:\tlearn: 0.0673745\ttotal: 2.88s\tremaining: 19.3s\n",
      "130:\tlearn: 0.0673034\ttotal: 2.9s\tremaining: 19.2s\n",
      "131:\tlearn: 0.0672343\ttotal: 2.91s\tremaining: 19.2s\n",
      "132:\tlearn: 0.0671324\ttotal: 2.93s\tremaining: 19.1s\n",
      "133:\tlearn: 0.0670347\ttotal: 2.94s\tremaining: 19s\n",
      "134:\tlearn: 0.0669709\ttotal: 2.96s\tremaining: 19s\n",
      "135:\tlearn: 0.0668548\ttotal: 2.97s\tremaining: 18.9s\n",
      "136:\tlearn: 0.0667649\ttotal: 2.99s\tremaining: 18.8s\n",
      "137:\tlearn: 0.0666834\ttotal: 3s\tremaining: 18.8s\n",
      "138:\tlearn: 0.0665790\ttotal: 3.02s\tremaining: 18.7s\n",
      "139:\tlearn: 0.0664475\ttotal: 3.04s\tremaining: 18.7s\n",
      "140:\tlearn: 0.0663401\ttotal: 3.06s\tremaining: 18.6s\n",
      "141:\tlearn: 0.0662737\ttotal: 3.07s\tremaining: 18.6s\n",
      "142:\tlearn: 0.0661754\ttotal: 3.09s\tremaining: 18.5s\n",
      "143:\tlearn: 0.0660615\ttotal: 3.1s\tremaining: 18.4s\n",
      "144:\tlearn: 0.0659105\ttotal: 3.12s\tremaining: 18.4s\n",
      "145:\tlearn: 0.0658330\ttotal: 3.13s\tremaining: 18.3s\n",
      "146:\tlearn: 0.0657054\ttotal: 3.15s\tremaining: 18.3s\n",
      "147:\tlearn: 0.0656377\ttotal: 3.16s\tremaining: 18.2s\n",
      "148:\tlearn: 0.0654917\ttotal: 3.17s\tremaining: 18.1s\n",
      "149:\tlearn: 0.0654042\ttotal: 3.19s\tremaining: 18.1s\n",
      "150:\tlearn: 0.0653354\ttotal: 3.2s\tremaining: 18s\n",
      "151:\tlearn: 0.0652222\ttotal: 3.22s\tremaining: 17.9s\n",
      "152:\tlearn: 0.0651683\ttotal: 3.23s\tremaining: 17.9s\n",
      "153:\tlearn: 0.0650981\ttotal: 3.25s\tremaining: 17.9s\n",
      "154:\tlearn: 0.0649375\ttotal: 3.27s\tremaining: 17.8s\n",
      "155:\tlearn: 0.0648168\ttotal: 3.29s\tremaining: 17.8s\n",
      "156:\tlearn: 0.0647418\ttotal: 3.3s\tremaining: 17.7s\n",
      "157:\tlearn: 0.0646266\ttotal: 3.31s\tremaining: 17.7s\n",
      "158:\tlearn: 0.0644923\ttotal: 3.33s\tremaining: 17.6s\n",
      "159:\tlearn: 0.0644182\ttotal: 3.34s\tremaining: 17.6s\n",
      "160:\tlearn: 0.0643692\ttotal: 3.36s\tremaining: 17.5s\n",
      "161:\tlearn: 0.0642939\ttotal: 3.37s\tremaining: 17.4s\n",
      "162:\tlearn: 0.0642239\ttotal: 3.38s\tremaining: 17.4s\n",
      "163:\tlearn: 0.0641483\ttotal: 3.4s\tremaining: 17.3s\n",
      "164:\tlearn: 0.0640130\ttotal: 3.41s\tremaining: 17.3s\n",
      "165:\tlearn: 0.0639717\ttotal: 3.42s\tremaining: 17.2s\n",
      "166:\tlearn: 0.0638764\ttotal: 3.44s\tremaining: 17.2s\n"
     ]
    },
    {
     "name": "stdout",
     "output_type": "stream",
     "text": [
      "167:\tlearn: 0.0638036\ttotal: 3.45s\tremaining: 17.1s\n",
      "168:\tlearn: 0.0637021\ttotal: 3.48s\tremaining: 17.1s\n",
      "169:\tlearn: 0.0635914\ttotal: 3.5s\tremaining: 17.1s\n",
      "170:\tlearn: 0.0635179\ttotal: 3.51s\tremaining: 17s\n",
      "171:\tlearn: 0.0634721\ttotal: 3.52s\tremaining: 17s\n",
      "172:\tlearn: 0.0634263\ttotal: 3.54s\tremaining: 16.9s\n",
      "173:\tlearn: 0.0633929\ttotal: 3.55s\tremaining: 16.8s\n",
      "174:\tlearn: 0.0632876\ttotal: 3.57s\tremaining: 16.8s\n",
      "175:\tlearn: 0.0631885\ttotal: 3.58s\tremaining: 16.8s\n",
      "176:\tlearn: 0.0631397\ttotal: 3.59s\tremaining: 16.7s\n",
      "177:\tlearn: 0.0630841\ttotal: 3.61s\tremaining: 16.7s\n",
      "178:\tlearn: 0.0630080\ttotal: 3.62s\tremaining: 16.6s\n",
      "179:\tlearn: 0.0629558\ttotal: 3.64s\tremaining: 16.6s\n",
      "180:\tlearn: 0.0628355\ttotal: 3.66s\tremaining: 16.6s\n",
      "181:\tlearn: 0.0626338\ttotal: 3.69s\tremaining: 16.6s\n",
      "182:\tlearn: 0.0625315\ttotal: 3.71s\tremaining: 16.6s\n",
      "183:\tlearn: 0.0624860\ttotal: 3.72s\tremaining: 16.5s\n",
      "184:\tlearn: 0.0624505\ttotal: 3.74s\tremaining: 16.5s\n",
      "185:\tlearn: 0.0624113\ttotal: 3.75s\tremaining: 16.4s\n",
      "186:\tlearn: 0.0623700\ttotal: 3.76s\tremaining: 16.4s\n",
      "187:\tlearn: 0.0623250\ttotal: 3.78s\tremaining: 16.3s\n",
      "188:\tlearn: 0.0622469\ttotal: 3.79s\tremaining: 16.3s\n",
      "189:\tlearn: 0.0621205\ttotal: 3.81s\tremaining: 16.2s\n",
      "190:\tlearn: 0.0620452\ttotal: 3.82s\tremaining: 16.2s\n",
      "191:\tlearn: 0.0619727\ttotal: 3.84s\tremaining: 16.1s\n",
      "192:\tlearn: 0.0618535\ttotal: 3.85s\tremaining: 16.1s\n",
      "193:\tlearn: 0.0617405\ttotal: 3.88s\tremaining: 16.1s\n",
      "194:\tlearn: 0.0616583\ttotal: 3.89s\tremaining: 16.1s\n",
      "195:\tlearn: 0.0616168\ttotal: 3.91s\tremaining: 16s\n",
      "196:\tlearn: 0.0615718\ttotal: 3.92s\tremaining: 16s\n",
      "197:\tlearn: 0.0615021\ttotal: 3.94s\tremaining: 16s\n",
      "198:\tlearn: 0.0614434\ttotal: 3.95s\tremaining: 15.9s\n",
      "199:\tlearn: 0.0613866\ttotal: 3.97s\tremaining: 15.9s\n",
      "200:\tlearn: 0.0613533\ttotal: 3.98s\tremaining: 15.8s\n",
      "201:\tlearn: 0.0613080\ttotal: 4s\tremaining: 15.8s\n",
      "202:\tlearn: 0.0612429\ttotal: 4.01s\tremaining: 15.7s\n",
      "203:\tlearn: 0.0611946\ttotal: 4.03s\tremaining: 15.7s\n",
      "204:\tlearn: 0.0611384\ttotal: 4.04s\tremaining: 15.7s\n",
      "205:\tlearn: 0.0611097\ttotal: 4.05s\tremaining: 15.6s\n",
      "206:\tlearn: 0.0610201\ttotal: 4.07s\tremaining: 15.6s\n",
      "207:\tlearn: 0.0609835\ttotal: 4.09s\tremaining: 15.6s\n",
      "208:\tlearn: 0.0609312\ttotal: 4.11s\tremaining: 15.6s\n",
      "209:\tlearn: 0.0607997\ttotal: 4.13s\tremaining: 15.5s\n",
      "210:\tlearn: 0.0607633\ttotal: 4.14s\tremaining: 15.5s\n",
      "211:\tlearn: 0.0607115\ttotal: 4.15s\tremaining: 15.4s\n",
      "212:\tlearn: 0.0605354\ttotal: 4.17s\tremaining: 15.4s\n",
      "213:\tlearn: 0.0604315\ttotal: 4.18s\tremaining: 15.4s\n",
      "214:\tlearn: 0.0603629\ttotal: 4.2s\tremaining: 15.3s\n",
      "215:\tlearn: 0.0603388\ttotal: 4.21s\tremaining: 15.3s\n",
      "216:\tlearn: 0.0602731\ttotal: 4.23s\tremaining: 15.3s\n",
      "217:\tlearn: 0.0602094\ttotal: 4.24s\tremaining: 15.2s\n",
      "218:\tlearn: 0.0601603\ttotal: 4.25s\tremaining: 15.2s\n",
      "219:\tlearn: 0.0600728\ttotal: 4.27s\tremaining: 15.1s\n",
      "220:\tlearn: 0.0599650\ttotal: 4.28s\tremaining: 15.1s\n",
      "221:\tlearn: 0.0599073\ttotal: 4.3s\tremaining: 15.1s\n",
      "222:\tlearn: 0.0598389\ttotal: 4.33s\tremaining: 15.1s\n",
      "223:\tlearn: 0.0598057\ttotal: 4.34s\tremaining: 15s\n",
      "224:\tlearn: 0.0596841\ttotal: 4.36s\tremaining: 15s\n",
      "225:\tlearn: 0.0596345\ttotal: 4.37s\tremaining: 15s\n",
      "226:\tlearn: 0.0595698\ttotal: 4.38s\tremaining: 14.9s\n",
      "227:\tlearn: 0.0595347\ttotal: 4.4s\tremaining: 14.9s\n",
      "228:\tlearn: 0.0594783\ttotal: 4.41s\tremaining: 14.9s\n",
      "229:\tlearn: 0.0592726\ttotal: 4.43s\tremaining: 14.8s\n",
      "230:\tlearn: 0.0591470\ttotal: 4.44s\tremaining: 14.8s\n",
      "231:\tlearn: 0.0591004\ttotal: 4.46s\tremaining: 14.8s\n",
      "232:\tlearn: 0.0590641\ttotal: 4.47s\tremaining: 14.7s\n",
      "233:\tlearn: 0.0590176\ttotal: 4.48s\tremaining: 14.7s\n",
      "234:\tlearn: 0.0589195\ttotal: 4.5s\tremaining: 14.6s\n",
      "235:\tlearn: 0.0589032\ttotal: 4.52s\tremaining: 14.6s\n",
      "236:\tlearn: 0.0588489\ttotal: 4.54s\tremaining: 14.6s\n",
      "237:\tlearn: 0.0587919\ttotal: 4.55s\tremaining: 14.6s\n",
      "238:\tlearn: 0.0587310\ttotal: 4.57s\tremaining: 14.5s\n",
      "239:\tlearn: 0.0586764\ttotal: 4.58s\tremaining: 14.5s\n",
      "240:\tlearn: 0.0586167\ttotal: 4.6s\tremaining: 14.5s\n",
      "241:\tlearn: 0.0585273\ttotal: 4.61s\tremaining: 14.4s\n",
      "242:\tlearn: 0.0584863\ttotal: 4.62s\tremaining: 14.4s\n",
      "243:\tlearn: 0.0584549\ttotal: 4.64s\tremaining: 14.4s\n",
      "244:\tlearn: 0.0583608\ttotal: 4.65s\tremaining: 14.3s\n",
      "245:\tlearn: 0.0582863\ttotal: 4.67s\tremaining: 14.3s\n",
      "246:\tlearn: 0.0582057\ttotal: 4.68s\tremaining: 14.3s\n",
      "247:\tlearn: 0.0581513\ttotal: 4.7s\tremaining: 14.2s\n",
      "248:\tlearn: 0.0581107\ttotal: 4.71s\tremaining: 14.2s\n",
      "249:\tlearn: 0.0580322\ttotal: 4.73s\tremaining: 14.2s\n",
      "250:\tlearn: 0.0579305\ttotal: 4.75s\tremaining: 14.2s\n",
      "251:\tlearn: 0.0578542\ttotal: 4.76s\tremaining: 14.1s\n",
      "252:\tlearn: 0.0577859\ttotal: 4.78s\tremaining: 14.1s\n",
      "253:\tlearn: 0.0577405\ttotal: 4.8s\tremaining: 14.1s\n",
      "254:\tlearn: 0.0576826\ttotal: 4.81s\tremaining: 14.1s\n",
      "255:\tlearn: 0.0576462\ttotal: 4.82s\tremaining: 14s\n",
      "256:\tlearn: 0.0575952\ttotal: 4.84s\tremaining: 14s\n",
      "257:\tlearn: 0.0575369\ttotal: 4.85s\tremaining: 14s\n",
      "258:\tlearn: 0.0575137\ttotal: 4.87s\tremaining: 13.9s\n",
      "259:\tlearn: 0.0573515\ttotal: 4.88s\tremaining: 13.9s\n",
      "260:\tlearn: 0.0572919\ttotal: 4.9s\tremaining: 13.9s\n",
      "261:\tlearn: 0.0571944\ttotal: 4.92s\tremaining: 13.8s\n",
      "262:\tlearn: 0.0571227\ttotal: 4.94s\tremaining: 13.9s\n",
      "263:\tlearn: 0.0570702\ttotal: 4.96s\tremaining: 13.8s\n",
      "264:\tlearn: 0.0569184\ttotal: 4.98s\tremaining: 13.8s\n",
      "265:\tlearn: 0.0568659\ttotal: 4.99s\tremaining: 13.8s\n",
      "266:\tlearn: 0.0567904\ttotal: 5.01s\tremaining: 13.7s\n",
      "267:\tlearn: 0.0567367\ttotal: 5.02s\tremaining: 13.7s\n",
      "268:\tlearn: 0.0567046\ttotal: 5.04s\tremaining: 13.7s\n",
      "269:\tlearn: 0.0566737\ttotal: 5.05s\tremaining: 13.7s\n",
      "270:\tlearn: 0.0566068\ttotal: 5.06s\tremaining: 13.6s\n",
      "271:\tlearn: 0.0565188\ttotal: 5.08s\tremaining: 13.6s\n",
      "272:\tlearn: 0.0564694\ttotal: 5.09s\tremaining: 13.6s\n",
      "273:\tlearn: 0.0564266\ttotal: 5.1s\tremaining: 13.5s\n",
      "274:\tlearn: 0.0563611\ttotal: 5.12s\tremaining: 13.5s\n",
      "275:\tlearn: 0.0562959\ttotal: 5.13s\tremaining: 13.5s\n",
      "276:\tlearn: 0.0562588\ttotal: 5.15s\tremaining: 13.4s\n",
      "277:\tlearn: 0.0562107\ttotal: 5.17s\tremaining: 13.4s\n",
      "278:\tlearn: 0.0561660\ttotal: 5.18s\tremaining: 13.4s\n",
      "279:\tlearn: 0.0561206\ttotal: 5.2s\tremaining: 13.4s\n",
      "280:\tlearn: 0.0560927\ttotal: 5.22s\tremaining: 13.4s\n",
      "281:\tlearn: 0.0560438\ttotal: 5.24s\tremaining: 13.3s\n",
      "282:\tlearn: 0.0559864\ttotal: 5.25s\tremaining: 13.3s\n",
      "283:\tlearn: 0.0559478\ttotal: 5.26s\tremaining: 13.3s\n",
      "284:\tlearn: 0.0558760\ttotal: 5.28s\tremaining: 13.2s\n",
      "285:\tlearn: 0.0557369\ttotal: 5.29s\tremaining: 13.2s\n",
      "286:\tlearn: 0.0556945\ttotal: 5.3s\tremaining: 13.2s\n",
      "287:\tlearn: 0.0556658\ttotal: 5.32s\tremaining: 13.1s\n",
      "288:\tlearn: 0.0556186\ttotal: 5.33s\tremaining: 13.1s\n",
      "289:\tlearn: 0.0555782\ttotal: 5.34s\tremaining: 13.1s\n",
      "290:\tlearn: 0.0555363\ttotal: 5.37s\tremaining: 13.1s\n",
      "291:\tlearn: 0.0554711\ttotal: 5.38s\tremaining: 13.1s\n",
      "292:\tlearn: 0.0554276\ttotal: 5.4s\tremaining: 13s\n",
      "293:\tlearn: 0.0553863\ttotal: 5.41s\tremaining: 13s\n",
      "294:\tlearn: 0.0553318\ttotal: 5.42s\tremaining: 13s\n",
      "295:\tlearn: 0.0553061\ttotal: 5.44s\tremaining: 12.9s\n",
      "296:\tlearn: 0.0552781\ttotal: 5.45s\tremaining: 12.9s\n",
      "297:\tlearn: 0.0552211\ttotal: 5.47s\tremaining: 12.9s\n",
      "298:\tlearn: 0.0551793\ttotal: 5.48s\tremaining: 12.8s\n",
      "299:\tlearn: 0.0551313\ttotal: 5.49s\tremaining: 12.8s\n",
      "300:\tlearn: 0.0551069\ttotal: 5.51s\tremaining: 12.8s\n",
      "301:\tlearn: 0.0550786\ttotal: 5.52s\tremaining: 12.8s\n",
      "302:\tlearn: 0.0550495\ttotal: 5.53s\tremaining: 12.7s\n",
      "303:\tlearn: 0.0549725\ttotal: 5.55s\tremaining: 12.7s\n",
      "304:\tlearn: 0.0549305\ttotal: 5.56s\tremaining: 12.7s\n",
      "305:\tlearn: 0.0548958\ttotal: 5.59s\tremaining: 12.7s\n",
      "306:\tlearn: 0.0548359\ttotal: 5.6s\tremaining: 12.6s\n",
      "307:\tlearn: 0.0548025\ttotal: 5.62s\tremaining: 12.6s\n",
      "308:\tlearn: 0.0546720\ttotal: 5.63s\tremaining: 12.6s\n",
      "309:\tlearn: 0.0546316\ttotal: 5.65s\tremaining: 12.6s\n",
      "310:\tlearn: 0.0545328\ttotal: 5.66s\tremaining: 12.5s\n",
      "311:\tlearn: 0.0544620\ttotal: 5.68s\tremaining: 12.5s\n",
      "312:\tlearn: 0.0544324\ttotal: 5.69s\tremaining: 12.5s\n",
      "313:\tlearn: 0.0543873\ttotal: 5.7s\tremaining: 12.5s\n",
      "314:\tlearn: 0.0543570\ttotal: 5.72s\tremaining: 12.4s\n",
      "315:\tlearn: 0.0543124\ttotal: 5.73s\tremaining: 12.4s\n",
      "316:\tlearn: 0.0542159\ttotal: 5.75s\tremaining: 12.4s\n",
      "317:\tlearn: 0.0541910\ttotal: 5.76s\tremaining: 12.4s\n",
      "318:\tlearn: 0.0541310\ttotal: 5.78s\tremaining: 12.3s\n",
      "319:\tlearn: 0.0541093\ttotal: 5.79s\tremaining: 12.3s\n",
      "320:\tlearn: 0.0540852\ttotal: 5.81s\tremaining: 12.3s\n",
      "321:\tlearn: 0.0540558\ttotal: 5.83s\tremaining: 12.3s\n",
      "322:\tlearn: 0.0539952\ttotal: 5.85s\tremaining: 12.3s\n",
      "323:\tlearn: 0.0538945\ttotal: 5.86s\tremaining: 12.2s\n",
      "324:\tlearn: 0.0538658\ttotal: 5.88s\tremaining: 12.2s\n",
      "325:\tlearn: 0.0538343\ttotal: 5.89s\tremaining: 12.2s\n",
      "326:\tlearn: 0.0538010\ttotal: 5.91s\tremaining: 12.2s\n",
      "327:\tlearn: 0.0537797\ttotal: 5.92s\tremaining: 12.1s\n",
      "328:\tlearn: 0.0537258\ttotal: 5.94s\tremaining: 12.1s\n",
      "329:\tlearn: 0.0536465\ttotal: 5.95s\tremaining: 12.1s\n",
      "330:\tlearn: 0.0535844\ttotal: 5.96s\tremaining: 12.1s\n",
      "331:\tlearn: 0.0535468\ttotal: 5.98s\tremaining: 12s\n"
     ]
    },
    {
     "name": "stdout",
     "output_type": "stream",
     "text": [
      "332:\tlearn: 0.0535228\ttotal: 5.99s\tremaining: 12s\n",
      "333:\tlearn: 0.0534454\ttotal: 6.02s\tremaining: 12s\n",
      "334:\tlearn: 0.0534286\ttotal: 6.03s\tremaining: 12s\n",
      "335:\tlearn: 0.0533987\ttotal: 6.05s\tremaining: 11.9s\n",
      "336:\tlearn: 0.0533572\ttotal: 6.06s\tremaining: 11.9s\n",
      "337:\tlearn: 0.0533109\ttotal: 6.08s\tremaining: 11.9s\n",
      "338:\tlearn: 0.0532814\ttotal: 6.09s\tremaining: 11.9s\n",
      "339:\tlearn: 0.0532330\ttotal: 6.1s\tremaining: 11.8s\n",
      "340:\tlearn: 0.0531590\ttotal: 6.12s\tremaining: 11.8s\n",
      "341:\tlearn: 0.0531326\ttotal: 6.13s\tremaining: 11.8s\n",
      "342:\tlearn: 0.0531005\ttotal: 6.14s\tremaining: 11.8s\n",
      "343:\tlearn: 0.0530763\ttotal: 6.16s\tremaining: 11.7s\n",
      "344:\tlearn: 0.0530310\ttotal: 6.17s\tremaining: 11.7s\n",
      "345:\tlearn: 0.0529967\ttotal: 6.19s\tremaining: 11.7s\n",
      "346:\tlearn: 0.0529624\ttotal: 6.21s\tremaining: 11.7s\n",
      "347:\tlearn: 0.0529358\ttotal: 6.22s\tremaining: 11.7s\n",
      "348:\tlearn: 0.0528854\ttotal: 6.24s\tremaining: 11.6s\n",
      "349:\tlearn: 0.0528564\ttotal: 6.28s\tremaining: 11.7s\n",
      "350:\tlearn: 0.0528250\ttotal: 6.31s\tremaining: 11.7s\n",
      "351:\tlearn: 0.0528022\ttotal: 6.33s\tremaining: 11.6s\n",
      "352:\tlearn: 0.0527742\ttotal: 6.34s\tremaining: 11.6s\n",
      "353:\tlearn: 0.0527556\ttotal: 6.36s\tremaining: 11.6s\n",
      "354:\tlearn: 0.0527280\ttotal: 6.38s\tremaining: 11.6s\n",
      "355:\tlearn: 0.0526843\ttotal: 6.4s\tremaining: 11.6s\n",
      "356:\tlearn: 0.0526117\ttotal: 6.42s\tremaining: 11.6s\n",
      "357:\tlearn: 0.0525866\ttotal: 6.44s\tremaining: 11.6s\n",
      "358:\tlearn: 0.0525321\ttotal: 6.46s\tremaining: 11.5s\n",
      "359:\tlearn: 0.0524861\ttotal: 6.48s\tremaining: 11.5s\n",
      "360:\tlearn: 0.0524536\ttotal: 6.5s\tremaining: 11.5s\n",
      "361:\tlearn: 0.0523646\ttotal: 6.52s\tremaining: 11.5s\n",
      "362:\tlearn: 0.0523130\ttotal: 6.54s\tremaining: 11.5s\n",
      "363:\tlearn: 0.0522400\ttotal: 6.56s\tremaining: 11.5s\n",
      "364:\tlearn: 0.0522133\ttotal: 6.57s\tremaining: 11.4s\n",
      "365:\tlearn: 0.0521426\ttotal: 6.58s\tremaining: 11.4s\n",
      "366:\tlearn: 0.0521109\ttotal: 6.61s\tremaining: 11.4s\n",
      "367:\tlearn: 0.0520368\ttotal: 6.67s\tremaining: 11.4s\n",
      "368:\tlearn: 0.0520115\ttotal: 6.71s\tremaining: 11.5s\n",
      "369:\tlearn: 0.0519807\ttotal: 6.75s\tremaining: 11.5s\n",
      "370:\tlearn: 0.0519370\ttotal: 6.79s\tremaining: 11.5s\n",
      "371:\tlearn: 0.0519011\ttotal: 6.82s\tremaining: 11.5s\n",
      "372:\tlearn: 0.0518436\ttotal: 6.86s\tremaining: 11.5s\n",
      "373:\tlearn: 0.0518313\ttotal: 6.9s\tremaining: 11.5s\n",
      "374:\tlearn: 0.0517768\ttotal: 6.91s\tremaining: 11.5s\n",
      "375:\tlearn: 0.0517217\ttotal: 6.93s\tremaining: 11.5s\n",
      "376:\tlearn: 0.0516805\ttotal: 6.95s\tremaining: 11.5s\n",
      "377:\tlearn: 0.0516539\ttotal: 6.96s\tremaining: 11.5s\n",
      "378:\tlearn: 0.0516172\ttotal: 6.97s\tremaining: 11.4s\n",
      "379:\tlearn: 0.0515779\ttotal: 6.99s\tremaining: 11.4s\n",
      "380:\tlearn: 0.0515175\ttotal: 7s\tremaining: 11.4s\n",
      "381:\tlearn: 0.0514751\ttotal: 7.02s\tremaining: 11.4s\n",
      "382:\tlearn: 0.0514331\ttotal: 7.03s\tremaining: 11.3s\n",
      "383:\tlearn: 0.0513901\ttotal: 7.05s\tremaining: 11.3s\n",
      "384:\tlearn: 0.0513356\ttotal: 7.07s\tremaining: 11.3s\n",
      "385:\tlearn: 0.0512912\ttotal: 7.11s\tremaining: 11.3s\n",
      "386:\tlearn: 0.0512551\ttotal: 7.16s\tremaining: 11.3s\n",
      "387:\tlearn: 0.0512279\ttotal: 7.21s\tremaining: 11.4s\n",
      "388:\tlearn: 0.0511799\ttotal: 7.25s\tremaining: 11.4s\n",
      "389:\tlearn: 0.0511525\ttotal: 7.29s\tremaining: 11.4s\n",
      "390:\tlearn: 0.0511269\ttotal: 7.33s\tremaining: 11.4s\n",
      "391:\tlearn: 0.0510635\ttotal: 7.36s\tremaining: 11.4s\n",
      "392:\tlearn: 0.0510441\ttotal: 7.4s\tremaining: 11.4s\n",
      "393:\tlearn: 0.0510171\ttotal: 7.44s\tremaining: 11.4s\n",
      "394:\tlearn: 0.0509659\ttotal: 7.49s\tremaining: 11.5s\n",
      "395:\tlearn: 0.0509056\ttotal: 7.53s\tremaining: 11.5s\n",
      "396:\tlearn: 0.0508785\ttotal: 7.57s\tremaining: 11.5s\n",
      "397:\tlearn: 0.0508499\ttotal: 7.61s\tremaining: 11.5s\n",
      "398:\tlearn: 0.0508311\ttotal: 7.65s\tremaining: 11.5s\n",
      "399:\tlearn: 0.0508014\ttotal: 7.68s\tremaining: 11.5s\n",
      "400:\tlearn: 0.0507640\ttotal: 7.72s\tremaining: 11.5s\n",
      "401:\tlearn: 0.0507375\ttotal: 7.76s\tremaining: 11.6s\n",
      "402:\tlearn: 0.0507098\ttotal: 7.8s\tremaining: 11.6s\n",
      "403:\tlearn: 0.0506740\ttotal: 7.84s\tremaining: 11.6s\n",
      "404:\tlearn: 0.0506313\ttotal: 7.88s\tremaining: 11.6s\n",
      "405:\tlearn: 0.0505880\ttotal: 7.91s\tremaining: 11.6s\n",
      "406:\tlearn: 0.0505727\ttotal: 7.93s\tremaining: 11.6s\n",
      "407:\tlearn: 0.0505390\ttotal: 7.96s\tremaining: 11.5s\n",
      "408:\tlearn: 0.0504995\ttotal: 7.98s\tremaining: 11.5s\n",
      "409:\tlearn: 0.0504858\ttotal: 8.01s\tremaining: 11.5s\n",
      "410:\tlearn: 0.0504671\ttotal: 8.02s\tremaining: 11.5s\n",
      "411:\tlearn: 0.0504269\ttotal: 8.04s\tremaining: 11.5s\n",
      "412:\tlearn: 0.0504061\ttotal: 8.05s\tremaining: 11.4s\n",
      "413:\tlearn: 0.0503566\ttotal: 8.06s\tremaining: 11.4s\n",
      "414:\tlearn: 0.0503349\ttotal: 8.08s\tremaining: 11.4s\n",
      "415:\tlearn: 0.0503023\ttotal: 8.09s\tremaining: 11.4s\n",
      "416:\tlearn: 0.0502750\ttotal: 8.1s\tremaining: 11.3s\n",
      "417:\tlearn: 0.0502405\ttotal: 8.12s\tremaining: 11.3s\n",
      "418:\tlearn: 0.0502126\ttotal: 8.13s\tremaining: 11.3s\n",
      "419:\tlearn: 0.0501439\ttotal: 8.15s\tremaining: 11.3s\n",
      "420:\tlearn: 0.0501243\ttotal: 8.16s\tremaining: 11.2s\n",
      "421:\tlearn: 0.0500755\ttotal: 8.18s\tremaining: 11.2s\n",
      "422:\tlearn: 0.0500363\ttotal: 8.2s\tremaining: 11.2s\n",
      "423:\tlearn: 0.0500024\ttotal: 8.22s\tremaining: 11.2s\n",
      "424:\tlearn: 0.0499603\ttotal: 8.23s\tremaining: 11.1s\n",
      "425:\tlearn: 0.0499423\ttotal: 8.24s\tremaining: 11.1s\n",
      "426:\tlearn: 0.0499163\ttotal: 8.26s\tremaining: 11.1s\n",
      "427:\tlearn: 0.0498946\ttotal: 8.27s\tremaining: 11.1s\n",
      "428:\tlearn: 0.0498657\ttotal: 8.29s\tremaining: 11s\n",
      "429:\tlearn: 0.0498112\ttotal: 8.31s\tremaining: 11s\n",
      "430:\tlearn: 0.0497887\ttotal: 8.32s\tremaining: 11s\n",
      "431:\tlearn: 0.0497223\ttotal: 8.34s\tremaining: 11s\n",
      "432:\tlearn: 0.0496871\ttotal: 8.36s\tremaining: 11s\n",
      "433:\tlearn: 0.0496427\ttotal: 8.38s\tremaining: 10.9s\n",
      "434:\tlearn: 0.0496212\ttotal: 8.4s\tremaining: 10.9s\n",
      "435:\tlearn: 0.0495946\ttotal: 8.43s\tremaining: 10.9s\n",
      "436:\tlearn: 0.0494966\ttotal: 8.45s\tremaining: 10.9s\n",
      "437:\tlearn: 0.0494706\ttotal: 8.47s\tremaining: 10.9s\n",
      "438:\tlearn: 0.0494424\ttotal: 8.49s\tremaining: 10.8s\n",
      "439:\tlearn: 0.0494201\ttotal: 8.51s\tremaining: 10.8s\n",
      "440:\tlearn: 0.0493814\ttotal: 8.52s\tremaining: 10.8s\n",
      "441:\tlearn: 0.0493565\ttotal: 8.54s\tremaining: 10.8s\n",
      "442:\tlearn: 0.0493031\ttotal: 8.55s\tremaining: 10.8s\n",
      "443:\tlearn: 0.0492613\ttotal: 8.57s\tremaining: 10.7s\n",
      "444:\tlearn: 0.0491890\ttotal: 8.58s\tremaining: 10.7s\n",
      "445:\tlearn: 0.0491589\ttotal: 8.6s\tremaining: 10.7s\n",
      "446:\tlearn: 0.0491402\ttotal: 8.63s\tremaining: 10.7s\n",
      "447:\tlearn: 0.0490997\ttotal: 8.65s\tremaining: 10.7s\n",
      "448:\tlearn: 0.0490795\ttotal: 8.68s\tremaining: 10.7s\n",
      "449:\tlearn: 0.0490446\ttotal: 8.71s\tremaining: 10.6s\n",
      "450:\tlearn: 0.0490224\ttotal: 8.74s\tremaining: 10.6s\n",
      "451:\tlearn: 0.0489815\ttotal: 8.76s\tremaining: 10.6s\n",
      "452:\tlearn: 0.0489274\ttotal: 8.78s\tremaining: 10.6s\n",
      "453:\tlearn: 0.0488605\ttotal: 8.81s\tremaining: 10.6s\n",
      "454:\tlearn: 0.0488352\ttotal: 8.84s\tremaining: 10.6s\n",
      "455:\tlearn: 0.0487992\ttotal: 8.85s\tremaining: 10.6s\n",
      "456:\tlearn: 0.0487525\ttotal: 8.87s\tremaining: 10.5s\n",
      "457:\tlearn: 0.0487379\ttotal: 8.89s\tremaining: 10.5s\n",
      "458:\tlearn: 0.0486944\ttotal: 8.91s\tremaining: 10.5s\n",
      "459:\tlearn: 0.0486412\ttotal: 8.93s\tremaining: 10.5s\n",
      "460:\tlearn: 0.0485631\ttotal: 8.96s\tremaining: 10.5s\n",
      "461:\tlearn: 0.0485277\ttotal: 8.98s\tremaining: 10.5s\n",
      "462:\tlearn: 0.0485150\ttotal: 9.01s\tremaining: 10.4s\n",
      "463:\tlearn: 0.0484829\ttotal: 9.04s\tremaining: 10.4s\n",
      "464:\tlearn: 0.0484559\ttotal: 9.07s\tremaining: 10.4s\n",
      "465:\tlearn: 0.0484350\ttotal: 9.09s\tremaining: 10.4s\n",
      "466:\tlearn: 0.0483861\ttotal: 9.11s\tremaining: 10.4s\n",
      "467:\tlearn: 0.0483516\ttotal: 9.12s\tremaining: 10.4s\n",
      "468:\tlearn: 0.0483205\ttotal: 9.14s\tremaining: 10.3s\n",
      "469:\tlearn: 0.0482848\ttotal: 9.15s\tremaining: 10.3s\n",
      "470:\tlearn: 0.0482591\ttotal: 9.16s\tremaining: 10.3s\n",
      "471:\tlearn: 0.0482106\ttotal: 9.18s\tremaining: 10.3s\n",
      "472:\tlearn: 0.0481857\ttotal: 9.19s\tremaining: 10.2s\n",
      "473:\tlearn: 0.0481547\ttotal: 9.2s\tremaining: 10.2s\n",
      "474:\tlearn: 0.0481280\ttotal: 9.23s\tremaining: 10.2s\n",
      "475:\tlearn: 0.0480731\ttotal: 9.24s\tremaining: 10.2s\n",
      "476:\tlearn: 0.0480169\ttotal: 9.26s\tremaining: 10.2s\n",
      "477:\tlearn: 0.0479939\ttotal: 9.27s\tremaining: 10.1s\n",
      "478:\tlearn: 0.0479378\ttotal: 9.29s\tremaining: 10.1s\n",
      "479:\tlearn: 0.0479190\ttotal: 9.3s\tremaining: 10.1s\n",
      "480:\tlearn: 0.0478877\ttotal: 9.31s\tremaining: 10s\n",
      "481:\tlearn: 0.0478702\ttotal: 9.32s\tremaining: 10s\n",
      "482:\tlearn: 0.0478569\ttotal: 9.34s\tremaining: 9.99s\n",
      "483:\tlearn: 0.0478001\ttotal: 9.35s\tremaining: 9.97s\n",
      "484:\tlearn: 0.0477802\ttotal: 9.36s\tremaining: 9.94s\n",
      "485:\tlearn: 0.0477442\ttotal: 9.38s\tremaining: 9.92s\n",
      "486:\tlearn: 0.0476717\ttotal: 9.39s\tremaining: 9.89s\n",
      "487:\tlearn: 0.0476469\ttotal: 9.4s\tremaining: 9.87s\n",
      "488:\tlearn: 0.0476165\ttotal: 9.42s\tremaining: 9.84s\n",
      "489:\tlearn: 0.0475909\ttotal: 9.44s\tremaining: 9.82s\n",
      "490:\tlearn: 0.0475659\ttotal: 9.46s\tremaining: 9.81s\n",
      "491:\tlearn: 0.0475264\ttotal: 9.48s\tremaining: 9.78s\n",
      "492:\tlearn: 0.0475117\ttotal: 9.49s\tremaining: 9.76s\n",
      "493:\tlearn: 0.0474905\ttotal: 9.5s\tremaining: 9.73s\n",
      "494:\tlearn: 0.0474520\ttotal: 9.52s\tremaining: 9.71s\n",
      "495:\tlearn: 0.0474260\ttotal: 9.53s\tremaining: 9.68s\n",
      "496:\tlearn: 0.0473956\ttotal: 9.54s\tremaining: 9.66s\n",
      "497:\tlearn: 0.0473819\ttotal: 9.55s\tremaining: 9.63s\n",
      "498:\tlearn: 0.0473677\ttotal: 9.57s\tremaining: 9.61s\n",
      "499:\tlearn: 0.0473361\ttotal: 9.58s\tremaining: 9.58s\n",
      "500:\tlearn: 0.0473088\ttotal: 9.6s\tremaining: 9.56s\n",
      "501:\tlearn: 0.0472641\ttotal: 9.61s\tremaining: 9.53s\n",
      "502:\tlearn: 0.0472091\ttotal: 9.62s\tremaining: 9.51s\n",
      "503:\tlearn: 0.0471878\ttotal: 9.64s\tremaining: 9.48s\n"
     ]
    },
    {
     "name": "stdout",
     "output_type": "stream",
     "text": [
      "504:\tlearn: 0.0471452\ttotal: 9.66s\tremaining: 9.47s\n",
      "505:\tlearn: 0.0471224\ttotal: 9.68s\tremaining: 9.45s\n",
      "506:\tlearn: 0.0470614\ttotal: 9.69s\tremaining: 9.42s\n",
      "507:\tlearn: 0.0470273\ttotal: 9.71s\tremaining: 9.4s\n",
      "508:\tlearn: 0.0470029\ttotal: 9.72s\tremaining: 9.38s\n",
      "509:\tlearn: 0.0469918\ttotal: 9.73s\tremaining: 9.35s\n",
      "510:\tlearn: 0.0469471\ttotal: 9.75s\tremaining: 9.33s\n",
      "511:\tlearn: 0.0469193\ttotal: 9.76s\tremaining: 9.3s\n",
      "512:\tlearn: 0.0469061\ttotal: 9.78s\tremaining: 9.28s\n",
      "513:\tlearn: 0.0468790\ttotal: 9.79s\tremaining: 9.26s\n",
      "514:\tlearn: 0.0468290\ttotal: 9.8s\tremaining: 9.23s\n",
      "515:\tlearn: 0.0467971\ttotal: 9.81s\tremaining: 9.21s\n",
      "516:\tlearn: 0.0467624\ttotal: 9.83s\tremaining: 9.18s\n",
      "517:\tlearn: 0.0467226\ttotal: 9.85s\tremaining: 9.16s\n",
      "518:\tlearn: 0.0466698\ttotal: 9.86s\tremaining: 9.14s\n",
      "519:\tlearn: 0.0466340\ttotal: 9.89s\tremaining: 9.13s\n",
      "520:\tlearn: 0.0466142\ttotal: 9.91s\tremaining: 9.11s\n",
      "521:\tlearn: 0.0466007\ttotal: 9.92s\tremaining: 9.08s\n",
      "522:\tlearn: 0.0465826\ttotal: 9.93s\tremaining: 9.06s\n",
      "523:\tlearn: 0.0465438\ttotal: 9.95s\tremaining: 9.04s\n",
      "524:\tlearn: 0.0465170\ttotal: 9.96s\tremaining: 9.01s\n",
      "525:\tlearn: 0.0464932\ttotal: 9.97s\tremaining: 8.99s\n",
      "526:\tlearn: 0.0464651\ttotal: 9.99s\tremaining: 8.96s\n",
      "527:\tlearn: 0.0464300\ttotal: 10s\tremaining: 8.94s\n",
      "528:\tlearn: 0.0463969\ttotal: 10s\tremaining: 8.91s\n",
      "529:\tlearn: 0.0463784\ttotal: 10s\tremaining: 8.89s\n",
      "530:\tlearn: 0.0463500\ttotal: 10s\tremaining: 8.87s\n",
      "531:\tlearn: 0.0463333\ttotal: 10.1s\tremaining: 8.84s\n",
      "532:\tlearn: 0.0463163\ttotal: 10.1s\tremaining: 8.83s\n",
      "533:\tlearn: 0.0462916\ttotal: 10.1s\tremaining: 8.81s\n",
      "534:\tlearn: 0.0462263\ttotal: 10.1s\tremaining: 8.79s\n",
      "535:\tlearn: 0.0462008\ttotal: 10.1s\tremaining: 8.76s\n",
      "536:\tlearn: 0.0461626\ttotal: 10.1s\tremaining: 8.74s\n",
      "537:\tlearn: 0.0461443\ttotal: 10.1s\tremaining: 8.71s\n",
      "538:\tlearn: 0.0461233\ttotal: 10.2s\tremaining: 8.69s\n",
      "539:\tlearn: 0.0461061\ttotal: 10.2s\tremaining: 8.67s\n",
      "540:\tlearn: 0.0460829\ttotal: 10.2s\tremaining: 8.64s\n",
      "541:\tlearn: 0.0460551\ttotal: 10.2s\tremaining: 8.62s\n",
      "542:\tlearn: 0.0460210\ttotal: 10.2s\tremaining: 8.6s\n",
      "543:\tlearn: 0.0459969\ttotal: 10.2s\tremaining: 8.57s\n",
      "544:\tlearn: 0.0459660\ttotal: 10.2s\tremaining: 8.55s\n",
      "545:\tlearn: 0.0459256\ttotal: 10.3s\tremaining: 8.53s\n",
      "546:\tlearn: 0.0458982\ttotal: 10.3s\tremaining: 8.5s\n",
      "547:\tlearn: 0.0458412\ttotal: 10.3s\tremaining: 8.49s\n",
      "548:\tlearn: 0.0457799\ttotal: 10.3s\tremaining: 8.47s\n",
      "549:\tlearn: 0.0457563\ttotal: 10.3s\tremaining: 8.45s\n",
      "550:\tlearn: 0.0457318\ttotal: 10.3s\tremaining: 8.42s\n",
      "551:\tlearn: 0.0456876\ttotal: 10.3s\tremaining: 8.4s\n",
      "552:\tlearn: 0.0456654\ttotal: 10.4s\tremaining: 8.38s\n",
      "553:\tlearn: 0.0456326\ttotal: 10.4s\tremaining: 8.36s\n",
      "554:\tlearn: 0.0455952\ttotal: 10.4s\tremaining: 8.33s\n",
      "555:\tlearn: 0.0455696\ttotal: 10.4s\tremaining: 8.31s\n",
      "556:\tlearn: 0.0455402\ttotal: 10.4s\tremaining: 8.29s\n",
      "557:\tlearn: 0.0455030\ttotal: 10.4s\tremaining: 8.27s\n",
      "558:\tlearn: 0.0454815\ttotal: 10.4s\tremaining: 8.24s\n",
      "559:\tlearn: 0.0454717\ttotal: 10.5s\tremaining: 8.22s\n",
      "560:\tlearn: 0.0454506\ttotal: 10.5s\tremaining: 8.2s\n",
      "561:\tlearn: 0.0454387\ttotal: 10.5s\tremaining: 8.17s\n",
      "562:\tlearn: 0.0454213\ttotal: 10.5s\tremaining: 8.16s\n",
      "563:\tlearn: 0.0454088\ttotal: 10.5s\tremaining: 8.14s\n",
      "564:\tlearn: 0.0453871\ttotal: 10.5s\tremaining: 8.11s\n",
      "565:\tlearn: 0.0453470\ttotal: 10.6s\tremaining: 8.09s\n",
      "566:\tlearn: 0.0453109\ttotal: 10.6s\tremaining: 8.07s\n",
      "567:\tlearn: 0.0452804\ttotal: 10.6s\tremaining: 8.05s\n",
      "568:\tlearn: 0.0452655\ttotal: 10.6s\tremaining: 8.02s\n",
      "569:\tlearn: 0.0452123\ttotal: 10.6s\tremaining: 8s\n",
      "570:\tlearn: 0.0451918\ttotal: 10.6s\tremaining: 7.98s\n",
      "571:\tlearn: 0.0451662\ttotal: 10.6s\tremaining: 7.96s\n",
      "572:\tlearn: 0.0451509\ttotal: 10.6s\tremaining: 7.93s\n",
      "573:\tlearn: 0.0451323\ttotal: 10.7s\tremaining: 7.91s\n",
      "574:\tlearn: 0.0451067\ttotal: 10.7s\tremaining: 7.89s\n",
      "575:\tlearn: 0.0450665\ttotal: 10.7s\tremaining: 7.87s\n",
      "576:\tlearn: 0.0450400\ttotal: 10.7s\tremaining: 7.85s\n",
      "577:\tlearn: 0.0450152\ttotal: 10.7s\tremaining: 7.83s\n",
      "578:\tlearn: 0.0450034\ttotal: 10.7s\tremaining: 7.81s\n",
      "579:\tlearn: 0.0449871\ttotal: 10.8s\tremaining: 7.79s\n",
      "580:\tlearn: 0.0449709\ttotal: 10.8s\tremaining: 7.77s\n",
      "581:\tlearn: 0.0449440\ttotal: 10.8s\tremaining: 7.75s\n",
      "582:\tlearn: 0.0449208\ttotal: 10.8s\tremaining: 7.72s\n",
      "583:\tlearn: 0.0449119\ttotal: 10.8s\tremaining: 7.7s\n",
      "584:\tlearn: 0.0448882\ttotal: 10.8s\tremaining: 7.68s\n",
      "585:\tlearn: 0.0448665\ttotal: 10.8s\tremaining: 7.66s\n",
      "586:\tlearn: 0.0448450\ttotal: 10.9s\tremaining: 7.63s\n",
      "587:\tlearn: 0.0448322\ttotal: 10.9s\tremaining: 7.61s\n",
      "588:\tlearn: 0.0448156\ttotal: 10.9s\tremaining: 7.59s\n",
      "589:\tlearn: 0.0448009\ttotal: 10.9s\tremaining: 7.57s\n",
      "590:\tlearn: 0.0447829\ttotal: 10.9s\tremaining: 7.54s\n",
      "591:\tlearn: 0.0447541\ttotal: 10.9s\tremaining: 7.52s\n",
      "592:\tlearn: 0.0447193\ttotal: 10.9s\tremaining: 7.5s\n",
      "593:\tlearn: 0.0447033\ttotal: 11s\tremaining: 7.49s\n",
      "594:\tlearn: 0.0446608\ttotal: 11s\tremaining: 7.47s\n",
      "595:\tlearn: 0.0446089\ttotal: 11s\tremaining: 7.45s\n",
      "596:\tlearn: 0.0445843\ttotal: 11s\tremaining: 7.42s\n",
      "597:\tlearn: 0.0445670\ttotal: 11s\tremaining: 7.4s\n",
      "598:\tlearn: 0.0445294\ttotal: 11s\tremaining: 7.38s\n",
      "599:\tlearn: 0.0445081\ttotal: 11s\tremaining: 7.36s\n",
      "600:\tlearn: 0.0444849\ttotal: 11.1s\tremaining: 7.34s\n",
      "601:\tlearn: 0.0444589\ttotal: 11.1s\tremaining: 7.32s\n",
      "602:\tlearn: 0.0444314\ttotal: 11.1s\tremaining: 7.29s\n",
      "603:\tlearn: 0.0444068\ttotal: 11.1s\tremaining: 7.27s\n",
      "604:\tlearn: 0.0443966\ttotal: 11.1s\tremaining: 7.25s\n",
      "605:\tlearn: 0.0443604\ttotal: 11.1s\tremaining: 7.23s\n",
      "606:\tlearn: 0.0443289\ttotal: 11.1s\tremaining: 7.21s\n",
      "607:\tlearn: 0.0442990\ttotal: 11.2s\tremaining: 7.19s\n",
      "608:\tlearn: 0.0442774\ttotal: 11.2s\tremaining: 7.17s\n",
      "609:\tlearn: 0.0442547\ttotal: 11.2s\tremaining: 7.15s\n",
      "610:\tlearn: 0.0442259\ttotal: 11.2s\tremaining: 7.13s\n",
      "611:\tlearn: 0.0441995\ttotal: 11.2s\tremaining: 7.11s\n",
      "612:\tlearn: 0.0441676\ttotal: 11.2s\tremaining: 7.09s\n",
      "613:\tlearn: 0.0441420\ttotal: 11.2s\tremaining: 7.07s\n",
      "614:\tlearn: 0.0440991\ttotal: 11.3s\tremaining: 7.05s\n",
      "615:\tlearn: 0.0440560\ttotal: 11.3s\tremaining: 7.03s\n",
      "616:\tlearn: 0.0439909\ttotal: 11.3s\tremaining: 7.02s\n",
      "617:\tlearn: 0.0439612\ttotal: 11.4s\tremaining: 7.02s\n",
      "618:\tlearn: 0.0439478\ttotal: 11.4s\tremaining: 7.01s\n",
      "619:\tlearn: 0.0439232\ttotal: 11.4s\tremaining: 7.01s\n",
      "620:\tlearn: 0.0439078\ttotal: 11.5s\tremaining: 7s\n",
      "621:\tlearn: 0.0438645\ttotal: 11.5s\tremaining: 6.99s\n",
      "622:\tlearn: 0.0438458\ttotal: 11.5s\tremaining: 6.98s\n",
      "623:\tlearn: 0.0438207\ttotal: 11.6s\tremaining: 6.98s\n",
      "624:\tlearn: 0.0438002\ttotal: 11.6s\tremaining: 6.97s\n",
      "625:\tlearn: 0.0437472\ttotal: 11.7s\tremaining: 6.96s\n",
      "626:\tlearn: 0.0437242\ttotal: 11.7s\tremaining: 6.96s\n",
      "627:\tlearn: 0.0437065\ttotal: 11.7s\tremaining: 6.95s\n",
      "628:\tlearn: 0.0436908\ttotal: 11.8s\tremaining: 6.94s\n",
      "629:\tlearn: 0.0436733\ttotal: 11.8s\tremaining: 6.93s\n",
      "630:\tlearn: 0.0436435\ttotal: 11.8s\tremaining: 6.92s\n",
      "631:\tlearn: 0.0436144\ttotal: 11.9s\tremaining: 6.91s\n",
      "632:\tlearn: 0.0435980\ttotal: 11.9s\tremaining: 6.9s\n",
      "633:\tlearn: 0.0435661\ttotal: 11.9s\tremaining: 6.89s\n",
      "634:\tlearn: 0.0435471\ttotal: 12s\tremaining: 6.88s\n",
      "635:\tlearn: 0.0435213\ttotal: 12s\tremaining: 6.87s\n",
      "636:\tlearn: 0.0435009\ttotal: 12s\tremaining: 6.86s\n",
      "637:\tlearn: 0.0434912\ttotal: 12.1s\tremaining: 6.85s\n",
      "638:\tlearn: 0.0434631\ttotal: 12.1s\tremaining: 6.84s\n",
      "639:\tlearn: 0.0434435\ttotal: 12.1s\tremaining: 6.82s\n",
      "640:\tlearn: 0.0434302\ttotal: 12.2s\tremaining: 6.8s\n",
      "641:\tlearn: 0.0434083\ttotal: 12.2s\tremaining: 6.79s\n",
      "642:\tlearn: 0.0433778\ttotal: 12.2s\tremaining: 6.77s\n",
      "643:\tlearn: 0.0433508\ttotal: 12.2s\tremaining: 6.76s\n",
      "644:\tlearn: 0.0433298\ttotal: 12.2s\tremaining: 6.74s\n",
      "645:\tlearn: 0.0433022\ttotal: 12.3s\tremaining: 6.72s\n",
      "646:\tlearn: 0.0432716\ttotal: 12.3s\tremaining: 6.7s\n",
      "647:\tlearn: 0.0432304\ttotal: 12.3s\tremaining: 6.68s\n",
      "648:\tlearn: 0.0432076\ttotal: 12.3s\tremaining: 6.66s\n",
      "649:\tlearn: 0.0431638\ttotal: 12.3s\tremaining: 6.63s\n",
      "650:\tlearn: 0.0431142\ttotal: 12.3s\tremaining: 6.61s\n",
      "651:\tlearn: 0.0430850\ttotal: 12.4s\tremaining: 6.59s\n",
      "652:\tlearn: 0.0430684\ttotal: 12.4s\tremaining: 6.57s\n",
      "653:\tlearn: 0.0430450\ttotal: 12.4s\tremaining: 6.55s\n",
      "654:\tlearn: 0.0430234\ttotal: 12.4s\tremaining: 6.53s\n",
      "655:\tlearn: 0.0429695\ttotal: 12.4s\tremaining: 6.51s\n",
      "656:\tlearn: 0.0429443\ttotal: 12.4s\tremaining: 6.49s\n",
      "657:\tlearn: 0.0429311\ttotal: 12.5s\tremaining: 6.47s\n",
      "658:\tlearn: 0.0429140\ttotal: 12.5s\tremaining: 6.45s\n",
      "659:\tlearn: 0.0428833\ttotal: 12.5s\tremaining: 6.43s\n",
      "660:\tlearn: 0.0428699\ttotal: 12.5s\tremaining: 6.41s\n",
      "661:\tlearn: 0.0428455\ttotal: 12.5s\tremaining: 6.39s\n",
      "662:\tlearn: 0.0428333\ttotal: 12.5s\tremaining: 6.37s\n",
      "663:\tlearn: 0.0428095\ttotal: 12.6s\tremaining: 6.35s\n",
      "664:\tlearn: 0.0427985\ttotal: 12.6s\tremaining: 6.33s\n",
      "665:\tlearn: 0.0427827\ttotal: 12.6s\tremaining: 6.31s\n",
      "666:\tlearn: 0.0427586\ttotal: 12.6s\tremaining: 6.29s\n"
     ]
    },
    {
     "name": "stdout",
     "output_type": "stream",
     "text": [
      "667:\tlearn: 0.0427380\ttotal: 12.6s\tremaining: 6.28s\n",
      "668:\tlearn: 0.0427178\ttotal: 12.7s\tremaining: 6.26s\n",
      "669:\tlearn: 0.0426963\ttotal: 12.7s\tremaining: 6.24s\n",
      "670:\tlearn: 0.0426790\ttotal: 12.7s\tremaining: 6.22s\n",
      "671:\tlearn: 0.0426627\ttotal: 12.7s\tremaining: 6.2s\n",
      "672:\tlearn: 0.0426223\ttotal: 12.7s\tremaining: 6.19s\n",
      "673:\tlearn: 0.0425953\ttotal: 12.8s\tremaining: 6.17s\n",
      "674:\tlearn: 0.0425819\ttotal: 12.8s\tremaining: 6.14s\n",
      "675:\tlearn: 0.0425603\ttotal: 12.8s\tremaining: 6.12s\n",
      "676:\tlearn: 0.0425503\ttotal: 12.8s\tremaining: 6.1s\n",
      "677:\tlearn: 0.0425291\ttotal: 12.8s\tremaining: 6.08s\n",
      "678:\tlearn: 0.0425125\ttotal: 12.8s\tremaining: 6.06s\n",
      "679:\tlearn: 0.0424876\ttotal: 12.8s\tremaining: 6.04s\n",
      "680:\tlearn: 0.0424676\ttotal: 12.9s\tremaining: 6.02s\n",
      "681:\tlearn: 0.0424323\ttotal: 12.9s\tremaining: 6s\n",
      "682:\tlearn: 0.0423936\ttotal: 12.9s\tremaining: 5.98s\n",
      "683:\tlearn: 0.0423765\ttotal: 12.9s\tremaining: 5.96s\n",
      "684:\tlearn: 0.0423594\ttotal: 12.9s\tremaining: 5.93s\n",
      "685:\tlearn: 0.0423391\ttotal: 12.9s\tremaining: 5.92s\n",
      "686:\tlearn: 0.0423154\ttotal: 12.9s\tremaining: 5.89s\n",
      "687:\tlearn: 0.0422937\ttotal: 12.9s\tremaining: 5.87s\n",
      "688:\tlearn: 0.0422682\ttotal: 13s\tremaining: 5.85s\n",
      "689:\tlearn: 0.0422576\ttotal: 13s\tremaining: 5.83s\n",
      "690:\tlearn: 0.0421982\ttotal: 13s\tremaining: 5.81s\n",
      "691:\tlearn: 0.0421842\ttotal: 13s\tremaining: 5.79s\n",
      "692:\tlearn: 0.0421576\ttotal: 13s\tremaining: 5.76s\n",
      "693:\tlearn: 0.0421475\ttotal: 13s\tremaining: 5.74s\n",
      "694:\tlearn: 0.0421118\ttotal: 13s\tremaining: 5.73s\n",
      "695:\tlearn: 0.0420808\ttotal: 13.1s\tremaining: 5.71s\n",
      "696:\tlearn: 0.0420564\ttotal: 13.1s\tremaining: 5.68s\n",
      "697:\tlearn: 0.0420463\ttotal: 13.1s\tremaining: 5.66s\n",
      "698:\tlearn: 0.0420309\ttotal: 13.1s\tremaining: 5.64s\n",
      "699:\tlearn: 0.0420156\ttotal: 13.1s\tremaining: 5.62s\n",
      "700:\tlearn: 0.0419871\ttotal: 13.1s\tremaining: 5.6s\n",
      "701:\tlearn: 0.0419674\ttotal: 13.1s\tremaining: 5.58s\n",
      "702:\tlearn: 0.0419476\ttotal: 13.2s\tremaining: 5.56s\n",
      "703:\tlearn: 0.0419234\ttotal: 13.2s\tremaining: 5.54s\n",
      "704:\tlearn: 0.0418981\ttotal: 13.2s\tremaining: 5.52s\n",
      "705:\tlearn: 0.0418810\ttotal: 13.2s\tremaining: 5.5s\n",
      "706:\tlearn: 0.0418474\ttotal: 13.2s\tremaining: 5.47s\n",
      "707:\tlearn: 0.0418226\ttotal: 13.2s\tremaining: 5.45s\n",
      "708:\tlearn: 0.0418066\ttotal: 13.2s\tremaining: 5.43s\n",
      "709:\tlearn: 0.0417934\ttotal: 13.3s\tremaining: 5.41s\n",
      "710:\tlearn: 0.0417685\ttotal: 13.3s\tremaining: 5.39s\n",
      "711:\tlearn: 0.0417434\ttotal: 13.3s\tremaining: 5.37s\n",
      "712:\tlearn: 0.0417118\ttotal: 13.3s\tremaining: 5.35s\n",
      "713:\tlearn: 0.0416844\ttotal: 13.3s\tremaining: 5.33s\n",
      "714:\tlearn: 0.0416626\ttotal: 13.3s\tremaining: 5.31s\n",
      "715:\tlearn: 0.0416404\ttotal: 13.3s\tremaining: 5.29s\n",
      "716:\tlearn: 0.0416298\ttotal: 13.4s\tremaining: 5.27s\n",
      "717:\tlearn: 0.0416118\ttotal: 13.4s\tremaining: 5.25s\n",
      "718:\tlearn: 0.0415989\ttotal: 13.4s\tremaining: 5.23s\n",
      "719:\tlearn: 0.0415657\ttotal: 13.4s\tremaining: 5.21s\n",
      "720:\tlearn: 0.0415414\ttotal: 13.4s\tremaining: 5.19s\n",
      "721:\tlearn: 0.0415276\ttotal: 13.4s\tremaining: 5.17s\n",
      "722:\tlearn: 0.0415196\ttotal: 13.4s\tremaining: 5.15s\n",
      "723:\tlearn: 0.0415101\ttotal: 13.5s\tremaining: 5.13s\n",
      "724:\tlearn: 0.0414933\ttotal: 13.5s\tremaining: 5.11s\n",
      "725:\tlearn: 0.0414782\ttotal: 13.5s\tremaining: 5.09s\n",
      "726:\tlearn: 0.0414491\ttotal: 13.5s\tremaining: 5.07s\n",
      "727:\tlearn: 0.0414298\ttotal: 13.5s\tremaining: 5.05s\n",
      "728:\tlearn: 0.0413872\ttotal: 13.5s\tremaining: 5.03s\n",
      "729:\tlearn: 0.0413694\ttotal: 13.6s\tremaining: 5.01s\n",
      "730:\tlearn: 0.0413360\ttotal: 13.6s\tremaining: 4.99s\n",
      "731:\tlearn: 0.0413185\ttotal: 13.6s\tremaining: 4.97s\n",
      "732:\tlearn: 0.0413014\ttotal: 13.6s\tremaining: 4.95s\n",
      "733:\tlearn: 0.0412823\ttotal: 13.6s\tremaining: 4.93s\n",
      "734:\tlearn: 0.0412570\ttotal: 13.6s\tremaining: 4.91s\n",
      "735:\tlearn: 0.0412389\ttotal: 13.6s\tremaining: 4.89s\n",
      "736:\tlearn: 0.0412243\ttotal: 13.6s\tremaining: 4.87s\n",
      "737:\tlearn: 0.0412084\ttotal: 13.7s\tremaining: 4.85s\n",
      "738:\tlearn: 0.0411842\ttotal: 13.7s\tremaining: 4.83s\n",
      "739:\tlearn: 0.0411511\ttotal: 13.7s\tremaining: 4.81s\n",
      "740:\tlearn: 0.0411180\ttotal: 13.7s\tremaining: 4.79s\n",
      "741:\tlearn: 0.0410941\ttotal: 13.7s\tremaining: 4.77s\n",
      "742:\tlearn: 0.0410674\ttotal: 13.7s\tremaining: 4.75s\n",
      "743:\tlearn: 0.0410472\ttotal: 13.8s\tremaining: 4.73s\n",
      "744:\tlearn: 0.0410332\ttotal: 13.8s\tremaining: 4.71s\n",
      "745:\tlearn: 0.0410126\ttotal: 13.8s\tremaining: 4.69s\n",
      "746:\tlearn: 0.0409906\ttotal: 13.8s\tremaining: 4.67s\n",
      "747:\tlearn: 0.0409597\ttotal: 13.8s\tremaining: 4.65s\n",
      "748:\tlearn: 0.0409403\ttotal: 13.8s\tremaining: 4.63s\n",
      "749:\tlearn: 0.0409291\ttotal: 13.8s\tremaining: 4.61s\n",
      "750:\tlearn: 0.0409080\ttotal: 13.8s\tremaining: 4.59s\n",
      "751:\tlearn: 0.0408804\ttotal: 13.9s\tremaining: 4.57s\n",
      "752:\tlearn: 0.0408697\ttotal: 13.9s\tremaining: 4.55s\n",
      "753:\tlearn: 0.0408621\ttotal: 13.9s\tremaining: 4.53s\n",
      "754:\tlearn: 0.0407986\ttotal: 13.9s\tremaining: 4.51s\n",
      "755:\tlearn: 0.0407701\ttotal: 13.9s\tremaining: 4.49s\n",
      "756:\tlearn: 0.0407557\ttotal: 13.9s\tremaining: 4.47s\n",
      "757:\tlearn: 0.0407318\ttotal: 13.9s\tremaining: 4.45s\n",
      "758:\tlearn: 0.0407130\ttotal: 14s\tremaining: 4.43s\n",
      "759:\tlearn: 0.0406842\ttotal: 14s\tremaining: 4.41s\n",
      "760:\tlearn: 0.0406707\ttotal: 14s\tremaining: 4.39s\n",
      "761:\tlearn: 0.0406597\ttotal: 14s\tremaining: 4.37s\n",
      "762:\tlearn: 0.0406477\ttotal: 14s\tremaining: 4.35s\n",
      "763:\tlearn: 0.0406273\ttotal: 14s\tremaining: 4.33s\n",
      "764:\tlearn: 0.0406143\ttotal: 14s\tremaining: 4.31s\n",
      "765:\tlearn: 0.0405944\ttotal: 14.1s\tremaining: 4.29s\n",
      "766:\tlearn: 0.0405591\ttotal: 14.1s\tremaining: 4.27s\n",
      "767:\tlearn: 0.0405250\ttotal: 14.1s\tremaining: 4.25s\n",
      "768:\tlearn: 0.0404912\ttotal: 14.1s\tremaining: 4.24s\n",
      "769:\tlearn: 0.0404704\ttotal: 14.1s\tremaining: 4.22s\n",
      "770:\tlearn: 0.0404542\ttotal: 14.1s\tremaining: 4.2s\n",
      "771:\tlearn: 0.0404311\ttotal: 14.2s\tremaining: 4.18s\n",
      "772:\tlearn: 0.0404017\ttotal: 14.2s\tremaining: 4.16s\n",
      "773:\tlearn: 0.0403881\ttotal: 14.2s\tremaining: 4.14s\n",
      "774:\tlearn: 0.0403705\ttotal: 14.2s\tremaining: 4.12s\n",
      "775:\tlearn: 0.0403520\ttotal: 14.2s\tremaining: 4.1s\n",
      "776:\tlearn: 0.0403073\ttotal: 14.2s\tremaining: 4.08s\n",
      "777:\tlearn: 0.0402951\ttotal: 14.2s\tremaining: 4.06s\n",
      "778:\tlearn: 0.0402765\ttotal: 14.3s\tremaining: 4.04s\n",
      "779:\tlearn: 0.0402632\ttotal: 14.3s\tremaining: 4.02s\n",
      "780:\tlearn: 0.0402400\ttotal: 14.3s\tremaining: 4s\n",
      "781:\tlearn: 0.0402296\ttotal: 14.3s\tremaining: 3.98s\n",
      "782:\tlearn: 0.0402122\ttotal: 14.3s\tremaining: 3.97s\n",
      "783:\tlearn: 0.0401808\ttotal: 14.3s\tremaining: 3.95s\n",
      "784:\tlearn: 0.0401604\ttotal: 14.3s\tremaining: 3.93s\n",
      "785:\tlearn: 0.0401510\ttotal: 14.4s\tremaining: 3.91s\n",
      "786:\tlearn: 0.0401222\ttotal: 14.4s\tremaining: 3.89s\n",
      "787:\tlearn: 0.0400996\ttotal: 14.4s\tremaining: 3.87s\n",
      "788:\tlearn: 0.0400755\ttotal: 14.4s\tremaining: 3.85s\n",
      "789:\tlearn: 0.0400506\ttotal: 14.4s\tremaining: 3.83s\n",
      "790:\tlearn: 0.0400306\ttotal: 14.4s\tremaining: 3.81s\n",
      "791:\tlearn: 0.0399919\ttotal: 14.4s\tremaining: 3.79s\n",
      "792:\tlearn: 0.0399720\ttotal: 14.5s\tremaining: 3.77s\n",
      "793:\tlearn: 0.0399581\ttotal: 14.5s\tremaining: 3.75s\n",
      "794:\tlearn: 0.0399416\ttotal: 14.5s\tremaining: 3.73s\n",
      "795:\tlearn: 0.0399099\ttotal: 14.5s\tremaining: 3.71s\n",
      "796:\tlearn: 0.0398920\ttotal: 14.5s\tremaining: 3.7s\n",
      "797:\tlearn: 0.0398712\ttotal: 14.5s\tremaining: 3.68s\n",
      "798:\tlearn: 0.0398560\ttotal: 14.6s\tremaining: 3.66s\n",
      "799:\tlearn: 0.0398406\ttotal: 14.6s\tremaining: 3.64s\n",
      "800:\tlearn: 0.0398103\ttotal: 14.6s\tremaining: 3.62s\n",
      "801:\tlearn: 0.0398000\ttotal: 14.6s\tremaining: 3.6s\n",
      "802:\tlearn: 0.0397879\ttotal: 14.6s\tremaining: 3.58s\n",
      "803:\tlearn: 0.0397685\ttotal: 14.6s\tremaining: 3.56s\n",
      "804:\tlearn: 0.0397583\ttotal: 14.6s\tremaining: 3.54s\n",
      "805:\tlearn: 0.0397151\ttotal: 14.6s\tremaining: 3.52s\n",
      "806:\tlearn: 0.0396925\ttotal: 14.7s\tremaining: 3.51s\n",
      "807:\tlearn: 0.0396783\ttotal: 14.7s\tremaining: 3.49s\n",
      "808:\tlearn: 0.0396643\ttotal: 14.7s\tremaining: 3.47s\n",
      "809:\tlearn: 0.0396490\ttotal: 14.7s\tremaining: 3.45s\n",
      "810:\tlearn: 0.0396392\ttotal: 14.7s\tremaining: 3.43s\n",
      "811:\tlearn: 0.0396054\ttotal: 14.7s\tremaining: 3.41s\n",
      "812:\tlearn: 0.0395952\ttotal: 14.8s\tremaining: 3.39s\n",
      "813:\tlearn: 0.0395812\ttotal: 14.8s\tremaining: 3.37s\n",
      "814:\tlearn: 0.0395583\ttotal: 14.8s\tremaining: 3.35s\n",
      "815:\tlearn: 0.0395426\ttotal: 14.8s\tremaining: 3.34s\n",
      "816:\tlearn: 0.0395089\ttotal: 14.8s\tremaining: 3.32s\n",
      "817:\tlearn: 0.0394821\ttotal: 14.8s\tremaining: 3.3s\n",
      "818:\tlearn: 0.0394622\ttotal: 14.8s\tremaining: 3.28s\n",
      "819:\tlearn: 0.0394478\ttotal: 14.8s\tremaining: 3.26s\n",
      "820:\tlearn: 0.0394307\ttotal: 14.9s\tremaining: 3.24s\n",
      "821:\tlearn: 0.0393973\ttotal: 14.9s\tremaining: 3.22s\n",
      "822:\tlearn: 0.0393715\ttotal: 14.9s\tremaining: 3.2s\n",
      "823:\tlearn: 0.0393307\ttotal: 14.9s\tremaining: 3.18s\n",
      "824:\tlearn: 0.0392931\ttotal: 14.9s\tremaining: 3.16s\n",
      "825:\tlearn: 0.0392800\ttotal: 14.9s\tremaining: 3.15s\n",
      "826:\tlearn: 0.0392629\ttotal: 15s\tremaining: 3.13s\n",
      "827:\tlearn: 0.0392435\ttotal: 15s\tremaining: 3.11s\n",
      "828:\tlearn: 0.0392339\ttotal: 15s\tremaining: 3.09s\n",
      "829:\tlearn: 0.0392197\ttotal: 15s\tremaining: 3.07s\n",
      "830:\tlearn: 0.0391820\ttotal: 15s\tremaining: 3.05s\n",
      "831:\tlearn: 0.0391637\ttotal: 15s\tremaining: 3.03s\n",
      "832:\tlearn: 0.0391549\ttotal: 15s\tremaining: 3.01s\n",
      "833:\tlearn: 0.0391227\ttotal: 15s\tremaining: 3s\n",
      "834:\tlearn: 0.0391033\ttotal: 15.1s\tremaining: 2.98s\n",
      "835:\tlearn: 0.0390855\ttotal: 15.1s\tremaining: 2.96s\n",
      "836:\tlearn: 0.0390742\ttotal: 15.1s\tremaining: 2.94s\n",
      "837:\tlearn: 0.0390538\ttotal: 15.1s\tremaining: 2.92s\n",
      "838:\tlearn: 0.0390343\ttotal: 15.1s\tremaining: 2.9s\n",
      "839:\tlearn: 0.0390213\ttotal: 15.1s\tremaining: 2.88s\n"
     ]
    },
    {
     "name": "stdout",
     "output_type": "stream",
     "text": [
      "840:\tlearn: 0.0389961\ttotal: 15.2s\tremaining: 2.86s\n",
      "841:\tlearn: 0.0389840\ttotal: 15.2s\tremaining: 2.85s\n",
      "842:\tlearn: 0.0389659\ttotal: 15.2s\tremaining: 2.83s\n",
      "843:\tlearn: 0.0389536\ttotal: 15.2s\tremaining: 2.81s\n",
      "844:\tlearn: 0.0389276\ttotal: 15.2s\tremaining: 2.79s\n",
      "845:\tlearn: 0.0389089\ttotal: 15.2s\tremaining: 2.77s\n",
      "846:\tlearn: 0.0389009\ttotal: 15.2s\tremaining: 2.75s\n",
      "847:\tlearn: 0.0388874\ttotal: 15.2s\tremaining: 2.73s\n",
      "848:\tlearn: 0.0388718\ttotal: 15.3s\tremaining: 2.71s\n",
      "849:\tlearn: 0.0388519\ttotal: 15.3s\tremaining: 2.7s\n",
      "850:\tlearn: 0.0388354\ttotal: 15.3s\tremaining: 2.68s\n",
      "851:\tlearn: 0.0388071\ttotal: 15.3s\tremaining: 2.66s\n",
      "852:\tlearn: 0.0387973\ttotal: 15.3s\tremaining: 2.64s\n",
      "853:\tlearn: 0.0387837\ttotal: 15.3s\tremaining: 2.62s\n",
      "854:\tlearn: 0.0387638\ttotal: 15.3s\tremaining: 2.6s\n",
      "855:\tlearn: 0.0387509\ttotal: 15.4s\tremaining: 2.58s\n",
      "856:\tlearn: 0.0387390\ttotal: 15.4s\tremaining: 2.57s\n",
      "857:\tlearn: 0.0387263\ttotal: 15.4s\tremaining: 2.55s\n",
      "858:\tlearn: 0.0386988\ttotal: 15.4s\tremaining: 2.53s\n",
      "859:\tlearn: 0.0386613\ttotal: 15.4s\tremaining: 2.51s\n",
      "860:\tlearn: 0.0386418\ttotal: 15.4s\tremaining: 2.49s\n",
      "861:\tlearn: 0.0386249\ttotal: 15.4s\tremaining: 2.47s\n",
      "862:\tlearn: 0.0386085\ttotal: 15.5s\tremaining: 2.45s\n",
      "863:\tlearn: 0.0385883\ttotal: 15.5s\tremaining: 2.44s\n",
      "864:\tlearn: 0.0385769\ttotal: 15.5s\tremaining: 2.42s\n",
      "865:\tlearn: 0.0385641\ttotal: 15.5s\tremaining: 2.4s\n",
      "866:\tlearn: 0.0385164\ttotal: 15.5s\tremaining: 2.38s\n",
      "867:\tlearn: 0.0385059\ttotal: 15.5s\tremaining: 2.36s\n",
      "868:\tlearn: 0.0384840\ttotal: 15.5s\tremaining: 2.34s\n",
      "869:\tlearn: 0.0384642\ttotal: 15.6s\tremaining: 2.32s\n",
      "870:\tlearn: 0.0384474\ttotal: 15.6s\tremaining: 2.31s\n",
      "871:\tlearn: 0.0384314\ttotal: 15.6s\tremaining: 2.29s\n",
      "872:\tlearn: 0.0384189\ttotal: 15.6s\tremaining: 2.27s\n",
      "873:\tlearn: 0.0384098\ttotal: 15.6s\tremaining: 2.25s\n",
      "874:\tlearn: 0.0383996\ttotal: 15.6s\tremaining: 2.23s\n",
      "875:\tlearn: 0.0383893\ttotal: 15.7s\tremaining: 2.21s\n",
      "876:\tlearn: 0.0383674\ttotal: 15.7s\tremaining: 2.2s\n",
      "877:\tlearn: 0.0383476\ttotal: 15.7s\tremaining: 2.18s\n",
      "878:\tlearn: 0.0383221\ttotal: 15.7s\tremaining: 2.16s\n",
      "879:\tlearn: 0.0382882\ttotal: 15.7s\tremaining: 2.14s\n",
      "880:\tlearn: 0.0382754\ttotal: 15.7s\tremaining: 2.12s\n",
      "881:\tlearn: 0.0382680\ttotal: 15.7s\tremaining: 2.1s\n",
      "882:\tlearn: 0.0382567\ttotal: 15.7s\tremaining: 2.09s\n",
      "883:\tlearn: 0.0382504\ttotal: 15.8s\tremaining: 2.07s\n",
      "884:\tlearn: 0.0382377\ttotal: 15.8s\tremaining: 2.05s\n",
      "885:\tlearn: 0.0382230\ttotal: 15.8s\tremaining: 2.03s\n",
      "886:\tlearn: 0.0382039\ttotal: 15.8s\tremaining: 2.01s\n",
      "887:\tlearn: 0.0381822\ttotal: 15.8s\tremaining: 2s\n",
      "888:\tlearn: 0.0381465\ttotal: 15.8s\tremaining: 1.98s\n",
      "889:\tlearn: 0.0381112\ttotal: 15.8s\tremaining: 1.96s\n",
      "890:\tlearn: 0.0380942\ttotal: 15.9s\tremaining: 1.94s\n",
      "891:\tlearn: 0.0380737\ttotal: 15.9s\tremaining: 1.92s\n",
      "892:\tlearn: 0.0380662\ttotal: 15.9s\tremaining: 1.9s\n",
      "893:\tlearn: 0.0380472\ttotal: 15.9s\tremaining: 1.89s\n",
      "894:\tlearn: 0.0380392\ttotal: 15.9s\tremaining: 1.87s\n",
      "895:\tlearn: 0.0380195\ttotal: 15.9s\tremaining: 1.85s\n",
      "896:\tlearn: 0.0380103\ttotal: 15.9s\tremaining: 1.83s\n",
      "897:\tlearn: 0.0379926\ttotal: 16s\tremaining: 1.81s\n",
      "898:\tlearn: 0.0379867\ttotal: 16s\tremaining: 1.79s\n",
      "899:\tlearn: 0.0379687\ttotal: 16s\tremaining: 1.78s\n",
      "900:\tlearn: 0.0379492\ttotal: 16s\tremaining: 1.76s\n",
      "901:\tlearn: 0.0379405\ttotal: 16s\tremaining: 1.74s\n",
      "902:\tlearn: 0.0379239\ttotal: 16s\tremaining: 1.72s\n",
      "903:\tlearn: 0.0378938\ttotal: 16.1s\tremaining: 1.71s\n",
      "904:\tlearn: 0.0378845\ttotal: 16.1s\tremaining: 1.69s\n",
      "905:\tlearn: 0.0378615\ttotal: 16.1s\tremaining: 1.67s\n",
      "906:\tlearn: 0.0378408\ttotal: 16.1s\tremaining: 1.65s\n",
      "907:\tlearn: 0.0378240\ttotal: 16.1s\tremaining: 1.63s\n",
      "908:\tlearn: 0.0378124\ttotal: 16.1s\tremaining: 1.61s\n",
      "909:\tlearn: 0.0378002\ttotal: 16.1s\tremaining: 1.6s\n",
      "910:\tlearn: 0.0377807\ttotal: 16.2s\tremaining: 1.58s\n",
      "911:\tlearn: 0.0377686\ttotal: 16.2s\tremaining: 1.56s\n",
      "912:\tlearn: 0.0377473\ttotal: 16.2s\tremaining: 1.54s\n",
      "913:\tlearn: 0.0377393\ttotal: 16.2s\tremaining: 1.52s\n",
      "914:\tlearn: 0.0377298\ttotal: 16.2s\tremaining: 1.51s\n",
      "915:\tlearn: 0.0377071\ttotal: 16.2s\tremaining: 1.49s\n",
      "916:\tlearn: 0.0376909\ttotal: 16.3s\tremaining: 1.47s\n",
      "917:\tlearn: 0.0376695\ttotal: 16.3s\tremaining: 1.45s\n",
      "918:\tlearn: 0.0376602\ttotal: 16.3s\tremaining: 1.44s\n",
      "919:\tlearn: 0.0376504\ttotal: 16.3s\tremaining: 1.42s\n",
      "920:\tlearn: 0.0376155\ttotal: 16.3s\tremaining: 1.4s\n",
      "921:\tlearn: 0.0376092\ttotal: 16.3s\tremaining: 1.38s\n",
      "922:\tlearn: 0.0375942\ttotal: 16.3s\tremaining: 1.36s\n",
      "923:\tlearn: 0.0375827\ttotal: 16.3s\tremaining: 1.34s\n",
      "924:\tlearn: 0.0375592\ttotal: 16.4s\tremaining: 1.33s\n",
      "925:\tlearn: 0.0375401\ttotal: 16.4s\tremaining: 1.31s\n",
      "926:\tlearn: 0.0375213\ttotal: 16.4s\tremaining: 1.29s\n",
      "927:\tlearn: 0.0374986\ttotal: 16.4s\tremaining: 1.27s\n",
      "928:\tlearn: 0.0374854\ttotal: 16.4s\tremaining: 1.25s\n",
      "929:\tlearn: 0.0374548\ttotal: 16.4s\tremaining: 1.24s\n",
      "930:\tlearn: 0.0374392\ttotal: 16.5s\tremaining: 1.22s\n",
      "931:\tlearn: 0.0374262\ttotal: 16.5s\tremaining: 1.2s\n",
      "932:\tlearn: 0.0374056\ttotal: 16.5s\tremaining: 1.18s\n",
      "933:\tlearn: 0.0373856\ttotal: 16.5s\tremaining: 1.17s\n",
      "934:\tlearn: 0.0373731\ttotal: 16.5s\tremaining: 1.15s\n",
      "935:\tlearn: 0.0373595\ttotal: 16.5s\tremaining: 1.13s\n",
      "936:\tlearn: 0.0373441\ttotal: 16.5s\tremaining: 1.11s\n",
      "937:\tlearn: 0.0373327\ttotal: 16.6s\tremaining: 1.09s\n",
      "938:\tlearn: 0.0373152\ttotal: 16.6s\tremaining: 1.08s\n",
      "939:\tlearn: 0.0373054\ttotal: 16.6s\tremaining: 1.06s\n",
      "940:\tlearn: 0.0372867\ttotal: 16.6s\tremaining: 1.04s\n",
      "941:\tlearn: 0.0372634\ttotal: 16.6s\tremaining: 1.02s\n",
      "942:\tlearn: 0.0372462\ttotal: 16.6s\tremaining: 1s\n",
      "943:\tlearn: 0.0372312\ttotal: 16.6s\tremaining: 988ms\n",
      "944:\tlearn: 0.0372163\ttotal: 16.7s\tremaining: 970ms\n",
      "945:\tlearn: 0.0372029\ttotal: 16.7s\tremaining: 952ms\n",
      "946:\tlearn: 0.0371735\ttotal: 16.7s\tremaining: 934ms\n",
      "947:\tlearn: 0.0371631\ttotal: 16.7s\tremaining: 916ms\n",
      "948:\tlearn: 0.0371527\ttotal: 16.7s\tremaining: 898ms\n",
      "949:\tlearn: 0.0371393\ttotal: 16.7s\tremaining: 881ms\n",
      "950:\tlearn: 0.0371154\ttotal: 16.7s\tremaining: 863ms\n",
      "951:\tlearn: 0.0371067\ttotal: 16.8s\tremaining: 845ms\n",
      "952:\tlearn: 0.0370997\ttotal: 16.8s\tremaining: 827ms\n",
      "953:\tlearn: 0.0370865\ttotal: 16.8s\tremaining: 810ms\n",
      "954:\tlearn: 0.0370633\ttotal: 16.8s\tremaining: 792ms\n",
      "955:\tlearn: 0.0370432\ttotal: 16.8s\tremaining: 774ms\n",
      "956:\tlearn: 0.0370293\ttotal: 16.8s\tremaining: 756ms\n",
      "957:\tlearn: 0.0370219\ttotal: 16.8s\tremaining: 739ms\n",
      "958:\tlearn: 0.0370048\ttotal: 16.9s\tremaining: 721ms\n",
      "959:\tlearn: 0.0369855\ttotal: 16.9s\tremaining: 703ms\n",
      "960:\tlearn: 0.0369606\ttotal: 16.9s\tremaining: 686ms\n",
      "961:\tlearn: 0.0369432\ttotal: 16.9s\tremaining: 668ms\n",
      "962:\tlearn: 0.0369329\ttotal: 16.9s\tremaining: 650ms\n",
      "963:\tlearn: 0.0369200\ttotal: 16.9s\tremaining: 632ms\n",
      "964:\tlearn: 0.0369001\ttotal: 16.9s\tremaining: 615ms\n",
      "965:\tlearn: 0.0368902\ttotal: 17s\tremaining: 597ms\n",
      "966:\tlearn: 0.0368776\ttotal: 17s\tremaining: 579ms\n",
      "967:\tlearn: 0.0368673\ttotal: 17s\tremaining: 562ms\n",
      "968:\tlearn: 0.0368549\ttotal: 17s\tremaining: 544ms\n",
      "969:\tlearn: 0.0368395\ttotal: 17s\tremaining: 526ms\n",
      "970:\tlearn: 0.0368215\ttotal: 17s\tremaining: 509ms\n",
      "971:\tlearn: 0.0367821\ttotal: 17s\tremaining: 491ms\n",
      "972:\tlearn: 0.0367599\ttotal: 17.1s\tremaining: 473ms\n",
      "973:\tlearn: 0.0367437\ttotal: 17.1s\tremaining: 456ms\n",
      "974:\tlearn: 0.0367240\ttotal: 17.1s\tremaining: 438ms\n",
      "975:\tlearn: 0.0366910\ttotal: 17.1s\tremaining: 421ms\n",
      "976:\tlearn: 0.0366854\ttotal: 17.1s\tremaining: 403ms\n",
      "977:\tlearn: 0.0366520\ttotal: 17.1s\tremaining: 385ms\n",
      "978:\tlearn: 0.0366455\ttotal: 17.1s\tremaining: 368ms\n",
      "979:\tlearn: 0.0366319\ttotal: 17.2s\tremaining: 350ms\n",
      "980:\tlearn: 0.0366106\ttotal: 17.2s\tremaining: 333ms\n",
      "981:\tlearn: 0.0365955\ttotal: 17.2s\tremaining: 315ms\n",
      "982:\tlearn: 0.0365716\ttotal: 17.2s\tremaining: 298ms\n",
      "983:\tlearn: 0.0365424\ttotal: 17.2s\tremaining: 280ms\n",
      "984:\tlearn: 0.0365146\ttotal: 17.2s\tremaining: 262ms\n",
      "985:\tlearn: 0.0364919\ttotal: 17.2s\tremaining: 245ms\n",
      "986:\tlearn: 0.0364780\ttotal: 17.3s\tremaining: 227ms\n",
      "987:\tlearn: 0.0364683\ttotal: 17.3s\tremaining: 210ms\n",
      "988:\tlearn: 0.0364508\ttotal: 17.3s\tremaining: 192ms\n",
      "989:\tlearn: 0.0364342\ttotal: 17.3s\tremaining: 175ms\n",
      "990:\tlearn: 0.0364224\ttotal: 17.3s\tremaining: 157ms\n",
      "991:\tlearn: 0.0364144\ttotal: 17.3s\tremaining: 140ms\n",
      "992:\tlearn: 0.0364055\ttotal: 17.3s\tremaining: 122ms\n",
      "993:\tlearn: 0.0363968\ttotal: 17.4s\tremaining: 105ms\n",
      "994:\tlearn: 0.0363896\ttotal: 17.4s\tremaining: 87.3ms\n",
      "995:\tlearn: 0.0363753\ttotal: 17.4s\tremaining: 69.8ms\n",
      "996:\tlearn: 0.0363597\ttotal: 17.4s\tremaining: 52.4ms\n",
      "997:\tlearn: 0.0363373\ttotal: 17.4s\tremaining: 34.9ms\n",
      "998:\tlearn: 0.0363202\ttotal: 17.4s\tremaining: 17.5ms\n",
      "999:\tlearn: 0.0362955\ttotal: 17.5s\tremaining: 0us\n",
      "0:00:18.121289\n"
     ]
    }
   ],
   "source": [
    "time1 = datetime.now()\n",
    "\n",
    "model = CatBoostClassifier()\n",
    "model.fit(xtrain,ytrain)\n",
    "pred17 = model.predict(xtest)\n",
    "\n",
    "time2 = datetime.now()\n",
    "\n",
    "t.append((time2-time1).total_seconds())\n",
    "\n",
    "d.append(roc_auc_score(pred17,ytest))\n",
    "f.append(f1_score(pred17,ytest))\n",
    "p.append(precision_score(pred17,ytest))\n",
    "r.append(recall_score(pred17,ytest))\n",
    "\n",
    "n.append('CatBoostClassifier')\n",
    "\n",
    "print(time2-time1)"
   ]
  },
  {
   "cell_type": "code",
   "execution_count": 73,
   "metadata": {},
   "outputs": [
    {
     "data": {
      "text/plain": [
       "<matplotlib.axes._subplots.AxesSubplot at 0x1085585c0>"
      ]
     },
     "execution_count": 73,
     "metadata": {},
     "output_type": "execute_result"
    },
    {
     "data": {
      "image/png": "[encoded data removed]",
      "text/plain": [
       "<Figure size 432x288 with 1 Axes>"
      ]
     },
     "metadata": {},
     "output_type": "display_data"
    }
   ],
   "source": [
    "# Feature importance\n",
    "\n",
    "feature_importances = model.get_feature_importance()\n",
    "feature_names = xtrain.columns\n",
    "sbn.barplot(feature_importances,feature_names)"
   ]
  },
  {
   "cell_type": "code",
   "execution_count": 74,
   "metadata": {},
   "outputs": [
    {
     "name": "stdout",
     "output_type": "stream",
     "text": [
      "0.9889774602262458\n",
      "0.9875559955582636\n",
      "0.9881470497964712\n",
      "0.9885746450532962\n"
     ]
    }
   ],
   "source": [
    "print(roc_auc_score(pred17,ytest))\n",
    "print(roc_auc_score(pred15,ytest))\n",
    "print(roc_auc_score(pred13,ytest))\n",
    "print(roc_auc_score(pred3,ytest))"
   ]
  },
  {
   "cell_type": "code",
   "execution_count": 75,
   "metadata": {},
   "outputs": [
    {
     "name": "stdout",
     "output_type": "stream",
     "text": [
      "0.9820253413220704\n",
      "0.9805729984301412\n",
      "0.9825109916951636\n",
      "0.9816396661757486\n"
     ]
    }
   ],
   "source": [
    "print(f1_score(pred17,ytest))\n",
    "print(f1_score(pred15,ytest))\n",
    "print(f1_score(pred13,ytest))\n",
    "print(f1_score(pred3,ytest))"
   ]
  },
  {
   "cell_type": "code",
   "execution_count": 76,
   "metadata": {},
   "outputs": [
    {
     "data": {
      "text/plain": [
       "Text(0.5,1,'ROC AUC Score')"
      ]
     },
     "execution_count": 76,
     "metadata": {},
     "output_type": "execute_result"
    },
    {
     "data": {
      "image/png": "[encoded data removed]",
      "text/plain": [
       "<Figure size 432x288 with 1 Axes>"
      ]
     },
     "metadata": {},
     "output_type": "display_data"
    }
   ],
   "source": [
    "# roc_auc_score\n",
    "sbn.barplot(d,n).set_title(\"ROC AUC Score\")"
   ]
  },
  {
   "cell_type": "code",
   "execution_count": 77,
   "metadata": {},
   "outputs": [
    {
     "data": {
      "text/plain": [
       "Text(0.5,1,'F-1 Score')"
      ]
     },
     "execution_count": 77,
     "metadata": {},
     "output_type": "execute_result"
    },
    {
     "data": {
      "image/png": "[encoded data removed]",
      "text/plain": [
       "<Figure size 432x288 with 1 Axes>"
      ]
     },
     "metadata": {},
     "output_type": "display_data"
    }
   ],
   "source": [
    "# f-1 score\n",
    "sbn.barplot(f,n).set_title(\"F-1 Score\")"
   ]
  },
  {
   "cell_type": "code",
   "execution_count": 78,
   "metadata": {},
   "outputs": [
    {
     "data": {
      "text/plain": [
       "Text(0.5,1,'Precision')"
      ]
     },
     "execution_count": 78,
     "metadata": {},
     "output_type": "execute_result"
    },
    {
     "data": {
      "image/png": "[encoded data removed]",
      "text/plain": [
       "<Figure size 432x288 with 1 Axes>"
      ]
     },
     "metadata": {},
     "output_type": "display_data"
    }
   ],
   "source": [
    "# precision\n",
    "sbn.barplot(p,n).set_title(\"Precision\")"
   ]
  },
  {
   "cell_type": "code",
   "execution_count": 79,
   "metadata": {},
   "outputs": [
    {
     "data": {
      "text/plain": [
       "Text(0.5,1,'Recall')"
      ]
     },
     "execution_count": 79,
     "metadata": {},
     "output_type": "execute_result"
    },
    {
     "data": {
      "image/png": "[encoded data removed]",
      "text/plain": [
       "<Figure size 432x288 with 1 Axes>"
      ]
     },
     "metadata": {},
     "output_type": "display_data"
    }
   ],
   "source": [
    "# recall\n",
    "sbn.barplot(r,n).set_title(\"Recall\")"
   ]
  },
  {
   "cell_type": "code",
   "execution_count": 80,
   "metadata": {},
   "outputs": [
    {
     "data": {
      "text/plain": [
       "Text(0.5,1,'Time Taken')"
      ]
     },
     "execution_count": 80,
     "metadata": {},
     "output_type": "execute_result"
    },
    {
     "data": {
      "image/png": "[encoded data removed]",
      "text/plain": [
       "<Figure size 432x288 with 1 Axes>"
      ]
     },
     "metadata": {},
     "output_type": "display_data"
    }
   ],
   "source": [
    "sbn.barplot(t,n).set_title(\"Time Taken\")"
   ]
  },
  {
   "cell_type": "code",
   "execution_count": null,
   "metadata": {},
   "outputs": [],
   "source": []
  }
 ],
 "metadata": {
  "kernelspec": {
   "display_name": "Python 3",
   "language": "python",
   "name": "python3"
  },
  "language_info": {
   "codemirror_mode": {
    "name": "ipython",
    "version": 3
   },
   "file_extension": ".py",
   "mimetype": "text/x-python",
   "name": "python",
   "nbconvert_exporter": "python",
   "pygments_lexer": "ipython3",
   "version": "3.6.5"
  }
 },
 "nbformat": 4,
 "nbformat_minor": 2
}
